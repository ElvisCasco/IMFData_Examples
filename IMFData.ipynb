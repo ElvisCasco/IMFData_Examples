{
 "cells": [
  {
   "cell_type": "raw",
   "id": "5be5130b",
   "metadata": {},
   "source": [
    "---\n",
    "title: IMFData.jl\n",
    "author: stephenbnicar\n",
    "execute:\n",
    "  echo: true\n",
    "format:\n",
    "  html:\n",
    "    code-fold: true\n",
    "    code-tools: true\n",
    "    toc: true\n",
    "    echo: false\n",
    "keep-ipynb: true\n",
    "---"
   ]
  },
  {
   "cell_type": "markdown",
   "id": "dc91b098",
   "metadata": {},
   "source": [
    "[Code](https://github.com/stephenbnicar/IMFData.jl)\n",
    "\n",
    "[Examples](https://github.com/stephenbnicar/IMFData.jl/blob/master/examples/examples.jl)\n"
   ]
  },
  {
   "cell_type": "code",
   "execution_count": 1,
   "id": "7fee78af",
   "metadata": {},
   "outputs": [
    {
     "data": {
      "text/plain": [
       "\"C:\\\\Directorio_Trabajo\\\\Julia\\\\IMFData\""
      ]
     },
     "execution_count": 2,
     "metadata": {},
     "output_type": "execute_result"
    }
   ],
   "source": [
    "#import Pkg; Pkg.add(\"IMFData\")\n",
    "using CSV, DataFrames, DataFramesMeta, IMFData\n",
    "\n",
    "wd = @__DIR__"
   ]
  },
  {
   "cell_type": "markdown",
   "id": "5a6626bc",
   "metadata": {},
   "source": [
    "# General Functions\n",
    "\n",
    "## Get a list of datasets accessible from the API\n",
    "\n",
    "Note: While the function `get_imf_datasets()` returns a list of all available datasets, currently the module only supports data requests from the International Financial Statistics (IFS) dataset.\n"
   ]
  },
  {
   "cell_type": "code",
   "execution_count": 2,
   "id": "3cd52281",
   "metadata": {},
   "outputs": [
    {
     "data": {
      "text/plain": [
       "\"C:\\\\Directorio_Trabajo\\\\Julia\\\\IMFData/IMFData.csv\""
      ]
     },
     "execution_count": 3,
     "metadata": {},
     "output_type": "execute_result"
    }
   ],
   "source": [
    "# Get a list of datasets accessible from the API:\n",
    "data = IMFData.get_imf_datasets()\n",
    "names(data)\n",
    "data = DataFrames.DataFrame(\n",
    "    dataset_id = data.dataset_id,\n",
    "    dataset_name = data.dataset_name)\n",
    "\n",
    "df = DataFrames.DataFrame([[],[]], [\"dataset_id\", \"dataset_name\"])\n",
    "for i in 1:size(data)[1]\n",
    "    push!(df, (data[i,1],data[i,2]))\n",
    "end\n",
    "df.dataset_id = string.(df.dataset_id)\n",
    "df.dataset_name = string.(df.dataset_name)\n",
    "CSV.write(\n",
    "    wd * \"/IMFData.csv\",\n",
    "    delim = \";\",\n",
    "    df)"
   ]
  },
  {
   "cell_type": "markdown",
   "id": "f48484a7",
   "metadata": {},
   "source": [
    "## Get the list of parameters (\"dimensions\") for a dataset and their values\n"
   ]
  },
  {
   "cell_type": "code",
   "execution_count": 3,
   "id": "ffd7acfa",
   "metadata": {},
   "outputs": [
    {
     "data": {
      "text/plain": [
       "Dict{String, Any} with 2 entries:\n",
       "  \"Parameter Names\"  => \u001b[1m5×2 DataFrame\u001b[0m\u001b[0m…\n",
       "  \"Parameter Values\" => Dict{Any, Any}(\"CL_INDICATOR_IFS\"=>\u001b[1m1679×2 DataFrame\u001b[0m\u001b[0m…"
      ]
     },
     "execution_count": 4,
     "metadata": {},
     "output_type": "execute_result"
    }
   ],
   "source": [
    "ifs_structure = get_imf_datastructure(\"IFS\")"
   ]
  },
  {
   "cell_type": "markdown",
   "id": "3c3f3be0",
   "metadata": {},
   "source": [
    "### Parameter Names\n"
   ]
  },
  {
   "cell_type": "code",
   "execution_count": 4,
   "id": "d441a3fc",
   "metadata": {},
   "outputs": [
    {
     "data": {
      "text/html": [
       "<div><div style = \"float: left;\"><span>5×2 DataFrame</span></div><div style = \"clear: both;\"></div></div><div class = \"data-frame\" style = \"overflow-x: scroll;\"><table class = \"data-frame\" style = \"margin-bottom: 6px;\"><thead><tr class = \"header\"><th class = \"rowNumber\" style = \"font-weight: bold; text-align: right;\">Row</th><th style = \"text-align: left;\">parameter_id</th><th style = \"text-align: left;\">parameter_name</th></tr><tr class = \"subheader headerLastRow\"><th class = \"rowNumber\" style = \"font-weight: bold; text-align: right;\"></th><th title = \"String\" style = \"text-align: left;\">String</th><th title = \"String\" style = \"text-align: left;\">String</th></tr></thead><tbody><tr><td class = \"rowNumber\" style = \"font-weight: bold; text-align: right;\">1</td><td style = \"text-align: left;\">CL_UNIT_MULT</td><td style = \"text-align: left;\">Scale</td></tr><tr><td class = \"rowNumber\" style = \"font-weight: bold; text-align: right;\">2</td><td style = \"text-align: left;\">CL_FREQ</td><td style = \"text-align: left;\">Frequency</td></tr><tr><td class = \"rowNumber\" style = \"font-weight: bold; text-align: right;\">3</td><td style = \"text-align: left;\">CL_AREA_IFS</td><td style = \"text-align: left;\">Geographical Areas</td></tr><tr><td class = \"rowNumber\" style = \"font-weight: bold; text-align: right;\">4</td><td style = \"text-align: left;\">CL_INDICATOR_IFS</td><td style = \"text-align: left;\">Indicator</td></tr><tr><td class = \"rowNumber\" style = \"font-weight: bold; text-align: right;\">5</td><td style = \"text-align: left;\">CL_TIME_FORMAT</td><td style = \"text-align: left;\">Time format</td></tr></tbody></table></div>"
      ],
      "text/latex": [
       "\\begin{tabular}{r|cc}\n",
       "\t& parameter\\_id & parameter\\_name\\\\\n",
       "\t\\hline\n",
       "\t& String & String\\\\\n",
       "\t\\hline\n",
       "\t1 & CL\\_UNIT\\_MULT & Scale \\\\\n",
       "\t2 & CL\\_FREQ & Frequency \\\\\n",
       "\t3 & CL\\_AREA\\_IFS & Geographical Areas \\\\\n",
       "\t4 & CL\\_INDICATOR\\_IFS & Indicator \\\\\n",
       "\t5 & CL\\_TIME\\_FORMAT & Time format \\\\\n",
       "\\end{tabular}\n"
      ],
      "text/plain": [
       "\u001b[1m5×2 DataFrame\u001b[0m\n",
       "\u001b[1m Row \u001b[0m│\u001b[1m parameter_id     \u001b[0m\u001b[1m parameter_name     \u001b[0m\n",
       "     │\u001b[90m String           \u001b[0m\u001b[90m String             \u001b[0m\n",
       "─────┼──────────────────────────────────────\n",
       "   1 │ CL_UNIT_MULT      Scale\n",
       "   2 │ CL_FREQ           Frequency\n",
       "   3 │ CL_AREA_IFS       Geographical Areas\n",
       "   4 │ CL_INDICATOR_IFS  Indicator\n",
       "   5 │ CL_TIME_FORMAT    Time format"
      ]
     },
     "execution_count": 5,
     "metadata": {},
     "output_type": "execute_result"
    }
   ],
   "source": [
    "collect(values(ifs_structure))[1]"
   ]
  },
  {
   "cell_type": "markdown",
   "id": "71538fb5",
   "metadata": {},
   "source": [
    "### Parameter Values\n"
   ]
  },
  {
   "cell_type": "code",
   "execution_count": 5,
   "id": "37b5242e",
   "metadata": {},
   "outputs": [
    {
     "data": {
      "text/plain": [
       "Dict{Any, Any} with 5 entries:\n",
       "  \"CL_INDICATOR_IFS\" => \u001b[1m1679×2 DataFrame\u001b[0m\u001b[0m…\n",
       "  \"CL_UNIT_MULT\"     => \u001b[1m31×2 DataFrame\u001b[0m\u001b[0m…\n",
       "  \"CL_TIME_FORMAT\"   => \u001b[1m6×2 DataFrame\u001b[0m\u001b[0m…\n",
       "  \"CL_AREA_IFS\"      => \u001b[1m278×2 DataFrame\u001b[0m\u001b[0m…\n",
       "  \"CL_FREQ\"          => \u001b[1m6×2 DataFrame\u001b[0m\u001b[0m…"
      ]
     },
     "execution_count": 6,
     "metadata": {},
     "output_type": "execute_result"
    }
   ],
   "source": [
    "collect(values(ifs_structure))[2]"
   ]
  },
  {
   "cell_type": "markdown",
   "id": "5f0a8266",
   "metadata": {},
   "source": [
    "1. \"CL_UNIT_MULT\"\n"
   ]
  },
  {
   "cell_type": "code",
   "execution_count": 6,
   "id": "7830f8fe",
   "metadata": {},
   "outputs": [
    {
     "data": {
      "text/plain": [
       "Pair{Any, Any}(\"CL_UNIT_MULT\", \u001b[1m31×2 DataFrame\u001b[0m\n",
       "\u001b[1m Row \u001b[0m│\u001b[1m parameter_value \u001b[0m\u001b[1m description         \u001b[0m\n",
       "     │\u001b[90m String          \u001b[0m\u001b[90m String              \u001b[0m\n",
       "─────┼──────────────────────────────────────\n",
       "   1 │ 0                Units\n",
       "   2 │ 2                Hundreds\n",
       "   3 │ 3                Thousands\n",
       "   4 │ 6                Millions\n",
       "   5 │ 9                Billions\n",
       "   6 │ 12               Trillions\n",
       "   7 │ N15              Quadrillionths\n",
       "   8 │ N14              Hundred Trillionths\n",
       "   9 │ N13              Ten Trillionths\n",
       "  10 │ N12              Trillionths\n",
       "  11 │ N11              Hundred Billionths\n",
       "  ⋮  │        ⋮                  ⋮\n",
       "  22 │ 1                Tens\n",
       "  23 │ 4                Ten Thousands\n",
       "  24 │ 5                Hundred Thousands\n",
       "  25 │ 7                Ten Millions\n",
       "  26 │ 8                Hundred Millions\n",
       "  27 │ 10               Ten Billions\n",
       "  28 │ 11               Hundred Billions\n",
       "  29 │ 13               Ten Trillions\n",
       "  30 │ 14               Hundred Trillions\n",
       "  31 │ 15               Quadrillions\n",
       "\u001b[36m                             10 rows omitted\u001b[0m)"
      ]
     },
     "execution_count": 7,
     "metadata": {},
     "output_type": "execute_result"
    }
   ],
   "source": [
    "collect(collect(values(ifs_structure))[2])[2]"
   ]
  },
  {
   "cell_type": "markdown",
   "id": "c339ea94",
   "metadata": {},
   "source": [
    "2. \"CL_FREQ\"\n"
   ]
  },
  {
   "cell_type": "code",
   "execution_count": 7,
   "id": "8f3fc359",
   "metadata": {},
   "outputs": [
    {
     "data": {
      "text/plain": [
       "Pair{Any, Any}(\"CL_FREQ\", \u001b[1m6×2 DataFrame\u001b[0m\n",
       "\u001b[1m Row \u001b[0m│\u001b[1m parameter_value \u001b[0m\u001b[1m description \u001b[0m\n",
       "     │\u001b[90m String          \u001b[0m\u001b[90m String      \u001b[0m\n",
       "─────┼──────────────────────────────\n",
       "   1 │ A                Annual\n",
       "   2 │ B                Bi-annual\n",
       "   3 │ Q                Quarterly\n",
       "   4 │ M                Monthly\n",
       "   5 │ D                Daily\n",
       "   6 │ W                Weekly)"
      ]
     },
     "execution_count": 8,
     "metadata": {},
     "output_type": "execute_result"
    }
   ],
   "source": [
    "collect(collect(values(ifs_structure))[2])[5]"
   ]
  },
  {
   "cell_type": "markdown",
   "id": "cb302c97",
   "metadata": {},
   "source": [
    "3. \"CL_AREA_IFS\"\n"
   ]
  },
  {
   "cell_type": "code",
   "execution_count": 8,
   "id": "bf246fca",
   "metadata": {},
   "outputs": [
    {
     "data": {
      "text/plain": [
       "Pair{Any, Any}(\"CL_AREA_IFS\", \u001b[1m278×2 DataFrame\u001b[0m\n",
       "\u001b[1m Row \u001b[0m│\u001b[1m parameter_value \u001b[0m\u001b[1m description                       \u001b[0m\n",
       "     │\u001b[90m String          \u001b[0m\u001b[90m String                            \u001b[0m\n",
       "─────┼────────────────────────────────────────────────────\n",
       "   1 │ AF               Afghanistan\n",
       "   2 │ AL               Albania\n",
       "   3 │ DZ               Algeria\n",
       "   4 │ AD               Andorra\n",
       "   5 │ AO               Angola\n",
       "   6 │ AI               Anguilla\n",
       "   7 │ AG               Antigua and Barbuda\n",
       "   8 │ 5M               AMF (Arab Monetary Fund)\n",
       "   9 │ AR               Argentina\n",
       "  10 │ AM               Armenia\n",
       "  11 │ AW               Aruba\n",
       "  ⋮  │        ⋮                         ⋮\n",
       " 269 │ XR21             Oil-exporting Countries (IMF)\n",
       " 270 │ XA69             Other Central America not alloca…\n",
       " 271 │ 1C_970           Other Holders\n",
       " 272 │ 1C_SRF_less_EMU  SRF (excluding EA)\n",
       " 273 │ 1C_SRF_plus_EMU  SRF (including EA)\n",
       " 274 │ 1C_SRF           SRF Countries\n",
       " 275 │ F6               Sub-Saharan Africa\n",
       " 276 │ 7A               WAEMU (West African Economic and…\n",
       " 277 │ A10              Western Hemisphere\n",
       " 278 │ W00              All Countries, excluding the IO\n",
       "\u001b[36m                                          257 rows omitted\u001b[0m)"
      ]
     },
     "execution_count": 9,
     "metadata": {},
     "output_type": "execute_result"
    }
   ],
   "source": [
    "collect(collect(values(ifs_structure))[2])[4]"
   ]
  },
  {
   "cell_type": "markdown",
   "id": "ec680ecd",
   "metadata": {},
   "source": [
    "4. \"CL_INDICATOR_IFS\"\n"
   ]
  },
  {
   "cell_type": "code",
   "execution_count": 9,
   "id": "16442239",
   "metadata": {},
   "outputs": [
    {
     "data": {
      "text/plain": [
       "Pair{Any, Any}(\"CL_INDICATOR_IFS\", \u001b[1m1679×2 DataFrame\u001b[0m\n",
       "\u001b[1m  Row \u001b[0m│\u001b[1m parameter_value   \u001b[0m\u001b[1m description                       \u001b[0m\n",
       "      │\u001b[90m String            \u001b[0m\u001b[90m String                            \u001b[0m\n",
       "──────┼──────────────────────────────────────────────────────\n",
       "    1 │ NFIAXD_XDC         Acquisitions less Disposals of V…\n",
       "    2 │ NFIAXD_SA_XDC      Acquisitions less Disposals of V…\n",
       "    3 │ NFIAXD_NSA_XDC     Acquisitions less Disposals of V…\n",
       "    4 │ NFIAXD_R_XDC       Acquisitions less Disposals of V…\n",
       "    5 │ NFIAXD_R_SA_XDC    Acquisitions less Disposals of V…\n",
       "    6 │ NFIAXD_R_NSA_XDC   Acquisitions less Disposals of V…\n",
       "    7 │ IAFR_BP6_USD       International Investment Positio…\n",
       "    8 │ IADD_BP6_USD       International Investment Positio…\n",
       "    9 │ IADE_BP6_USD       International Investment Positio…\n",
       "   10 │ IAD_BP6_USD        International Investment Positio…\n",
       "   11 │ IADF_BP6_USD       International Investment Positio…\n",
       "  ⋮   │         ⋮                          ⋮\n",
       " 1670 │ BTCC_BP6_USD       Balance of Payments, Supplementa…\n",
       " 1671 │ RAFA_G_XDR         Total International Reserves, SD…\n",
       " 1672 │ RAFA_G_USD         Total International Reserves, US…\n",
       " 1673 │ RAFA_MV_USD        Total Reserves, US Dollars (Gold…\n",
       " 1674 │ AOTV_PE_NUM        Tourism, Number of Visitors, Per…\n",
       " 1675 │ LU_PE_NUM          Unemployment, Persons, Number of\n",
       " 1676 │ LU_PE_PC_CP_A_PT   Unemployment, Persons, Percentag…\n",
       " 1677 │ LU_PE_PC_PP_PT     Unemployment, Persons, Percentag…\n",
       " 1678 │ 1C_ALL_INDICATORS  All Indicators\n",
       " 1679 │ MFS                Monetary and Financial Statistic…\n",
       "\u001b[36m                                            1658 rows omitted\u001b[0m)"
      ]
     },
     "execution_count": 10,
     "metadata": {},
     "output_type": "execute_result"
    }
   ],
   "source": [
    "collect(collect(values(ifs_structure))[2])[1]"
   ]
  },
  {
   "cell_type": "markdown",
   "id": "68784f10",
   "metadata": {},
   "source": [
    "5. \"CL_TIME_FORMAT\"\n"
   ]
  },
  {
   "cell_type": "code",
   "execution_count": 10,
   "id": "6847a9e1",
   "metadata": {},
   "outputs": [
    {
     "data": {
      "text/plain": [
       "Pair{Any, Any}(\"CL_TIME_FORMAT\", \u001b[1m6×2 DataFrame\u001b[0m\n",
       "\u001b[1m Row \u001b[0m│\u001b[1m parameter_value \u001b[0m\u001b[1m description \u001b[0m\n",
       "     │\u001b[90m String          \u001b[0m\u001b[90m String      \u001b[0m\n",
       "─────┼──────────────────────────────\n",
       "   1 │ P1Y              Annual\n",
       "   2 │ P6M              Bi-annual\n",
       "   3 │ P3M              Quarterly\n",
       "   4 │ P1M              Monthly\n",
       "   5 │ P7D              Weekly\n",
       "   6 │ P1D              Daily)"
      ]
     },
     "execution_count": 11,
     "metadata": {},
     "output_type": "execute_result"
    }
   ],
   "source": [
    "collect(collect(values(ifs_structure))[2])[3]"
   ]
  },
  {
   "cell_type": "markdown",
   "id": "0b10be78",
   "metadata": {},
   "source": [
    "## Filter Datasets by Key\n"
   ]
  },
  {
   "cell_type": "code",
   "execution_count": 11,
   "id": "cdb02015",
   "metadata": {},
   "outputs": [
    {
     "data": {
      "text/html": [
       "<div><div style = \"float: left;\"><span>71×2 DataFrame</span></div><div style = \"float: right;\"><span style = \"font-style: italic;\">46 rows omitted</span></div><div style = \"clear: both;\"></div></div><div class = \"data-frame\" style = \"overflow-x: scroll;\"><table class = \"data-frame\" style = \"margin-bottom: 6px;\"><thead><tr class = \"header\"><th class = \"rowNumber\" style = \"font-weight: bold; text-align: right;\">Row</th><th style = \"text-align: left;\">dataset_id</th><th style = \"text-align: left;\">dataset_name</th></tr><tr class = \"subheader headerLastRow\"><th class = \"rowNumber\" style = \"font-weight: bold; text-align: right;\"></th><th title = \"String\" style = \"text-align: left;\">String</th><th title = \"String\" style = \"text-align: left;\">String</th></tr></thead><tbody><tr><td class = \"rowNumber\" style = \"font-weight: bold; text-align: right;\">1</td><td style = \"text-align: left;\">IFS</td><td style = \"text-align: left;\">International Financial Statistics (IFS)</td></tr><tr><td class = \"rowNumber\" style = \"font-weight: bold; text-align: right;\">2</td><td style = \"text-align: left;\">IFS_2017M08</td><td style = \"text-align: left;\">International Financial Statistics (IFS), 2017 M08</td></tr><tr><td class = \"rowNumber\" style = \"font-weight: bold; text-align: right;\">3</td><td style = \"text-align: left;\">IFS_2017M09</td><td style = \"text-align: left;\">International Financial Statistics (IFS), 2017 M09</td></tr><tr><td class = \"rowNumber\" style = \"font-weight: bold; text-align: right;\">4</td><td style = \"text-align: left;\">IFS_2017M10</td><td style = \"text-align: left;\">International Financial Statistics (IFS), 2017 M10</td></tr><tr><td class = \"rowNumber\" style = \"font-weight: bold; text-align: right;\">5</td><td style = \"text-align: left;\">IFS_2017M11</td><td style = \"text-align: left;\">International Financial Statistics (IFS), 2017 M11</td></tr><tr><td class = \"rowNumber\" style = \"font-weight: bold; text-align: right;\">6</td><td style = \"text-align: left;\">IFS_2017M12</td><td style = \"text-align: left;\">International Financial Statistics (IFS), 2017 M12</td></tr><tr><td class = \"rowNumber\" style = \"font-weight: bold; text-align: right;\">7</td><td style = \"text-align: left;\">IFS_2018M01</td><td style = \"text-align: left;\">International Financial Statistics (IFS), 2018 M01</td></tr><tr><td class = \"rowNumber\" style = \"font-weight: bold; text-align: right;\">8</td><td style = \"text-align: left;\">IFS_2018M02</td><td style = \"text-align: left;\">International Financial Statistics (IFS), 2018 M02</td></tr><tr><td class = \"rowNumber\" style = \"font-weight: bold; text-align: right;\">9</td><td style = \"text-align: left;\">IFS_2018M03</td><td style = \"text-align: left;\">International Financial Statistics (IFS), 2018 M03</td></tr><tr><td class = \"rowNumber\" style = \"font-weight: bold; text-align: right;\">10</td><td style = \"text-align: left;\">IFS_2018M04</td><td style = \"text-align: left;\">International Financial Statistics (IFS), 2018 M04</td></tr><tr><td class = \"rowNumber\" style = \"font-weight: bold; text-align: right;\">11</td><td style = \"text-align: left;\">IFS_2018M05</td><td style = \"text-align: left;\">International Financial Statistics (IFS), 2018 M05 </td></tr><tr><td class = \"rowNumber\" style = \"font-weight: bold; text-align: right;\">12</td><td style = \"text-align: left;\">IFS_2018M06</td><td style = \"text-align: left;\">International Financial Statistics (IFS), 2018 M06</td></tr><tr><td class = \"rowNumber\" style = \"font-weight: bold; text-align: right;\">13</td><td style = \"text-align: left;\">IFS_2018M07</td><td style = \"text-align: left;\">International Financial Statistics (IFS), 2018 M07</td></tr><tr><td style = \"text-align: right;\">&vellip;</td><td style = \"text-align: right;\">&vellip;</td><td style = \"text-align: right;\">&vellip;</td></tr><tr><td class = \"rowNumber\" style = \"font-weight: bold; text-align: right;\">60</td><td style = \"text-align: left;\">IFS_2022M06</td><td style = \"text-align: left;\">International Financial Statistics (IFS), 2022 M06</td></tr><tr><td class = \"rowNumber\" style = \"font-weight: bold; text-align: right;\">61</td><td style = \"text-align: left;\">IFS_2022M07</td><td style = \"text-align: left;\">International Financial Statistics (IFS), 2022 M07</td></tr><tr><td class = \"rowNumber\" style = \"font-weight: bold; text-align: right;\">62</td><td style = \"text-align: left;\">IFS_2022M08</td><td style = \"text-align: left;\">International Financial Statistics (IFS), 2022 M08</td></tr><tr><td class = \"rowNumber\" style = \"font-weight: bold; text-align: right;\">63</td><td style = \"text-align: left;\">IFS_2022M09</td><td style = \"text-align: left;\">International Financial Statistics (IFS), 2022 M09</td></tr><tr><td class = \"rowNumber\" style = \"font-weight: bold; text-align: right;\">64</td><td style = \"text-align: left;\">IFS_2022M10</td><td style = \"text-align: left;\">International Financial Statistics (IFS), 2022 M10</td></tr><tr><td class = \"rowNumber\" style = \"font-weight: bold; text-align: right;\">65</td><td style = \"text-align: left;\">IFS_2022M11</td><td style = \"text-align: left;\">International Financial Statistics (IFS), 2022 M11</td></tr><tr><td class = \"rowNumber\" style = \"font-weight: bold; text-align: right;\">66</td><td style = \"text-align: left;\">IFS_2023M01</td><td style = \"text-align: left;\">International Financial Statistics (IFS), 2023 M01</td></tr><tr><td class = \"rowNumber\" style = \"font-weight: bold; text-align: right;\">67</td><td style = \"text-align: left;\">IFS_2023M02</td><td style = \"text-align: left;\">International Financial Statistics (IFS), 2023 M02</td></tr><tr><td class = \"rowNumber\" style = \"font-weight: bold; text-align: right;\">68</td><td style = \"text-align: left;\">IFS_2023M03</td><td style = \"text-align: left;\">International Financial Statistics (IFS), 2023 M03</td></tr><tr><td class = \"rowNumber\" style = \"font-weight: bold; text-align: right;\">69</td><td style = \"text-align: left;\">IFS_2023M04</td><td style = \"text-align: left;\">International Financial Statistics (IFS), 2023 M04</td></tr><tr><td class = \"rowNumber\" style = \"font-weight: bold; text-align: right;\">70</td><td style = \"text-align: left;\">IFS_2023M05</td><td style = \"text-align: left;\">International Financial Statistics (IFS), 2023 M05</td></tr><tr><td class = \"rowNumber\" style = \"font-weight: bold; text-align: right;\">71</td><td style = \"text-align: left;\">IFS_DISCONTINUED</td><td style = \"text-align: left;\">International Financial Statistics (IFS), Discontinued Series</td></tr></tbody></table></div>"
      ],
      "text/latex": [
       "\\begin{tabular}{r|cc}\n",
       "\t& dataset\\_id & dataset\\_name\\\\\n",
       "\t\\hline\n",
       "\t& String & String\\\\\n",
       "\t\\hline\n",
       "\t1 & IFS & International Financial Statistics (IFS) \\\\\n",
       "\t2 & IFS\\_2017M08 & International Financial Statistics (IFS), 2017 M08 \\\\\n",
       "\t3 & IFS\\_2017M09 & International Financial Statistics (IFS), 2017 M09 \\\\\n",
       "\t4 & IFS\\_2017M10 & International Financial Statistics (IFS), 2017 M10 \\\\\n",
       "\t5 & IFS\\_2017M11 & International Financial Statistics (IFS), 2017 M11 \\\\\n",
       "\t6 & IFS\\_2017M12 & International Financial Statistics (IFS), 2017 M12 \\\\\n",
       "\t7 & IFS\\_2018M01 & International Financial Statistics (IFS), 2018 M01 \\\\\n",
       "\t8 & IFS\\_2018M02 & International Financial Statistics (IFS), 2018 M02 \\\\\n",
       "\t9 & IFS\\_2018M03 & International Financial Statistics (IFS), 2018 M03 \\\\\n",
       "\t10 & IFS\\_2018M04 & International Financial Statistics (IFS), 2018 M04 \\\\\n",
       "\t11 & IFS\\_2018M05 & International Financial Statistics (IFS), 2018 M05  \\\\\n",
       "\t12 & IFS\\_2018M06 & International Financial Statistics (IFS), 2018 M06 \\\\\n",
       "\t13 & IFS\\_2018M07 & International Financial Statistics (IFS), 2018 M07 \\\\\n",
       "\t14 & IFS\\_2018M08 & International Financial Statistics (IFS), 2018 M08 \\\\\n",
       "\t15 & IFS\\_2018M09 & International Financial Statistics (IFS), 2018 M09 \\\\\n",
       "\t16 & IFS\\_2018M10 & International Financial Statistics (IFS), 2018 M10 \\\\\n",
       "\t17 & IFS\\_2018M11 & International Financial Statistics (IFS), 2018 M11 \\\\\n",
       "\t18 & IFS\\_2018M12 & International Financial Statistics (IFS), 2018 M12 \\\\\n",
       "\t19 & IFS\\_2019M01 & International Financial Statistics (IFS), 2019 M01 \\\\\n",
       "\t20 & IFS\\_2019M02 & International Financial Statistics (IFS), 2019 M02 \\\\\n",
       "\t21 & IFS\\_2019M03 & International Financial Statistics (IFS), 2019 M03 \\\\\n",
       "\t22 & IFS\\_2019M04 & International Financial Statistics (IFS), 2019 M04 \\\\\n",
       "\t23 & IFS\\_2019M05 & International Financial Statistics (IFS), 2019 M05 \\\\\n",
       "\t24 & IFS\\_2019M06 & International Financial Statistics (IFS), 2019 M06 \\\\\n",
       "\t25 & IFS\\_2019M07 & International Financial Statistics (IFS), 2019 M07 \\\\\n",
       "\t26 & IFS\\_2019M08 & International Financial Statistics (IFS), 2019 M08 \\\\\n",
       "\t27 & IFS\\_2019M09 & International Financial Statistics (IFS), 2019 M09 \\\\\n",
       "\t28 & IFS\\_2019M10 & International Financial Statistics (IFS), 2019 M10 \\\\\n",
       "\t29 & IFS\\_2019M11 & International Financial Statistics (IFS), 2019 M11 \\\\\n",
       "\t30 & IFS\\_2019M12 & International Financial Statistics (IFS), 2019 M12 \\\\\n",
       "\t$\\dots$ & $\\dots$ & $\\dots$ \\\\\n",
       "\\end{tabular}\n"
      ],
      "text/plain": [
       "\u001b[1m71×2 DataFrame\u001b[0m\n",
       "\u001b[1m Row \u001b[0m│\u001b[1m dataset_id       \u001b[0m\u001b[1m dataset_name                      \u001b[0m\n",
       "     │\u001b[90m String           \u001b[0m\u001b[90m String                            \u001b[0m\n",
       "─────┼─────────────────────────────────────────────────────\n",
       "   1 │ IFS               International Financial Statisti…\n",
       "   2 │ IFS_2017M08       International Financial Statisti…\n",
       "   3 │ IFS_2017M09       International Financial Statisti…\n",
       "   4 │ IFS_2017M10       International Financial Statisti…\n",
       "   5 │ IFS_2017M11       International Financial Statisti…\n",
       "   6 │ IFS_2017M12       International Financial Statisti…\n",
       "   7 │ IFS_2018M01       International Financial Statisti…\n",
       "   8 │ IFS_2018M02       International Financial Statisti…\n",
       "   9 │ IFS_2018M03       International Financial Statisti…\n",
       "  10 │ IFS_2018M04       International Financial Statisti…\n",
       "  11 │ IFS_2018M05       International Financial Statisti…\n",
       "  ⋮  │        ⋮                          ⋮\n",
       "  62 │ IFS_2022M08       International Financial Statisti…\n",
       "  63 │ IFS_2022M09       International Financial Statisti…\n",
       "  64 │ IFS_2022M10       International Financial Statisti…\n",
       "  65 │ IFS_2022M11       International Financial Statisti…\n",
       "  66 │ IFS_2023M01       International Financial Statisti…\n",
       "  67 │ IFS_2023M02       International Financial Statisti…\n",
       "  68 │ IFS_2023M03       International Financial Statisti…\n",
       "  69 │ IFS_2023M04       International Financial Statisti…\n",
       "  70 │ IFS_2023M05       International Financial Statisti…\n",
       "  71 │ IFS_DISCONTINUED  International Financial Statisti…\n",
       "\u001b[36m                                            50 rows omitted\u001b[0m"
      ]
     },
     "execution_count": 12,
     "metadata": {},
     "output_type": "execute_result"
    }
   ],
   "source": [
    "datasets = IMFData.get_imf_datasets()\n",
    "# Use @where macro from DataFramesMeta to filter based on dataset name\n",
    "#ds_ifs = @where(datasets, occursin.(\"IFS\", :dataset_id))\n",
    "ds_ifs = DataFramesMeta.@subset(datasets, occursin.(\"IFS\", :dataset_id))"
   ]
  },
  {
   "cell_type": "code",
   "execution_count": 12,
   "id": "d64d3813",
   "metadata": {},
   "outputs": [
    {
     "data": {
      "text/html": [
       "<div><div style = \"float: left;\"><span>26×2 DataFrame</span></div><div style = \"clear: both;\"></div></div><div class = \"data-frame\" style = \"overflow-x: scroll;\"><table class = \"data-frame\" style = \"margin-bottom: 6px;\"><thead><tr class = \"header\"><th class = \"rowNumber\" style = \"font-weight: bold; text-align: right;\">Row</th><th style = \"text-align: left;\">dataset_id</th><th style = \"text-align: left;\">dataset_name</th></tr><tr class = \"subheader headerLastRow\"><th class = \"rowNumber\" style = \"font-weight: bold; text-align: right;\"></th><th title = \"String\" style = \"text-align: left;\">String</th><th title = \"String\" style = \"text-align: left;\">String</th></tr></thead><tbody><tr><td class = \"rowNumber\" style = \"font-weight: bold; text-align: right;\">1</td><td style = \"text-align: left;\">DOT</td><td style = \"text-align: left;\">Direction of Trade Statistics (DOTS)</td></tr><tr><td class = \"rowNumber\" style = \"font-weight: bold; text-align: right;\">2</td><td style = \"text-align: left;\">DOT_2017Q1</td><td style = \"text-align: left;\">Direction of Trade Statistics (DOTS), 2017 Q1</td></tr><tr><td class = \"rowNumber\" style = \"font-weight: bold; text-align: right;\">3</td><td style = \"text-align: left;\">DOT_2017Q2</td><td style = \"text-align: left;\">Direction of Trade Statistics (DOTS), 2017 Q2</td></tr><tr><td class = \"rowNumber\" style = \"font-weight: bold; text-align: right;\">4</td><td style = \"text-align: left;\">DOT_2017Q3</td><td style = \"text-align: left;\">Direction of Trade Statistics (DOTS), 2017 Q3</td></tr><tr><td class = \"rowNumber\" style = \"font-weight: bold; text-align: right;\">5</td><td style = \"text-align: left;\">DOT_2017Q4</td><td style = \"text-align: left;\">Direction of Trade Statistics (DOTS), 2017 Q4</td></tr><tr><td class = \"rowNumber\" style = \"font-weight: bold; text-align: right;\">6</td><td style = \"text-align: left;\">DOT_2018Q1</td><td style = \"text-align: left;\">Direction of Trade Statistics (DOTS), 2018 Q1</td></tr><tr><td class = \"rowNumber\" style = \"font-weight: bold; text-align: right;\">7</td><td style = \"text-align: left;\">DOT_2018Q2</td><td style = \"text-align: left;\">Direction of Trade Statistics (DOTS), 2018 Q2</td></tr><tr><td class = \"rowNumber\" style = \"font-weight: bold; text-align: right;\">8</td><td style = \"text-align: left;\">DOT_2018Q3</td><td style = \"text-align: left;\">Direction of Trade Statistics (DOTS), 2018 Q3</td></tr><tr><td class = \"rowNumber\" style = \"font-weight: bold; text-align: right;\">9</td><td style = \"text-align: left;\">DOT_2018Q4</td><td style = \"text-align: left;\">Direction of Trade Statistics (DOTS), 2018 Q4</td></tr><tr><td class = \"rowNumber\" style = \"font-weight: bold; text-align: right;\">10</td><td style = \"text-align: left;\">DOT_2019Q1</td><td style = \"text-align: left;\">Direction of Trade Statistics (DOTS), 2019 Q1</td></tr><tr><td class = \"rowNumber\" style = \"font-weight: bold; text-align: right;\">11</td><td style = \"text-align: left;\">DOT_2019Q2</td><td style = \"text-align: left;\">Direction of Trade Statistics (DOTS), 2019 Q2</td></tr><tr><td class = \"rowNumber\" style = \"font-weight: bold; text-align: right;\">12</td><td style = \"text-align: left;\">DOT_2019Q3</td><td style = \"text-align: left;\">Direction of Trade Statistics (DOTS), 2019 Q3</td></tr><tr><td class = \"rowNumber\" style = \"font-weight: bold; text-align: right;\">13</td><td style = \"text-align: left;\">DOT_2019Q4</td><td style = \"text-align: left;\">Direction of Trade Statistics (DOTS), 2019 Q4</td></tr><tr><td class = \"rowNumber\" style = \"font-weight: bold; text-align: right;\">14</td><td style = \"text-align: left;\">DOT_2020Q1</td><td style = \"text-align: left;\">Direction of Trade Statistics (DOTS), 2020 Q1</td></tr><tr><td class = \"rowNumber\" style = \"font-weight: bold; text-align: right;\">15</td><td style = \"text-align: left;\">DOT_2020Q2</td><td style = \"text-align: left;\">Direction of Trade Statistics (DOTS), 2020 Q2</td></tr><tr><td class = \"rowNumber\" style = \"font-weight: bold; text-align: right;\">16</td><td style = \"text-align: left;\">DOT_2020Q3</td><td style = \"text-align: left;\">Direction of Trade Statistics (DOTS), 2020 Q3</td></tr><tr><td class = \"rowNumber\" style = \"font-weight: bold; text-align: right;\">17</td><td style = \"text-align: left;\">DOT_2020Q4</td><td style = \"text-align: left;\">Direction of Trade Statistics (DOTS), 2020 Q4</td></tr><tr><td class = \"rowNumber\" style = \"font-weight: bold; text-align: right;\">18</td><td style = \"text-align: left;\">DOT_2021Q1</td><td style = \"text-align: left;\">Direction of Trade Statistics (DOTS), 2021 Q1</td></tr><tr><td class = \"rowNumber\" style = \"font-weight: bold; text-align: right;\">19</td><td style = \"text-align: left;\">DOT_2021Q2</td><td style = \"text-align: left;\">Direction of Trade Statistics (DOTS), 2021 Q2</td></tr><tr><td class = \"rowNumber\" style = \"font-weight: bold; text-align: right;\">20</td><td style = \"text-align: left;\">DOT_2021Q3</td><td style = \"text-align: left;\">Direction of Trade Statistics (DOTS), 2021 Q3</td></tr><tr><td class = \"rowNumber\" style = \"font-weight: bold; text-align: right;\">21</td><td style = \"text-align: left;\">DOT_2021Q4</td><td style = \"text-align: left;\">Direction of Trade Statistics (DOTS), 2021 Q4</td></tr><tr><td class = \"rowNumber\" style = \"font-weight: bold; text-align: right;\">22</td><td style = \"text-align: left;\">DOT_2022Q1</td><td style = \"text-align: left;\">Direction of Trade Statistics (DOTS), 2022 Q1</td></tr><tr><td class = \"rowNumber\" style = \"font-weight: bold; text-align: right;\">23</td><td style = \"text-align: left;\">DOT_2022Q2</td><td style = \"text-align: left;\">Direction of Trade Statistics (DOTS), 2022 Q2</td></tr><tr><td class = \"rowNumber\" style = \"font-weight: bold; text-align: right;\">24</td><td style = \"text-align: left;\">DOT_2022Q3</td><td style = \"text-align: left;\">Direction of Trade Statistics (DOTS), 2022 Q3</td></tr><tr><td class = \"rowNumber\" style = \"font-weight: bold; text-align: right;\">25</td><td style = \"text-align: left;\">DOT_2022Q4</td><td style = \"text-align: left;\">Direction of Trade Statistics (DOTS), 2022 Q4</td></tr><tr><td class = \"rowNumber\" style = \"font-weight: bold; text-align: right;\">26</td><td style = \"text-align: left;\">DOT_2023Q1</td><td style = \"text-align: left;\">Direction of Trade Statistics (DOTS), 2023 Q1</td></tr></tbody></table></div>"
      ],
      "text/latex": [
       "\\begin{tabular}{r|cc}\n",
       "\t& dataset\\_id & dataset\\_name\\\\\n",
       "\t\\hline\n",
       "\t& String & String\\\\\n",
       "\t\\hline\n",
       "\t1 & DOT & Direction of Trade Statistics (DOTS) \\\\\n",
       "\t2 & DOT\\_2017Q1 & Direction of Trade Statistics (DOTS), 2017 Q1 \\\\\n",
       "\t3 & DOT\\_2017Q2 & Direction of Trade Statistics (DOTS), 2017 Q2 \\\\\n",
       "\t4 & DOT\\_2017Q3 & Direction of Trade Statistics (DOTS), 2017 Q3 \\\\\n",
       "\t5 & DOT\\_2017Q4 & Direction of Trade Statistics (DOTS), 2017 Q4 \\\\\n",
       "\t6 & DOT\\_2018Q1 & Direction of Trade Statistics (DOTS), 2018 Q1 \\\\\n",
       "\t7 & DOT\\_2018Q2 & Direction of Trade Statistics (DOTS), 2018 Q2 \\\\\n",
       "\t8 & DOT\\_2018Q3 & Direction of Trade Statistics (DOTS), 2018 Q3 \\\\\n",
       "\t9 & DOT\\_2018Q4 & Direction of Trade Statistics (DOTS), 2018 Q4 \\\\\n",
       "\t10 & DOT\\_2019Q1 & Direction of Trade Statistics (DOTS), 2019 Q1 \\\\\n",
       "\t11 & DOT\\_2019Q2 & Direction of Trade Statistics (DOTS), 2019 Q2 \\\\\n",
       "\t12 & DOT\\_2019Q3 & Direction of Trade Statistics (DOTS), 2019 Q3 \\\\\n",
       "\t13 & DOT\\_2019Q4 & Direction of Trade Statistics (DOTS), 2019 Q4 \\\\\n",
       "\t14 & DOT\\_2020Q1 & Direction of Trade Statistics (DOTS), 2020 Q1 \\\\\n",
       "\t15 & DOT\\_2020Q2 & Direction of Trade Statistics (DOTS), 2020 Q2 \\\\\n",
       "\t16 & DOT\\_2020Q3 & Direction of Trade Statistics (DOTS), 2020 Q3 \\\\\n",
       "\t17 & DOT\\_2020Q4 & Direction of Trade Statistics (DOTS), 2020 Q4 \\\\\n",
       "\t18 & DOT\\_2021Q1 & Direction of Trade Statistics (DOTS), 2021 Q1 \\\\\n",
       "\t19 & DOT\\_2021Q2 & Direction of Trade Statistics (DOTS), 2021 Q2 \\\\\n",
       "\t20 & DOT\\_2021Q3 & Direction of Trade Statistics (DOTS), 2021 Q3 \\\\\n",
       "\t21 & DOT\\_2021Q4 & Direction of Trade Statistics (DOTS), 2021 Q4 \\\\\n",
       "\t22 & DOT\\_2022Q1 & Direction of Trade Statistics (DOTS), 2022 Q1 \\\\\n",
       "\t23 & DOT\\_2022Q2 & Direction of Trade Statistics (DOTS), 2022 Q2 \\\\\n",
       "\t24 & DOT\\_2022Q3 & Direction of Trade Statistics (DOTS), 2022 Q3 \\\\\n",
       "\t25 & DOT\\_2022Q4 & Direction of Trade Statistics (DOTS), 2022 Q4 \\\\\n",
       "\t26 & DOT\\_2023Q1 & Direction of Trade Statistics (DOTS), 2023 Q1 \\\\\n",
       "\\end{tabular}\n"
      ],
      "text/plain": [
       "\u001b[1m26×2 DataFrame\u001b[0m\n",
       "\u001b[1m Row \u001b[0m│\u001b[1m dataset_id \u001b[0m\u001b[1m dataset_name                      \u001b[0m\n",
       "     │\u001b[90m String     \u001b[0m\u001b[90m String                            \u001b[0m\n",
       "─────┼───────────────────────────────────────────────\n",
       "   1 │ DOT         Direction of Trade Statistics (D…\n",
       "   2 │ DOT_2017Q1  Direction of Trade Statistics (D…\n",
       "   3 │ DOT_2017Q2  Direction of Trade Statistics (D…\n",
       "   4 │ DOT_2017Q3  Direction of Trade Statistics (D…\n",
       "   5 │ DOT_2017Q4  Direction of Trade Statistics (D…\n",
       "   6 │ DOT_2018Q1  Direction of Trade Statistics (D…\n",
       "   7 │ DOT_2018Q2  Direction of Trade Statistics (D…\n",
       "   8 │ DOT_2018Q3  Direction of Trade Statistics (D…\n",
       "   9 │ DOT_2018Q4  Direction of Trade Statistics (D…\n",
       "  10 │ DOT_2019Q1  Direction of Trade Statistics (D…\n",
       "  11 │ DOT_2019Q2  Direction of Trade Statistics (D…\n",
       "  ⋮  │     ⋮                       ⋮\n",
       "  17 │ DOT_2020Q4  Direction of Trade Statistics (D…\n",
       "  18 │ DOT_2021Q1  Direction of Trade Statistics (D…\n",
       "  19 │ DOT_2021Q2  Direction of Trade Statistics (D…\n",
       "  20 │ DOT_2021Q3  Direction of Trade Statistics (D…\n",
       "  21 │ DOT_2021Q4  Direction of Trade Statistics (D…\n",
       "  22 │ DOT_2022Q1  Direction of Trade Statistics (D…\n",
       "  23 │ DOT_2022Q2  Direction of Trade Statistics (D…\n",
       "  24 │ DOT_2022Q3  Direction of Trade Statistics (D…\n",
       "  25 │ DOT_2022Q4  Direction of Trade Statistics (D…\n",
       "  26 │ DOT_2023Q1  Direction of Trade Statistics (D…\n",
       "\u001b[36m                                       5 rows omitted\u001b[0m"
      ]
     },
     "execution_count": 13,
     "metadata": {},
     "output_type": "execute_result"
    }
   ],
   "source": [
    "#ds_dot = @where(datasets, occursin.(\"DOT\", :dataset_id))\n",
    "ds_dot = DataFramesMeta.@subset(datasets, occursin.(\"DOT\", :dataset_id))"
   ]
  },
  {
   "cell_type": "markdown",
   "id": "890ac156",
   "metadata": {},
   "source": [
    "# Retrieve data from the IFS dataset\n",
    "\n",
    "## With one request:\n"
   ]
  },
  {
   "cell_type": "code",
   "execution_count": 13,
   "id": "0e15c39d",
   "metadata": {},
   "outputs": [
    {
     "data": {
      "text/plain": [
       "IMF Data Series\n",
       "Database: IFS\n",
       "Area: US\n",
       "Indicator: NGDP_SA_XDC\n",
       "Description: \n",
       "Frequency: Q\n",
       "Time Period: 1950 to 2023\n",
       "Data: 293 x 2 DataFrame\n"
      ]
     },
     "execution_count": 14,
     "metadata": {},
     "output_type": "execute_result"
    }
   ],
   "source": [
    "us_gdp = get_ifs_data(\"US\", \"NGDP_SA_XDC\", \"Q\", 1900, 2100)"
   ]
  },
  {
   "cell_type": "code",
   "execution_count": 14,
   "id": "f9d264e2",
   "metadata": {},
   "outputs": [
    {
     "data": {
      "text/html": [
       "<div><div style = \"float: left;\"><span>293×2 DataFrame</span></div><div style = \"float: right;\"><span style = \"font-style: italic;\">268 rows omitted</span></div><div style = \"clear: both;\"></div></div><div class = \"data-frame\" style = \"overflow-x: scroll;\"><table class = \"data-frame\" style = \"margin-bottom: 6px;\"><thead><tr class = \"header\"><th class = \"rowNumber\" style = \"font-weight: bold; text-align: right;\">Row</th><th style = \"text-align: left;\">date</th><th style = \"text-align: left;\">value</th></tr><tr class = \"subheader headerLastRow\"><th class = \"rowNumber\" style = \"font-weight: bold; text-align: right;\"></th><th title = \"Dates.Date\" style = \"text-align: left;\">Date</th><th title = \"Float64\" style = \"text-align: left;\">Float64</th></tr></thead><tbody><tr><td class = \"rowNumber\" style = \"font-weight: bold; text-align: right;\">1</td><td style = \"text-align: left;\">1950-03-01</td><td style = \"text-align: right;\">70207.0</td></tr><tr><td class = \"rowNumber\" style = \"font-weight: bold; text-align: right;\">2</td><td style = \"text-align: left;\">1950-06-01</td><td style = \"text-align: right;\">72595.8</td></tr><tr><td class = \"rowNumber\" style = \"font-weight: bold; text-align: right;\">3</td><td style = \"text-align: left;\">1950-09-01</td><td style = \"text-align: right;\">77038.3</td></tr><tr><td class = \"rowNumber\" style = \"font-weight: bold; text-align: right;\">4</td><td style = \"text-align: left;\">1950-12-01</td><td style = \"text-align: right;\">79986.3</td></tr><tr><td class = \"rowNumber\" style = \"font-weight: bold; text-align: right;\">5</td><td style = \"text-align: left;\">1951-03-01</td><td style = \"text-align: right;\">84000.0</td></tr><tr><td class = \"rowNumber\" style = \"font-weight: bold; text-align: right;\">6</td><td style = \"text-align: left;\">1951-06-01</td><td style = \"text-align: right;\">86022.5</td></tr><tr><td class = \"rowNumber\" style = \"font-weight: bold; text-align: right;\">7</td><td style = \"text-align: left;\">1951-09-01</td><td style = \"text-align: right;\">87846.3</td></tr><tr><td class = \"rowNumber\" style = \"font-weight: bold; text-align: right;\">8</td><td style = \"text-align: left;\">1951-12-01</td><td style = \"text-align: right;\">89044.5</td></tr><tr><td class = \"rowNumber\" style = \"font-weight: bold; text-align: right;\">9</td><td style = \"text-align: left;\">1952-03-01</td><td style = \"text-align: right;\">89955.0</td></tr><tr><td class = \"rowNumber\" style = \"font-weight: bold; text-align: right;\">10</td><td style = \"text-align: left;\">1952-06-01</td><td style = \"text-align: right;\">90257.5</td></tr><tr><td class = \"rowNumber\" style = \"font-weight: bold; text-align: right;\">11</td><td style = \"text-align: left;\">1952-09-01</td><td style = \"text-align: right;\">91925.3</td></tr><tr><td class = \"rowNumber\" style = \"font-weight: bold; text-align: right;\">12</td><td style = \"text-align: left;\">1952-12-01</td><td style = \"text-align: right;\">95203.0</td></tr><tr><td class = \"rowNumber\" style = \"font-weight: bold; text-align: right;\">13</td><td style = \"text-align: left;\">1953-03-01</td><td style = \"text-align: right;\">96995.0</td></tr><tr><td style = \"text-align: right;\">&vellip;</td><td style = \"text-align: right;\">&vellip;</td><td style = \"text-align: right;\">&vellip;</td></tr><tr><td class = \"rowNumber\" style = \"font-weight: bold; text-align: right;\">282</td><td style = \"text-align: left;\">2020-06-01</td><td style = \"text-align: right;\">4.90918e6</td></tr><tr><td class = \"rowNumber\" style = \"font-weight: bold; text-align: right;\">283</td><td style = \"text-align: left;\">2020-09-01</td><td style = \"text-align: right;\">5.34061e6</td></tr><tr><td class = \"rowNumber\" style = \"font-weight: bold; text-align: right;\">284</td><td style = \"text-align: left;\">2020-12-01</td><td style = \"text-align: right;\">5.42618e6</td></tr><tr><td class = \"rowNumber\" style = \"font-weight: bold; text-align: right;\">285</td><td style = \"text-align: left;\">2021-03-01</td><td style = \"text-align: right;\">5.57846e6</td></tr><tr><td class = \"rowNumber\" style = \"font-weight: bold; text-align: right;\">286</td><td style = \"text-align: left;\">2021-06-01</td><td style = \"text-align: right;\">5.76173e6</td></tr><tr><td class = \"rowNumber\" style = \"font-weight: bold; text-align: right;\">287</td><td style = \"text-align: left;\">2021-09-01</td><td style = \"text-align: right;\">5.8876e6</td></tr><tr><td class = \"rowNumber\" style = \"font-weight: bold; text-align: right;\">288</td><td style = \"text-align: left;\">2021-12-01</td><td style = \"text-align: right;\">6.08728e6</td></tr><tr><td class = \"rowNumber\" style = \"font-weight: bold; text-align: right;\">289</td><td style = \"text-align: left;\">2022-03-01</td><td style = \"text-align: right;\">6.18512e6</td></tr><tr><td class = \"rowNumber\" style = \"font-weight: bold; text-align: right;\">290</td><td style = \"text-align: left;\">2022-06-01</td><td style = \"text-align: right;\">6.31212e6</td></tr><tr><td class = \"rowNumber\" style = \"font-weight: bold; text-align: right;\">291</td><td style = \"text-align: left;\">2022-09-01</td><td style = \"text-align: right;\">6.43099e6</td></tr><tr><td class = \"rowNumber\" style = \"font-weight: bold; text-align: right;\">292</td><td style = \"text-align: left;\">2022-12-01</td><td style = \"text-align: right;\">6.5345e6</td></tr><tr><td class = \"rowNumber\" style = \"font-weight: bold; text-align: right;\">293</td><td style = \"text-align: left;\">2023-03-01</td><td style = \"text-align: right;\">6.63244e6</td></tr></tbody></table></div>"
      ],
      "text/latex": [
       "\\begin{tabular}{r|cc}\n",
       "\t& date & value\\\\\n",
       "\t\\hline\n",
       "\t& Date & Float64\\\\\n",
       "\t\\hline\n",
       "\t1 & 1950-03-01 & 70207.0 \\\\\n",
       "\t2 & 1950-06-01 & 72595.8 \\\\\n",
       "\t3 & 1950-09-01 & 77038.3 \\\\\n",
       "\t4 & 1950-12-01 & 79986.3 \\\\\n",
       "\t5 & 1951-03-01 & 84000.0 \\\\\n",
       "\t6 & 1951-06-01 & 86022.5 \\\\\n",
       "\t7 & 1951-09-01 & 87846.3 \\\\\n",
       "\t8 & 1951-12-01 & 89044.5 \\\\\n",
       "\t9 & 1952-03-01 & 89955.0 \\\\\n",
       "\t10 & 1952-06-01 & 90257.5 \\\\\n",
       "\t11 & 1952-09-01 & 91925.3 \\\\\n",
       "\t12 & 1952-12-01 & 95203.0 \\\\\n",
       "\t13 & 1953-03-01 & 96995.0 \\\\\n",
       "\t14 & 1953-06-01 & 97937.3 \\\\\n",
       "\t15 & 1953-09-01 & 97792.8 \\\\\n",
       "\t16 & 1953-12-01 & 96492.5 \\\\\n",
       "\t17 & 1954-03-01 & 96336.3 \\\\\n",
       "\t18 & 1954-06-01 & 96530.3 \\\\\n",
       "\t19 & 1954-09-01 & 97749.0 \\\\\n",
       "\t20 & 1954-12-01 & 99933.5 \\\\\n",
       "\t21 & 1955-03-01 & 1.03268e5 \\\\\n",
       "\t22 & 1955-06-01 & 105383.0 \\\\\n",
       "\t23 & 1955-09-01 & 1.07555e5 \\\\\n",
       "\t24 & 1955-12-01 & 109273.0 \\\\\n",
       "\t25 & 1956-03-01 & 1.09936e5 \\\\\n",
       "\t26 & 1956-06-01 & 1.11502e5 \\\\\n",
       "\t27 & 1956-09-01 & 1.12798e5 \\\\\n",
       "\t28 & 1956-12-01 & 1.15116e5 \\\\\n",
       "\t29 & 1957-03-01 & 1.17445e5 \\\\\n",
       "\t30 & 1957-06-01 & 1.18006e5 \\\\\n",
       "\t$\\dots$ & $\\dots$ & $\\dots$ \\\\\n",
       "\\end{tabular}\n"
      ],
      "text/plain": [
       "\u001b[1m293×2 DataFrame\u001b[0m\n",
       "\u001b[1m Row \u001b[0m│\u001b[1m date       \u001b[0m\u001b[1m value         \u001b[0m\n",
       "     │\u001b[90m Date       \u001b[0m\u001b[90m Float64       \u001b[0m\n",
       "─────┼───────────────────────────\n",
       "   1 │ 1950-03-01  70207.0\n",
       "   2 │ 1950-06-01  72595.8\n",
       "   3 │ 1950-09-01  77038.3\n",
       "   4 │ 1950-12-01  79986.3\n",
       "   5 │ 1951-03-01  84000.0\n",
       "   6 │ 1951-06-01  86022.5\n",
       "   7 │ 1951-09-01  87846.3\n",
       "   8 │ 1951-12-01  89044.5\n",
       "   9 │ 1952-03-01  89955.0\n",
       "  10 │ 1952-06-01  90257.5\n",
       "  11 │ 1952-09-01  91925.3\n",
       "  ⋮  │     ⋮             ⋮\n",
       " 284 │ 2020-12-01      5.42618e6\n",
       " 285 │ 2021-03-01      5.57846e6\n",
       " 286 │ 2021-06-01      5.76173e6\n",
       " 287 │ 2021-09-01      5.8876e6\n",
       " 288 │ 2021-12-01      6.08728e6\n",
       " 289 │ 2022-03-01      6.18512e6\n",
       " 290 │ 2022-06-01      6.31212e6\n",
       " 291 │ 2022-09-01      6.43099e6\n",
       " 292 │ 2022-12-01      6.5345e6\n",
       " 293 │ 2023-03-01      6.63244e6\n",
       "\u001b[36m                 272 rows omitted\u001b[0m"
      ]
     },
     "execution_count": 15,
     "metadata": {},
     "output_type": "execute_result"
    }
   ],
   "source": [
    "us_gdp.series"
   ]
  },
  {
   "cell_type": "markdown",
   "id": "6fb919e9",
   "metadata": {},
   "source": [
    "## With multiple requests:\n"
   ]
  },
  {
   "cell_type": "code",
   "execution_count": 15,
   "id": "8829b83e",
   "metadata": {},
   "outputs": [
    {
     "data": {
      "text/plain": [
       "2-element Vector{IMFSeries}:\n",
       " IMF Data Series\n",
       "Database: IFS\n",
       "Area: US\n",
       "Indicator: NGDP_SA_XDC\n",
       "Description: \n",
       "Frequency: Q\n",
       "Time Period: 1950 to 2023\n",
       "Data: 293 x 2 DataFrame\n",
       "\n",
       " IMF Data Series\n",
       "Database: IFS\n",
       "Area: CA\n",
       "Indicator: NGDP_SA_XDC\n",
       "Description: \n",
       "Frequency: Q\n",
       "Time Period: 1961 to 2023\n",
       "Data: 249 x 2 DataFrame\n"
      ]
     },
     "execution_count": 16,
     "metadata": {},
     "output_type": "execute_result"
    }
   ],
   "source": [
    "countries = [\"US\",\"CA\"]\n",
    "indicators = [\"NGDP_SA_XDC\"]\n",
    "us_ca_gdp = get_ifs_data(countries, indicators, \"Q\", 1900, 2100)"
   ]
  },
  {
   "cell_type": "code",
   "execution_count": 16,
   "id": "c23d3b53",
   "metadata": {},
   "outputs": [
    {
     "data": {
      "text/html": [
       "<div><div style = \"float: left;\"><span>293×2 DataFrame</span></div><div style = \"float: right;\"><span style = \"font-style: italic;\">268 rows omitted</span></div><div style = \"clear: both;\"></div></div><div class = \"data-frame\" style = \"overflow-x: scroll;\"><table class = \"data-frame\" style = \"margin-bottom: 6px;\"><thead><tr class = \"header\"><th class = \"rowNumber\" style = \"font-weight: bold; text-align: right;\">Row</th><th style = \"text-align: left;\">date</th><th style = \"text-align: left;\">value</th></tr><tr class = \"subheader headerLastRow\"><th class = \"rowNumber\" style = \"font-weight: bold; text-align: right;\"></th><th title = \"Dates.Date\" style = \"text-align: left;\">Date</th><th title = \"Float64\" style = \"text-align: left;\">Float64</th></tr></thead><tbody><tr><td class = \"rowNumber\" style = \"font-weight: bold; text-align: right;\">1</td><td style = \"text-align: left;\">1950-03-01</td><td style = \"text-align: right;\">70207.0</td></tr><tr><td class = \"rowNumber\" style = \"font-weight: bold; text-align: right;\">2</td><td style = \"text-align: left;\">1950-06-01</td><td style = \"text-align: right;\">72595.8</td></tr><tr><td class = \"rowNumber\" style = \"font-weight: bold; text-align: right;\">3</td><td style = \"text-align: left;\">1950-09-01</td><td style = \"text-align: right;\">77038.3</td></tr><tr><td class = \"rowNumber\" style = \"font-weight: bold; text-align: right;\">4</td><td style = \"text-align: left;\">1950-12-01</td><td style = \"text-align: right;\">79986.3</td></tr><tr><td class = \"rowNumber\" style = \"font-weight: bold; text-align: right;\">5</td><td style = \"text-align: left;\">1951-03-01</td><td style = \"text-align: right;\">84000.0</td></tr><tr><td class = \"rowNumber\" style = \"font-weight: bold; text-align: right;\">6</td><td style = \"text-align: left;\">1951-06-01</td><td style = \"text-align: right;\">86022.5</td></tr><tr><td class = \"rowNumber\" style = \"font-weight: bold; text-align: right;\">7</td><td style = \"text-align: left;\">1951-09-01</td><td style = \"text-align: right;\">87846.3</td></tr><tr><td class = \"rowNumber\" style = \"font-weight: bold; text-align: right;\">8</td><td style = \"text-align: left;\">1951-12-01</td><td style = \"text-align: right;\">89044.5</td></tr><tr><td class = \"rowNumber\" style = \"font-weight: bold; text-align: right;\">9</td><td style = \"text-align: left;\">1952-03-01</td><td style = \"text-align: right;\">89955.0</td></tr><tr><td class = \"rowNumber\" style = \"font-weight: bold; text-align: right;\">10</td><td style = \"text-align: left;\">1952-06-01</td><td style = \"text-align: right;\">90257.5</td></tr><tr><td class = \"rowNumber\" style = \"font-weight: bold; text-align: right;\">11</td><td style = \"text-align: left;\">1952-09-01</td><td style = \"text-align: right;\">91925.3</td></tr><tr><td class = \"rowNumber\" style = \"font-weight: bold; text-align: right;\">12</td><td style = \"text-align: left;\">1952-12-01</td><td style = \"text-align: right;\">95203.0</td></tr><tr><td class = \"rowNumber\" style = \"font-weight: bold; text-align: right;\">13</td><td style = \"text-align: left;\">1953-03-01</td><td style = \"text-align: right;\">96995.0</td></tr><tr><td style = \"text-align: right;\">&vellip;</td><td style = \"text-align: right;\">&vellip;</td><td style = \"text-align: right;\">&vellip;</td></tr><tr><td class = \"rowNumber\" style = \"font-weight: bold; text-align: right;\">282</td><td style = \"text-align: left;\">2020-06-01</td><td style = \"text-align: right;\">4.90918e6</td></tr><tr><td class = \"rowNumber\" style = \"font-weight: bold; text-align: right;\">283</td><td style = \"text-align: left;\">2020-09-01</td><td style = \"text-align: right;\">5.34061e6</td></tr><tr><td class = \"rowNumber\" style = \"font-weight: bold; text-align: right;\">284</td><td style = \"text-align: left;\">2020-12-01</td><td style = \"text-align: right;\">5.42618e6</td></tr><tr><td class = \"rowNumber\" style = \"font-weight: bold; text-align: right;\">285</td><td style = \"text-align: left;\">2021-03-01</td><td style = \"text-align: right;\">5.57846e6</td></tr><tr><td class = \"rowNumber\" style = \"font-weight: bold; text-align: right;\">286</td><td style = \"text-align: left;\">2021-06-01</td><td style = \"text-align: right;\">5.76173e6</td></tr><tr><td class = \"rowNumber\" style = \"font-weight: bold; text-align: right;\">287</td><td style = \"text-align: left;\">2021-09-01</td><td style = \"text-align: right;\">5.8876e6</td></tr><tr><td class = \"rowNumber\" style = \"font-weight: bold; text-align: right;\">288</td><td style = \"text-align: left;\">2021-12-01</td><td style = \"text-align: right;\">6.08728e6</td></tr><tr><td class = \"rowNumber\" style = \"font-weight: bold; text-align: right;\">289</td><td style = \"text-align: left;\">2022-03-01</td><td style = \"text-align: right;\">6.18512e6</td></tr><tr><td class = \"rowNumber\" style = \"font-weight: bold; text-align: right;\">290</td><td style = \"text-align: left;\">2022-06-01</td><td style = \"text-align: right;\">6.31212e6</td></tr><tr><td class = \"rowNumber\" style = \"font-weight: bold; text-align: right;\">291</td><td style = \"text-align: left;\">2022-09-01</td><td style = \"text-align: right;\">6.43099e6</td></tr><tr><td class = \"rowNumber\" style = \"font-weight: bold; text-align: right;\">292</td><td style = \"text-align: left;\">2022-12-01</td><td style = \"text-align: right;\">6.5345e6</td></tr><tr><td class = \"rowNumber\" style = \"font-weight: bold; text-align: right;\">293</td><td style = \"text-align: left;\">2023-03-01</td><td style = \"text-align: right;\">6.63244e6</td></tr></tbody></table></div>"
      ],
      "text/latex": [
       "\\begin{tabular}{r|cc}\n",
       "\t& date & value\\\\\n",
       "\t\\hline\n",
       "\t& Date & Float64\\\\\n",
       "\t\\hline\n",
       "\t1 & 1950-03-01 & 70207.0 \\\\\n",
       "\t2 & 1950-06-01 & 72595.8 \\\\\n",
       "\t3 & 1950-09-01 & 77038.3 \\\\\n",
       "\t4 & 1950-12-01 & 79986.3 \\\\\n",
       "\t5 & 1951-03-01 & 84000.0 \\\\\n",
       "\t6 & 1951-06-01 & 86022.5 \\\\\n",
       "\t7 & 1951-09-01 & 87846.3 \\\\\n",
       "\t8 & 1951-12-01 & 89044.5 \\\\\n",
       "\t9 & 1952-03-01 & 89955.0 \\\\\n",
       "\t10 & 1952-06-01 & 90257.5 \\\\\n",
       "\t11 & 1952-09-01 & 91925.3 \\\\\n",
       "\t12 & 1952-12-01 & 95203.0 \\\\\n",
       "\t13 & 1953-03-01 & 96995.0 \\\\\n",
       "\t14 & 1953-06-01 & 97937.3 \\\\\n",
       "\t15 & 1953-09-01 & 97792.8 \\\\\n",
       "\t16 & 1953-12-01 & 96492.5 \\\\\n",
       "\t17 & 1954-03-01 & 96336.3 \\\\\n",
       "\t18 & 1954-06-01 & 96530.3 \\\\\n",
       "\t19 & 1954-09-01 & 97749.0 \\\\\n",
       "\t20 & 1954-12-01 & 99933.5 \\\\\n",
       "\t21 & 1955-03-01 & 1.03268e5 \\\\\n",
       "\t22 & 1955-06-01 & 105383.0 \\\\\n",
       "\t23 & 1955-09-01 & 1.07555e5 \\\\\n",
       "\t24 & 1955-12-01 & 109273.0 \\\\\n",
       "\t25 & 1956-03-01 & 1.09936e5 \\\\\n",
       "\t26 & 1956-06-01 & 1.11502e5 \\\\\n",
       "\t27 & 1956-09-01 & 1.12798e5 \\\\\n",
       "\t28 & 1956-12-01 & 1.15116e5 \\\\\n",
       "\t29 & 1957-03-01 & 1.17445e5 \\\\\n",
       "\t30 & 1957-06-01 & 1.18006e5 \\\\\n",
       "\t$\\dots$ & $\\dots$ & $\\dots$ \\\\\n",
       "\\end{tabular}\n"
      ],
      "text/plain": [
       "\u001b[1m293×2 DataFrame\u001b[0m\n",
       "\u001b[1m Row \u001b[0m│\u001b[1m date       \u001b[0m\u001b[1m value         \u001b[0m\n",
       "     │\u001b[90m Date       \u001b[0m\u001b[90m Float64       \u001b[0m\n",
       "─────┼───────────────────────────\n",
       "   1 │ 1950-03-01  70207.0\n",
       "   2 │ 1950-06-01  72595.8\n",
       "   3 │ 1950-09-01  77038.3\n",
       "   4 │ 1950-12-01  79986.3\n",
       "   5 │ 1951-03-01  84000.0\n",
       "   6 │ 1951-06-01  86022.5\n",
       "   7 │ 1951-09-01  87846.3\n",
       "   8 │ 1951-12-01  89044.5\n",
       "   9 │ 1952-03-01  89955.0\n",
       "  10 │ 1952-06-01  90257.5\n",
       "  11 │ 1952-09-01  91925.3\n",
       "  ⋮  │     ⋮             ⋮\n",
       " 284 │ 2020-12-01      5.42618e6\n",
       " 285 │ 2021-03-01      5.57846e6\n",
       " 286 │ 2021-06-01      5.76173e6\n",
       " 287 │ 2021-09-01      5.8876e6\n",
       " 288 │ 2021-12-01      6.08728e6\n",
       " 289 │ 2022-03-01      6.18512e6\n",
       " 290 │ 2022-06-01      6.31212e6\n",
       " 291 │ 2022-09-01      6.43099e6\n",
       " 292 │ 2022-12-01      6.5345e6\n",
       " 293 │ 2023-03-01      6.63244e6\n",
       "\u001b[36m                 272 rows omitted\u001b[0m"
      ]
     },
     "execution_count": 17,
     "metadata": {},
     "output_type": "execute_result"
    }
   ],
   "source": [
    "us_ca_gdp[1].series"
   ]
  },
  {
   "cell_type": "code",
   "execution_count": 17,
   "id": "c5349100",
   "metadata": {},
   "outputs": [
    {
     "data": {
      "text/html": [
       "<div><div style = \"float: left;\"><span>249×2 DataFrame</span></div><div style = \"float: right;\"><span style = \"font-style: italic;\">224 rows omitted</span></div><div style = \"clear: both;\"></div></div><div class = \"data-frame\" style = \"overflow-x: scroll;\"><table class = \"data-frame\" style = \"margin-bottom: 6px;\"><thead><tr class = \"header\"><th class = \"rowNumber\" style = \"font-weight: bold; text-align: right;\">Row</th><th style = \"text-align: left;\">date</th><th style = \"text-align: left;\">value</th></tr><tr class = \"subheader headerLastRow\"><th class = \"rowNumber\" style = \"font-weight: bold; text-align: right;\"></th><th title = \"Dates.Date\" style = \"text-align: left;\">Date</th><th title = \"Float64\" style = \"text-align: left;\">Float64</th></tr></thead><tbody><tr><td class = \"rowNumber\" style = \"font-weight: bold; text-align: right;\">1</td><td style = \"text-align: left;\">1961-03-01</td><td style = \"text-align: right;\">10168.0</td></tr><tr><td class = \"rowNumber\" style = \"font-weight: bold; text-align: right;\">2</td><td style = \"text-align: left;\">1961-06-01</td><td style = \"text-align: right;\">10392.0</td></tr><tr><td class = \"rowNumber\" style = \"font-weight: bold; text-align: right;\">3</td><td style = \"text-align: left;\">1961-09-01</td><td style = \"text-align: right;\">10670.0</td></tr><tr><td class = \"rowNumber\" style = \"font-weight: bold; text-align: right;\">4</td><td style = \"text-align: left;\">1961-12-01</td><td style = \"text-align: right;\">10869.0</td></tr><tr><td class = \"rowNumber\" style = \"font-weight: bold; text-align: right;\">5</td><td style = \"text-align: left;\">1962-03-01</td><td style = \"text-align: right;\">11174.0</td></tr><tr><td class = \"rowNumber\" style = \"font-weight: bold; text-align: right;\">6</td><td style = \"text-align: left;\">1962-06-01</td><td style = \"text-align: right;\">11300.0</td></tr><tr><td class = \"rowNumber\" style = \"font-weight: bold; text-align: right;\">7</td><td style = \"text-align: left;\">1962-09-01</td><td style = \"text-align: right;\">11536.0</td></tr><tr><td class = \"rowNumber\" style = \"font-weight: bold; text-align: right;\">8</td><td style = \"text-align: left;\">1962-12-01</td><td style = \"text-align: right;\">11806.0</td></tr><tr><td class = \"rowNumber\" style = \"font-weight: bold; text-align: right;\">9</td><td style = \"text-align: left;\">1963-03-01</td><td style = \"text-align: right;\">11917.0</td></tr><tr><td class = \"rowNumber\" style = \"font-weight: bold; text-align: right;\">10</td><td style = \"text-align: left;\">1963-06-01</td><td style = \"text-align: right;\">12161.0</td></tr><tr><td class = \"rowNumber\" style = \"font-weight: bold; text-align: right;\">11</td><td style = \"text-align: left;\">1963-09-01</td><td style = \"text-align: right;\">12361.0</td></tr><tr><td class = \"rowNumber\" style = \"font-weight: bold; text-align: right;\">12</td><td style = \"text-align: left;\">1963-12-01</td><td style = \"text-align: right;\">12863.0</td></tr><tr><td class = \"rowNumber\" style = \"font-weight: bold; text-align: right;\">13</td><td style = \"text-align: left;\">1964-03-01</td><td style = \"text-align: right;\">13163.0</td></tr><tr><td style = \"text-align: right;\">&vellip;</td><td style = \"text-align: right;\">&vellip;</td><td style = \"text-align: right;\">&vellip;</td></tr><tr><td class = \"rowNumber\" style = \"font-weight: bold; text-align: right;\">238</td><td style = \"text-align: left;\">2020-06-01</td><td style = \"text-align: right;\">501066.0</td></tr><tr><td class = \"rowNumber\" style = \"font-weight: bold; text-align: right;\">239</td><td style = \"text-align: left;\">2020-09-01</td><td style = \"text-align: right;\">559531.0</td></tr><tr><td class = \"rowNumber\" style = \"font-weight: bold; text-align: right;\">240</td><td style = \"text-align: left;\">2020-12-01</td><td style = \"text-align: right;\">580142.0</td></tr><tr><td class = \"rowNumber\" style = \"font-weight: bold; text-align: right;\">241</td><td style = \"text-align: left;\">2021-03-01</td><td style = \"text-align: right;\">605757.0</td></tr><tr><td class = \"rowNumber\" style = \"font-weight: bold; text-align: right;\">242</td><td style = \"text-align: left;\">2021-06-01</td><td style = \"text-align: right;\">615698.0</td></tr><tr><td class = \"rowNumber\" style = \"font-weight: bold; text-align: right;\">243</td><td style = \"text-align: left;\">2021-09-01</td><td style = \"text-align: right;\">632619.0</td></tr><tr><td class = \"rowNumber\" style = \"font-weight: bold; text-align: right;\">244</td><td style = \"text-align: left;\">2021-12-01</td><td style = \"text-align: right;\">655544.0</td></tr><tr><td class = \"rowNumber\" style = \"font-weight: bold; text-align: right;\">245</td><td style = \"text-align: left;\">2022-03-01</td><td style = \"text-align: right;\">678819.0</td></tr><tr><td class = \"rowNumber\" style = \"font-weight: bold; text-align: right;\">246</td><td style = \"text-align: left;\">2022-06-01</td><td style = \"text-align: right;\">706044.0</td></tr><tr><td class = \"rowNumber\" style = \"font-weight: bold; text-align: right;\">247</td><td style = \"text-align: left;\">2022-09-01</td><td style = \"text-align: right;\">701535.0</td></tr><tr><td class = \"rowNumber\" style = \"font-weight: bold; text-align: right;\">248</td><td style = \"text-align: left;\">2022-12-01</td><td style = \"text-align: right;\">696247.0</td></tr><tr><td class = \"rowNumber\" style = \"font-weight: bold; text-align: right;\">249</td><td style = \"text-align: left;\">2023-03-01</td><td style = \"text-align: right;\">703421.0</td></tr></tbody></table></div>"
      ],
      "text/latex": [
       "\\begin{tabular}{r|cc}\n",
       "\t& date & value\\\\\n",
       "\t\\hline\n",
       "\t& Date & Float64\\\\\n",
       "\t\\hline\n",
       "\t1 & 1961-03-01 & 10168.0 \\\\\n",
       "\t2 & 1961-06-01 & 10392.0 \\\\\n",
       "\t3 & 1961-09-01 & 10670.0 \\\\\n",
       "\t4 & 1961-12-01 & 10869.0 \\\\\n",
       "\t5 & 1962-03-01 & 11174.0 \\\\\n",
       "\t6 & 1962-06-01 & 11300.0 \\\\\n",
       "\t7 & 1962-09-01 & 11536.0 \\\\\n",
       "\t8 & 1962-12-01 & 11806.0 \\\\\n",
       "\t9 & 1963-03-01 & 11917.0 \\\\\n",
       "\t10 & 1963-06-01 & 12161.0 \\\\\n",
       "\t11 & 1963-09-01 & 12361.0 \\\\\n",
       "\t12 & 1963-12-01 & 12863.0 \\\\\n",
       "\t13 & 1964-03-01 & 13163.0 \\\\\n",
       "\t14 & 1964-06-01 & 13379.0 \\\\\n",
       "\t15 & 1964-09-01 & 13669.0 \\\\\n",
       "\t16 & 1964-12-01 & 13856.0 \\\\\n",
       "\t17 & 1965-03-01 & 14341.0 \\\\\n",
       "\t18 & 1965-06-01 & 14691.0 \\\\\n",
       "\t19 & 1965-09-01 & 15043.0 \\\\\n",
       "\t20 & 1965-12-01 & 15583.0 \\\\\n",
       "\t21 & 1966-03-01 & 16107.0 \\\\\n",
       "\t22 & 1966-06-01 & 16648.0 \\\\\n",
       "\t23 & 1966-09-01 & 16866.0 \\\\\n",
       "\t24 & 1966-12-01 & 17189.0 \\\\\n",
       "\t25 & 1967-03-01 & 17396.0 \\\\\n",
       "\t26 & 1967-06-01 & 17960.0 \\\\\n",
       "\t27 & 1967-09-01 & 18121.0 \\\\\n",
       "\t28 & 1967-12-01 & 18435.0 \\\\\n",
       "\t29 & 1968-03-01 & 18852.0 \\\\\n",
       "\t30 & 1968-06-01 & 19440.0 \\\\\n",
       "\t$\\dots$ & $\\dots$ & $\\dots$ \\\\\n",
       "\\end{tabular}\n"
      ],
      "text/plain": [
       "\u001b[1m249×2 DataFrame\u001b[0m\n",
       "\u001b[1m Row \u001b[0m│\u001b[1m date       \u001b[0m\u001b[1m value    \u001b[0m\n",
       "     │\u001b[90m Date       \u001b[0m\u001b[90m Float64  \u001b[0m\n",
       "─────┼──────────────────────\n",
       "   1 │ 1961-03-01   10168.0\n",
       "   2 │ 1961-06-01   10392.0\n",
       "   3 │ 1961-09-01   10670.0\n",
       "   4 │ 1961-12-01   10869.0\n",
       "   5 │ 1962-03-01   11174.0\n",
       "   6 │ 1962-06-01   11300.0\n",
       "   7 │ 1962-09-01   11536.0\n",
       "   8 │ 1962-12-01   11806.0\n",
       "   9 │ 1963-03-01   11917.0\n",
       "  10 │ 1963-06-01   12161.0\n",
       "  11 │ 1963-09-01   12361.0\n",
       "  ⋮  │     ⋮          ⋮\n",
       " 240 │ 2020-12-01  580142.0\n",
       " 241 │ 2021-03-01  605757.0\n",
       " 242 │ 2021-06-01  615698.0\n",
       " 243 │ 2021-09-01  632619.0\n",
       " 244 │ 2021-12-01  655544.0\n",
       " 245 │ 2022-03-01  678819.0\n",
       " 246 │ 2022-06-01  706044.0\n",
       " 247 │ 2022-09-01  701535.0\n",
       " 248 │ 2022-12-01  696247.0\n",
       " 249 │ 2023-03-01  703421.0\n",
       "\u001b[36m            228 rows omitted\u001b[0m"
      ]
     },
     "execution_count": 18,
     "metadata": {},
     "output_type": "execute_result"
    }
   ],
   "source": [
    "us_ca_gdp[2].series"
   ]
  },
  {
   "cell_type": "code",
   "execution_count": 18,
   "id": "afa61d21",
   "metadata": {},
   "outputs": [
    {
     "data": {
      "text/html": [
       "<div><div style = \"float: left;\"><span>542×4 DataFrame</span></div><div style = \"float: right;\"><span style = \"font-style: italic;\">517 rows omitted</span></div><div style = \"clear: both;\"></div></div><div class = \"data-frame\" style = \"overflow-x: scroll;\"><table class = \"data-frame\" style = \"margin-bottom: 6px;\"><thead><tr class = \"header\"><th class = \"rowNumber\" style = \"font-weight: bold; text-align: right;\">Row</th><th style = \"text-align: left;\">date</th><th style = \"text-align: left;\">value</th><th style = \"text-align: left;\">country</th><th style = \"text-align: left;\">indicator</th></tr><tr class = \"subheader headerLastRow\"><th class = \"rowNumber\" style = \"font-weight: bold; text-align: right;\"></th><th title = \"Dates.Date\" style = \"text-align: left;\">Date</th><th title = \"Float64\" style = \"text-align: left;\">Float64</th><th title = \"String\" style = \"text-align: left;\">String</th><th title = \"String\" style = \"text-align: left;\">String</th></tr></thead><tbody><tr><td class = \"rowNumber\" style = \"font-weight: bold; text-align: right;\">1</td><td style = \"text-align: left;\">1950-03-01</td><td style = \"text-align: right;\">70207.0</td><td style = \"text-align: left;\">US</td><td style = \"text-align: left;\">NGDP_SA_XDC</td></tr><tr><td class = \"rowNumber\" style = \"font-weight: bold; text-align: right;\">2</td><td style = \"text-align: left;\">1950-06-01</td><td style = \"text-align: right;\">72595.8</td><td style = \"text-align: left;\">US</td><td style = \"text-align: left;\">NGDP_SA_XDC</td></tr><tr><td class = \"rowNumber\" style = \"font-weight: bold; text-align: right;\">3</td><td style = \"text-align: left;\">1950-09-01</td><td style = \"text-align: right;\">77038.3</td><td style = \"text-align: left;\">US</td><td style = \"text-align: left;\">NGDP_SA_XDC</td></tr><tr><td class = \"rowNumber\" style = \"font-weight: bold; text-align: right;\">4</td><td style = \"text-align: left;\">1950-12-01</td><td style = \"text-align: right;\">79986.3</td><td style = \"text-align: left;\">US</td><td style = \"text-align: left;\">NGDP_SA_XDC</td></tr><tr><td class = \"rowNumber\" style = \"font-weight: bold; text-align: right;\">5</td><td style = \"text-align: left;\">1951-03-01</td><td style = \"text-align: right;\">84000.0</td><td style = \"text-align: left;\">US</td><td style = \"text-align: left;\">NGDP_SA_XDC</td></tr><tr><td class = \"rowNumber\" style = \"font-weight: bold; text-align: right;\">6</td><td style = \"text-align: left;\">1951-06-01</td><td style = \"text-align: right;\">86022.5</td><td style = \"text-align: left;\">US</td><td style = \"text-align: left;\">NGDP_SA_XDC</td></tr><tr><td class = \"rowNumber\" style = \"font-weight: bold; text-align: right;\">7</td><td style = \"text-align: left;\">1951-09-01</td><td style = \"text-align: right;\">87846.3</td><td style = \"text-align: left;\">US</td><td style = \"text-align: left;\">NGDP_SA_XDC</td></tr><tr><td class = \"rowNumber\" style = \"font-weight: bold; text-align: right;\">8</td><td style = \"text-align: left;\">1951-12-01</td><td style = \"text-align: right;\">89044.5</td><td style = \"text-align: left;\">US</td><td style = \"text-align: left;\">NGDP_SA_XDC</td></tr><tr><td class = \"rowNumber\" style = \"font-weight: bold; text-align: right;\">9</td><td style = \"text-align: left;\">1952-03-01</td><td style = \"text-align: right;\">89955.0</td><td style = \"text-align: left;\">US</td><td style = \"text-align: left;\">NGDP_SA_XDC</td></tr><tr><td class = \"rowNumber\" style = \"font-weight: bold; text-align: right;\">10</td><td style = \"text-align: left;\">1952-06-01</td><td style = \"text-align: right;\">90257.5</td><td style = \"text-align: left;\">US</td><td style = \"text-align: left;\">NGDP_SA_XDC</td></tr><tr><td class = \"rowNumber\" style = \"font-weight: bold; text-align: right;\">11</td><td style = \"text-align: left;\">1952-09-01</td><td style = \"text-align: right;\">91925.3</td><td style = \"text-align: left;\">US</td><td style = \"text-align: left;\">NGDP_SA_XDC</td></tr><tr><td class = \"rowNumber\" style = \"font-weight: bold; text-align: right;\">12</td><td style = \"text-align: left;\">1952-12-01</td><td style = \"text-align: right;\">95203.0</td><td style = \"text-align: left;\">US</td><td style = \"text-align: left;\">NGDP_SA_XDC</td></tr><tr><td class = \"rowNumber\" style = \"font-weight: bold; text-align: right;\">13</td><td style = \"text-align: left;\">1953-03-01</td><td style = \"text-align: right;\">96995.0</td><td style = \"text-align: left;\">US</td><td style = \"text-align: left;\">NGDP_SA_XDC</td></tr><tr><td style = \"text-align: right;\">&vellip;</td><td style = \"text-align: right;\">&vellip;</td><td style = \"text-align: right;\">&vellip;</td><td style = \"text-align: right;\">&vellip;</td><td style = \"text-align: right;\">&vellip;</td></tr><tr><td class = \"rowNumber\" style = \"font-weight: bold; text-align: right;\">531</td><td style = \"text-align: left;\">2020-06-01</td><td style = \"text-align: right;\">501066.0</td><td style = \"text-align: left;\">CA</td><td style = \"text-align: left;\">NGDP_SA_XDC</td></tr><tr><td class = \"rowNumber\" style = \"font-weight: bold; text-align: right;\">532</td><td style = \"text-align: left;\">2020-09-01</td><td style = \"text-align: right;\">559531.0</td><td style = \"text-align: left;\">CA</td><td style = \"text-align: left;\">NGDP_SA_XDC</td></tr><tr><td class = \"rowNumber\" style = \"font-weight: bold; text-align: right;\">533</td><td style = \"text-align: left;\">2020-12-01</td><td style = \"text-align: right;\">580142.0</td><td style = \"text-align: left;\">CA</td><td style = \"text-align: left;\">NGDP_SA_XDC</td></tr><tr><td class = \"rowNumber\" style = \"font-weight: bold; text-align: right;\">534</td><td style = \"text-align: left;\">2021-03-01</td><td style = \"text-align: right;\">605757.0</td><td style = \"text-align: left;\">CA</td><td style = \"text-align: left;\">NGDP_SA_XDC</td></tr><tr><td class = \"rowNumber\" style = \"font-weight: bold; text-align: right;\">535</td><td style = \"text-align: left;\">2021-06-01</td><td style = \"text-align: right;\">615698.0</td><td style = \"text-align: left;\">CA</td><td style = \"text-align: left;\">NGDP_SA_XDC</td></tr><tr><td class = \"rowNumber\" style = \"font-weight: bold; text-align: right;\">536</td><td style = \"text-align: left;\">2021-09-01</td><td style = \"text-align: right;\">632619.0</td><td style = \"text-align: left;\">CA</td><td style = \"text-align: left;\">NGDP_SA_XDC</td></tr><tr><td class = \"rowNumber\" style = \"font-weight: bold; text-align: right;\">537</td><td style = \"text-align: left;\">2021-12-01</td><td style = \"text-align: right;\">655544.0</td><td style = \"text-align: left;\">CA</td><td style = \"text-align: left;\">NGDP_SA_XDC</td></tr><tr><td class = \"rowNumber\" style = \"font-weight: bold; text-align: right;\">538</td><td style = \"text-align: left;\">2022-03-01</td><td style = \"text-align: right;\">678819.0</td><td style = \"text-align: left;\">CA</td><td style = \"text-align: left;\">NGDP_SA_XDC</td></tr><tr><td class = \"rowNumber\" style = \"font-weight: bold; text-align: right;\">539</td><td style = \"text-align: left;\">2022-06-01</td><td style = \"text-align: right;\">706044.0</td><td style = \"text-align: left;\">CA</td><td style = \"text-align: left;\">NGDP_SA_XDC</td></tr><tr><td class = \"rowNumber\" style = \"font-weight: bold; text-align: right;\">540</td><td style = \"text-align: left;\">2022-09-01</td><td style = \"text-align: right;\">701535.0</td><td style = \"text-align: left;\">CA</td><td style = \"text-align: left;\">NGDP_SA_XDC</td></tr><tr><td class = \"rowNumber\" style = \"font-weight: bold; text-align: right;\">541</td><td style = \"text-align: left;\">2022-12-01</td><td style = \"text-align: right;\">696247.0</td><td style = \"text-align: left;\">CA</td><td style = \"text-align: left;\">NGDP_SA_XDC</td></tr><tr><td class = \"rowNumber\" style = \"font-weight: bold; text-align: right;\">542</td><td style = \"text-align: left;\">2023-03-01</td><td style = \"text-align: right;\">703421.0</td><td style = \"text-align: left;\">CA</td><td style = \"text-align: left;\">NGDP_SA_XDC</td></tr></tbody></table></div>"
      ],
      "text/latex": [
       "\\begin{tabular}{r|cccc}\n",
       "\t& date & value & country & indicator\\\\\n",
       "\t\\hline\n",
       "\t& Date & Float64 & String & String\\\\\n",
       "\t\\hline\n",
       "\t1 & 1950-03-01 & 70207.0 & US & NGDP\\_SA\\_XDC \\\\\n",
       "\t2 & 1950-06-01 & 72595.8 & US & NGDP\\_SA\\_XDC \\\\\n",
       "\t3 & 1950-09-01 & 77038.3 & US & NGDP\\_SA\\_XDC \\\\\n",
       "\t4 & 1950-12-01 & 79986.3 & US & NGDP\\_SA\\_XDC \\\\\n",
       "\t5 & 1951-03-01 & 84000.0 & US & NGDP\\_SA\\_XDC \\\\\n",
       "\t6 & 1951-06-01 & 86022.5 & US & NGDP\\_SA\\_XDC \\\\\n",
       "\t7 & 1951-09-01 & 87846.3 & US & NGDP\\_SA\\_XDC \\\\\n",
       "\t8 & 1951-12-01 & 89044.5 & US & NGDP\\_SA\\_XDC \\\\\n",
       "\t9 & 1952-03-01 & 89955.0 & US & NGDP\\_SA\\_XDC \\\\\n",
       "\t10 & 1952-06-01 & 90257.5 & US & NGDP\\_SA\\_XDC \\\\\n",
       "\t11 & 1952-09-01 & 91925.3 & US & NGDP\\_SA\\_XDC \\\\\n",
       "\t12 & 1952-12-01 & 95203.0 & US & NGDP\\_SA\\_XDC \\\\\n",
       "\t13 & 1953-03-01 & 96995.0 & US & NGDP\\_SA\\_XDC \\\\\n",
       "\t14 & 1953-06-01 & 97937.3 & US & NGDP\\_SA\\_XDC \\\\\n",
       "\t15 & 1953-09-01 & 97792.8 & US & NGDP\\_SA\\_XDC \\\\\n",
       "\t16 & 1953-12-01 & 96492.5 & US & NGDP\\_SA\\_XDC \\\\\n",
       "\t17 & 1954-03-01 & 96336.3 & US & NGDP\\_SA\\_XDC \\\\\n",
       "\t18 & 1954-06-01 & 96530.3 & US & NGDP\\_SA\\_XDC \\\\\n",
       "\t19 & 1954-09-01 & 97749.0 & US & NGDP\\_SA\\_XDC \\\\\n",
       "\t20 & 1954-12-01 & 99933.5 & US & NGDP\\_SA\\_XDC \\\\\n",
       "\t21 & 1955-03-01 & 1.03268e5 & US & NGDP\\_SA\\_XDC \\\\\n",
       "\t22 & 1955-06-01 & 105383.0 & US & NGDP\\_SA\\_XDC \\\\\n",
       "\t23 & 1955-09-01 & 1.07555e5 & US & NGDP\\_SA\\_XDC \\\\\n",
       "\t24 & 1955-12-01 & 109273.0 & US & NGDP\\_SA\\_XDC \\\\\n",
       "\t25 & 1956-03-01 & 1.09936e5 & US & NGDP\\_SA\\_XDC \\\\\n",
       "\t26 & 1956-06-01 & 1.11502e5 & US & NGDP\\_SA\\_XDC \\\\\n",
       "\t27 & 1956-09-01 & 1.12798e5 & US & NGDP\\_SA\\_XDC \\\\\n",
       "\t28 & 1956-12-01 & 1.15116e5 & US & NGDP\\_SA\\_XDC \\\\\n",
       "\t29 & 1957-03-01 & 1.17445e5 & US & NGDP\\_SA\\_XDC \\\\\n",
       "\t30 & 1957-06-01 & 1.18006e5 & US & NGDP\\_SA\\_XDC \\\\\n",
       "\t$\\dots$ & $\\dots$ & $\\dots$ & $\\dots$ & $\\dots$ \\\\\n",
       "\\end{tabular}\n"
      ],
      "text/plain": [
       "\u001b[1m542×4 DataFrame\u001b[0m\n",
       "\u001b[1m Row \u001b[0m│\u001b[1m date       \u001b[0m\u001b[1m value    \u001b[0m\u001b[1m country \u001b[0m\u001b[1m indicator   \u001b[0m\n",
       "     │\u001b[90m Date       \u001b[0m\u001b[90m Float64  \u001b[0m\u001b[90m String  \u001b[0m\u001b[90m String      \u001b[0m\n",
       "─────┼────────────────────────────────────────────\n",
       "   1 │ 1950-03-01   70207.0  US       NGDP_SA_XDC\n",
       "   2 │ 1950-06-01   72595.8  US       NGDP_SA_XDC\n",
       "   3 │ 1950-09-01   77038.3  US       NGDP_SA_XDC\n",
       "   4 │ 1950-12-01   79986.3  US       NGDP_SA_XDC\n",
       "   5 │ 1951-03-01   84000.0  US       NGDP_SA_XDC\n",
       "   6 │ 1951-06-01   86022.5  US       NGDP_SA_XDC\n",
       "   7 │ 1951-09-01   87846.3  US       NGDP_SA_XDC\n",
       "   8 │ 1951-12-01   89044.5  US       NGDP_SA_XDC\n",
       "   9 │ 1952-03-01   89955.0  US       NGDP_SA_XDC\n",
       "  10 │ 1952-06-01   90257.5  US       NGDP_SA_XDC\n",
       "  11 │ 1952-09-01   91925.3  US       NGDP_SA_XDC\n",
       "  ⋮  │     ⋮          ⋮         ⋮          ⋮\n",
       " 533 │ 2020-12-01  580142.0  CA       NGDP_SA_XDC\n",
       " 534 │ 2021-03-01  605757.0  CA       NGDP_SA_XDC\n",
       " 535 │ 2021-06-01  615698.0  CA       NGDP_SA_XDC\n",
       " 536 │ 2021-09-01  632619.0  CA       NGDP_SA_XDC\n",
       " 537 │ 2021-12-01  655544.0  CA       NGDP_SA_XDC\n",
       " 538 │ 2022-03-01  678819.0  CA       NGDP_SA_XDC\n",
       " 539 │ 2022-06-01  706044.0  CA       NGDP_SA_XDC\n",
       " 540 │ 2022-09-01  701535.0  CA       NGDP_SA_XDC\n",
       " 541 │ 2022-12-01  696247.0  CA       NGDP_SA_XDC\n",
       " 542 │ 2023-03-01  703421.0  CA       NGDP_SA_XDC\n",
       "\u001b[36m                                  521 rows omitted\u001b[0m"
      ]
     },
     "execution_count": 19,
     "metadata": {},
     "output_type": "execute_result"
    }
   ],
   "source": [
    "# Pasar a DataFrame\n",
    "df = []\n",
    "dftemp = []\n",
    "i = 1\n",
    "for i in 1:size(countries)[1]\n",
    "    dftemp = us_ca_gdp[i].series;\n",
    "    dftemp[:,:country] .= countries[i];\n",
    "    dftemp[:,:indicator] .= indicators[1];\n",
    "    df = push!(df,dftemp)\n",
    "end\n",
    "df = vcat(df...)"
   ]
  },
  {
   "cell_type": "markdown",
   "id": "6d264241",
   "metadata": {},
   "source": [
    "# Examples\n",
    "\n",
    "\n",
    "## IFS indicators\n",
    "\n",
    "### Indicators: \"CL_INDICATOR_IFS\"\n"
   ]
  },
  {
   "cell_type": "code",
   "execution_count": 19,
   "id": "06fe4b8f",
   "metadata": {},
   "outputs": [
    {
     "data": {
      "text/html": [
       "<div><div style = \"float: left;\"><span>1679×2 DataFrame</span></div><div style = \"float: right;\"><span style = \"font-style: italic;\">1654 rows omitted</span></div><div style = \"clear: both;\"></div></div><div class = \"data-frame\" style = \"overflow-x: scroll;\"><table class = \"data-frame\" style = \"margin-bottom: 6px;\"><thead><tr class = \"header\"><th class = \"rowNumber\" style = \"font-weight: bold; text-align: right;\">Row</th><th style = \"text-align: left;\">parameter_value</th><th style = \"text-align: left;\">description</th></tr><tr class = \"subheader headerLastRow\"><th class = \"rowNumber\" style = \"font-weight: bold; text-align: right;\"></th><th title = \"String\" style = \"text-align: left;\">String</th><th title = \"String\" style = \"text-align: left;\">String</th></tr></thead><tbody><tr><td class = \"rowNumber\" style = \"font-weight: bold; text-align: right;\">1</td><td style = \"text-align: left;\">NFIAXD_XDC</td><td style = \"text-align: left;\">Acquisitions less Disposals of Valuables, Nominal, Domestic Currency</td></tr><tr><td class = \"rowNumber\" style = \"font-weight: bold; text-align: right;\">2</td><td style = \"text-align: left;\">NFIAXD_SA_XDC</td><td style = \"text-align: left;\">Acquisitions less Disposals of Valuables, Nominal, Seasonally Adjusted, Domestic Currency</td></tr><tr><td class = \"rowNumber\" style = \"font-weight: bold; text-align: right;\">3</td><td style = \"text-align: left;\">NFIAXD_NSA_XDC</td><td style = \"text-align: left;\">Acquisitions less Disposals of Valuables, Nominal, Unadjusted, Domestic Currency</td></tr><tr><td class = \"rowNumber\" style = \"font-weight: bold; text-align: right;\">4</td><td style = \"text-align: left;\">NFIAXD_R_XDC</td><td style = \"text-align: left;\">Acquisitions less Disposals of Valuables, Real, Domestic Currency</td></tr><tr><td class = \"rowNumber\" style = \"font-weight: bold; text-align: right;\">5</td><td style = \"text-align: left;\">NFIAXD_R_SA_XDC</td><td style = \"text-align: left;\">Acquisitions less Disposals of Valuables, Real, Seasonally Adjusted, Domestic Currency</td></tr><tr><td class = \"rowNumber\" style = \"font-weight: bold; text-align: right;\">6</td><td style = \"text-align: left;\">NFIAXD_R_NSA_XDC</td><td style = \"text-align: left;\">Acquisitions less Disposals of Valuables, Real, Unadjusted, Domestic Currency</td></tr><tr><td class = \"rowNumber\" style = \"font-weight: bold; text-align: right;\">7</td><td style = \"text-align: left;\">IAFR_BP6_USD</td><td style = \"text-align: left;\">International Investment Positions, Net acquisition of financial assets (with Fund Record), US Dollars</td></tr><tr><td class = \"rowNumber\" style = \"font-weight: bold; text-align: right;\">8</td><td style = \"text-align: left;\">IADD_BP6_USD</td><td style = \"text-align: left;\">International Investment Positions, Assets, Direct investment, Debt instruments, US Dollars</td></tr><tr><td class = \"rowNumber\" style = \"font-weight: bold; text-align: right;\">9</td><td style = \"text-align: left;\">IADE_BP6_USD</td><td style = \"text-align: left;\">International Investment Positions, Assets, Direct investment, Equity and investment fund shares , US Dollars</td></tr><tr><td class = \"rowNumber\" style = \"font-weight: bold; text-align: right;\">10</td><td style = \"text-align: left;\">IAD_BP6_USD</td><td style = \"text-align: left;\">International Investment Positions, Assets, Direct investment, US Dollars</td></tr><tr><td class = \"rowNumber\" style = \"font-weight: bold; text-align: right;\">11</td><td style = \"text-align: left;\">IADF_BP6_USD</td><td style = \"text-align: left;\">International Investment Positions, Financial derivatives (other than reserves) and employee stock options , US Dollars</td></tr><tr><td class = \"rowNumber\" style = \"font-weight: bold; text-align: right;\">12</td><td style = \"text-align: left;\">IAOE_BP6_USD</td><td style = \"text-align: left;\">International Investment Positions, Assets, Other investment,  Other equity , US Dollars</td></tr><tr><td class = \"rowNumber\" style = \"font-weight: bold; text-align: right;\">13</td><td style = \"text-align: left;\">IAO_BP6_USD</td><td style = \"text-align: left;\">International Investment Positions, Assets, Other investment , US Dollars</td></tr><tr><td style = \"text-align: right;\">&vellip;</td><td style = \"text-align: right;\">&vellip;</td><td style = \"text-align: right;\">&vellip;</td></tr><tr><td class = \"rowNumber\" style = \"font-weight: bold; text-align: right;\">1668</td><td style = \"text-align: left;\">BTRUE_BP6_USD</td><td style = \"text-align: left;\">Balance of Payments, Supplementary Items, Reserves and related items, US Dollars</td></tr><tr><td class = \"rowNumber\" style = \"font-weight: bold; text-align: right;\">1669</td><td style = \"text-align: left;\">BXISXF_BP6_USD</td><td style = \"text-align: left;\">Balance of Payments, Supplementary Items, Secondary Income, Credit (excluding exceptional financing), US Dollars</td></tr><tr><td class = \"rowNumber\" style = \"font-weight: bold; text-align: right;\">1670</td><td style = \"text-align: left;\">BTCC_BP6_USD</td><td style = \"text-align: left;\">Balance of Payments, Supplementary Items. Total Current + Capital Account, US Dollars</td></tr><tr><td class = \"rowNumber\" style = \"font-weight: bold; text-align: right;\">1671</td><td style = \"text-align: left;\">RAFA_G_XDR</td><td style = \"text-align: left;\">Total International Reserves, SDRs (gold at 35 SDRs per ounce)</td></tr><tr><td class = \"rowNumber\" style = \"font-weight: bold; text-align: right;\">1672</td><td style = \"text-align: left;\">RAFA_G_USD</td><td style = \"text-align: left;\">Total International Reserves, US Dollars (gold at 35 SDRs per ounce)</td></tr><tr><td class = \"rowNumber\" style = \"font-weight: bold; text-align: right;\">1673</td><td style = \"text-align: left;\">RAFA_MV_USD</td><td style = \"text-align: left;\">Total Reserves, US Dollars (Gold at Market Price)</td></tr><tr><td class = \"rowNumber\" style = \"font-weight: bold; text-align: right;\">1674</td><td style = \"text-align: left;\">AOTV_PE_NUM</td><td style = \"text-align: left;\">Tourism, Number of Visitors, Persons, Number of</td></tr><tr><td class = \"rowNumber\" style = \"font-weight: bold; text-align: right;\">1675</td><td style = \"text-align: left;\">LU_PE_NUM</td><td style = \"text-align: left;\">Unemployment, Persons, Number of</td></tr><tr><td class = \"rowNumber\" style = \"font-weight: bold; text-align: right;\">1676</td><td style = \"text-align: left;\">LU_PE_PC_CP_A_PT</td><td style = \"text-align: left;\">Unemployment, Persons, Percentage change, corresponding period previous year, Percent</td></tr><tr><td class = \"rowNumber\" style = \"font-weight: bold; text-align: right;\">1677</td><td style = \"text-align: left;\">LU_PE_PC_PP_PT</td><td style = \"text-align: left;\">Unemployment, Persons, Percentage change, previous period, Percent</td></tr><tr><td class = \"rowNumber\" style = \"font-weight: bold; text-align: right;\">1678</td><td style = \"text-align: left;\">1C_ALL_INDICATORS</td><td style = \"text-align: left;\">All Indicators</td></tr><tr><td class = \"rowNumber\" style = \"font-weight: bold; text-align: right;\">1679</td><td style = \"text-align: left;\">MFS</td><td style = \"text-align: left;\">Monetary and Financial Statistics (MFS)</td></tr></tbody></table></div>"
      ],
      "text/latex": [
       "\\begin{tabular}{r|cc}\n",
       "\t& parameter\\_value & description\\\\\n",
       "\t\\hline\n",
       "\t& String & String\\\\\n",
       "\t\\hline\n",
       "\t1 & NFIAXD\\_XDC & Acquisitions less Disposals of Valuables, Nominal, Domestic Currency \\\\\n",
       "\t2 & NFIAXD\\_SA\\_XDC & Acquisitions less Disposals of Valuables, Nominal, Seasonally Adjusted, Domestic Currency \\\\\n",
       "\t3 & NFIAXD\\_NSA\\_XDC & Acquisitions less Disposals of Valuables, Nominal, Unadjusted, Domestic Currency \\\\\n",
       "\t4 & NFIAXD\\_R\\_XDC & Acquisitions less Disposals of Valuables, Real, Domestic Currency \\\\\n",
       "\t5 & NFIAXD\\_R\\_SA\\_XDC & Acquisitions less Disposals of Valuables, Real, Seasonally Adjusted, Domestic Currency \\\\\n",
       "\t6 & NFIAXD\\_R\\_NSA\\_XDC & Acquisitions less Disposals of Valuables, Real, Unadjusted, Domestic Currency \\\\\n",
       "\t7 & IAFR\\_BP6\\_USD & International Investment Positions, Net acquisition of financial assets (with Fund Record), US Dollars \\\\\n",
       "\t8 & IADD\\_BP6\\_USD & International Investment Positions, Assets, Direct investment, Debt instruments, US Dollars \\\\\n",
       "\t9 & IADE\\_BP6\\_USD & International Investment Positions, Assets, Direct investment, Equity and investment fund shares , US Dollars \\\\\n",
       "\t10 & IAD\\_BP6\\_USD & International Investment Positions, Assets, Direct investment, US Dollars \\\\\n",
       "\t11 & IADF\\_BP6\\_USD & International Investment Positions, Financial derivatives (other than reserves) and employee stock options , US Dollars \\\\\n",
       "\t12 & IAOE\\_BP6\\_USD & International Investment Positions, Assets, Other investment,  Other equity , US Dollars \\\\\n",
       "\t13 & IAO\\_BP6\\_USD & International Investment Positions, Assets, Other investment , US Dollars \\\\\n",
       "\t14 & IAOD\\_BP6\\_USD & International Investment Positions, Other investment: Net acquisition of financial assets, Debt instruments, US Dollars \\\\\n",
       "\t15 & IAPD\\_BP6\\_USD & International Investment Positions, Assets, Portfolio investment, Debt securities , US Dollars \\\\\n",
       "\t16 & IAPE\\_BP6\\_USD & International Investment Positions, Assets, Portfolio investment, Equity and investment fund shares , US Dollars \\\\\n",
       "\t17 & IAP\\_BP6\\_USD & International Investment Positions, Assets, Portfolio investment , US Dollars \\\\\n",
       "\t18 & IARFR\\_BP6\\_USD & International Investment Positions, Reserve Assets, Net (with Fund Record), US Dollars \\\\\n",
       "\t19 & BK\\_DB\\_BP6\\_USD & Balance of Payments, Capital Account, Total, Debit, US Dollars \\\\\n",
       "\t20 & FASAGEA\\_EUR & Central Bank Survey, Claims on Central Government (Euro Area-Wide-Residency), Euros \\\\\n",
       "\t21 & FASAFEA\\_EUR & Central Bank Survey, Claims on Nonresidents (Euro Area-Wide-Residency), Euros \\\\\n",
       "\t22 & FASABEA\\_EUR & Central Bank Survey, Claims on Other Depository Corporations (Euro Area-Wide-Residency), Euros \\\\\n",
       "\t23 & FASAOFEA\\_EUR & Central Bank Survey, Claims on Other Financial Corporations (Euro Area-Wide-Residency), Euros \\\\\n",
       "\t24 & FASAOEA\\_EUR & Central Bank Survey, Claims on Other Sectors (Euro area-Wide-Residency), Euros \\\\\n",
       "\t25 & FASAOPEA\\_EUR & Central Bank Survey, Claims on Private  Sector (Euro Area-Wide-Residency), Euros \\\\\n",
       "\t26 & FASAONEA\\_EUR & Central Bank Survey, Claims on Public Nonfinancial Corporations (Euro Area-Wide-Residency), Euros \\\\\n",
       "\t27 & FASAOSEA\\_EUR & Central Bank Survey, Claims on State and Local Government (Euro Area-Wide-Residency), Euros \\\\\n",
       "\t28 & FASMBCEA\\_EUR & Central Bank Survey, Currency in Circulation (Euro Area-Wide-Residency), Euros \\\\\n",
       "\t29 & FASDOEA\\_EUR & Central Bank Survey, Demand deposits of other sectors (Euro area-Wide-Residency), Euros \\\\\n",
       "\t30 & FASDSSEA\\_EUR & Central Bank Survey, Deposits and Securities Other than Shares excl. from Monetary Base (Euro Area-Wide-Residency), Euros \\\\\n",
       "\t$\\dots$ & $\\dots$ & $\\dots$ \\\\\n",
       "\\end{tabular}\n"
      ],
      "text/plain": [
       "\u001b[1m1679×2 DataFrame\u001b[0m\n",
       "\u001b[1m  Row \u001b[0m│\u001b[1m parameter_value   \u001b[0m\u001b[1m description                       \u001b[0m\n",
       "      │\u001b[90m String            \u001b[0m\u001b[90m String                            \u001b[0m\n",
       "──────┼──────────────────────────────────────────────────────\n",
       "    1 │ NFIAXD_XDC         Acquisitions less Disposals of V…\n",
       "    2 │ NFIAXD_SA_XDC      Acquisitions less Disposals of V…\n",
       "    3 │ NFIAXD_NSA_XDC     Acquisitions less Disposals of V…\n",
       "    4 │ NFIAXD_R_XDC       Acquisitions less Disposals of V…\n",
       "    5 │ NFIAXD_R_SA_XDC    Acquisitions less Disposals of V…\n",
       "    6 │ NFIAXD_R_NSA_XDC   Acquisitions less Disposals of V…\n",
       "    7 │ IAFR_BP6_USD       International Investment Positio…\n",
       "    8 │ IADD_BP6_USD       International Investment Positio…\n",
       "    9 │ IADE_BP6_USD       International Investment Positio…\n",
       "   10 │ IAD_BP6_USD        International Investment Positio…\n",
       "   11 │ IADF_BP6_USD       International Investment Positio…\n",
       "  ⋮   │         ⋮                          ⋮\n",
       " 1670 │ BTCC_BP6_USD       Balance of Payments, Supplementa…\n",
       " 1671 │ RAFA_G_XDR         Total International Reserves, SD…\n",
       " 1672 │ RAFA_G_USD         Total International Reserves, US…\n",
       " 1673 │ RAFA_MV_USD        Total Reserves, US Dollars (Gold…\n",
       " 1674 │ AOTV_PE_NUM        Tourism, Number of Visitors, Per…\n",
       " 1675 │ LU_PE_NUM          Unemployment, Persons, Number of\n",
       " 1676 │ LU_PE_PC_CP_A_PT   Unemployment, Persons, Percentag…\n",
       " 1677 │ LU_PE_PC_PP_PT     Unemployment, Persons, Percentag…\n",
       " 1678 │ 1C_ALL_INDICATORS  All Indicators\n",
       " 1679 │ MFS                Monetary and Financial Statistic…\n",
       "\u001b[36m                                            1658 rows omitted\u001b[0m"
      ]
     },
     "execution_count": 20,
     "metadata": {},
     "output_type": "execute_result"
    }
   ],
   "source": [
    "ifs_structure  = get_imf_datastructure(\"IFS\")\n",
    "ifs_indicators = ifs_structure[\"Parameter Values\"][\"CL_INDICATOR_IFS\"]"
   ]
  },
  {
   "cell_type": "code",
   "execution_count": 20,
   "id": "3b6c65cf",
   "metadata": {},
   "outputs": [
    {
     "data": {
      "text/plain": [
       "1679-element Vector{String}:\n",
       " \"NFIAXD_XDC\"\n",
       " \"NFIAXD_SA_XDC\"\n",
       " \"NFIAXD_NSA_XDC\"\n",
       " \"NFIAXD_R_XDC\"\n",
       " \"NFIAXD_R_SA_XDC\"\n",
       " \"NFIAXD_R_NSA_XDC\"\n",
       " \"IAFR_BP6_USD\"\n",
       " \"IADD_BP6_USD\"\n",
       " \"IADE_BP6_USD\"\n",
       " \"IAD_BP6_USD\"\n",
       " \"IADF_BP6_USD\"\n",
       " \"IAOE_BP6_USD\"\n",
       " \"IAO_BP6_USD\"\n",
       " ⋮\n",
       " \"BTRUE_BP6_USD\"\n",
       " \"BXISXF_BP6_USD\"\n",
       " \"BTCC_BP6_USD\"\n",
       " \"RAFA_G_XDR\"\n",
       " \"RAFA_G_USD\"\n",
       " \"RAFA_MV_USD\"\n",
       " \"AOTV_PE_NUM\"\n",
       " \"LU_PE_NUM\"\n",
       " \"LU_PE_PC_CP_A_PT\"\n",
       " \"LU_PE_PC_PP_PT\"\n",
       " \"1C_ALL_INDICATORS\"\n",
       " \"MFS\""
      ]
     },
     "execution_count": 21,
     "metadata": {},
     "output_type": "execute_result"
    }
   ],
   "source": [
    "ifs_indicators.parameter_value"
   ]
  },
  {
   "cell_type": "code",
   "execution_count": 21,
   "id": "07fd1a8b",
   "metadata": {},
   "outputs": [
    {
     "data": {
      "text/plain": [
       "1679-element Vector{String}:\n",
       " \"Acquisitions less Disposals of Valuables, Nominal, Domestic Currency\"\n",
       " \"Acquisitions less Disposals of \" ⋯ 27 bytes ⋯ \"lly Adjusted, Domestic Currency\"\n",
       " \"Acquisitions less Disposals of \" ⋯ 18 bytes ⋯ \", Unadjusted, Domestic Currency\"\n",
       " \"Acquisitions less Disposals of Valuables, Real, Domestic Currency\"\n",
       " \"Acquisitions less Disposals of \" ⋯ 24 bytes ⋯ \"lly Adjusted, Domestic Currency\"\n",
       " \"Acquisitions less Disposals of Valuables, Real, Unadjusted, Domestic Currency\"\n",
       " \"International Investment Positi\" ⋯ 40 bytes ⋯ \" (with Fund Record), US Dollars\"\n",
       " \"International Investment Positi\" ⋯ 29 bytes ⋯ \"t, Debt instruments, US Dollars\"\n",
       " \"International Investment Positi\" ⋯ 47 bytes ⋯ \"stment fund shares , US Dollars\"\n",
       " \"International Investment Positions, Assets, Direct investment, US Dollars\"\n",
       " \"International Investment Positi\" ⋯ 57 bytes ⋯ \"oyee stock options , US Dollars\"\n",
       " \"International Investment Positi\" ⋯ 26 bytes ⋯ \"ent,  Other equity , US Dollars\"\n",
       " \"International Investment Positions, Assets, Other investment , US Dollars\"\n",
       " ⋮\n",
       " \"Balance of Payments, Supplement\" ⋯ 18 bytes ⋯ \"s and related items, US Dollars\"\n",
       " \"Balance of Payments, Supplement\" ⋯ 50 bytes ⋯ \"eptional financing), US Dollars\"\n",
       " \"Balance of Payments, Supplement\" ⋯ 23 bytes ⋯ \"t + Capital Account, US Dollars\"\n",
       " \"Total International Reserves, SDRs (gold at 35 SDRs per ounce)\"\n",
       " \"Total International Reserves, US Dollars (gold at 35 SDRs per ounce)\"\n",
       " \"Total Reserves, US Dollars (Gold at Market Price)\"\n",
       " \"Tourism, Number of Visitors, Persons, Number of\"\n",
       " \"Unemployment, Persons, Number of\"\n",
       " \"Unemployment, Persons, Percenta\" ⋯ 23 bytes ⋯ \"g period previous year, Percent\"\n",
       " \"Unemployment, Persons, Percentage change, previous period, Percent\"\n",
       " \"All Indicators\"\n",
       " \"Monetary and Financial Statistics (MFS)\""
      ]
     },
     "execution_count": 22,
     "metadata": {},
     "output_type": "execute_result"
    }
   ],
   "source": [
    "ifs_indicators.description"
   ]
  },
  {
   "cell_type": "code",
   "execution_count": 22,
   "id": "5f397e24",
   "metadata": {},
   "outputs": [
    {
     "data": {
      "text/plain": [
       "\"C:\\\\Directorio_Trabajo\\\\Julia\\\\IMFData/IFS_Indicators.csv\""
      ]
     },
     "execution_count": 23,
     "metadata": {},
     "output_type": "execute_result"
    }
   ],
   "source": [
    "CSV.write(\n",
    "    wd * \"/IFS_Indicators.csv\",\n",
    "    delim = \";\",\n",
    "    ifs_indicators)"
   ]
  },
  {
   "cell_type": "markdown",
   "id": "a540fc5a",
   "metadata": {},
   "source": [
    "### Units: \"CL_UNIT_MULT\"\n"
   ]
  },
  {
   "cell_type": "code",
   "execution_count": 23,
   "id": "55deda4d",
   "metadata": {},
   "outputs": [
    {
     "data": {
      "text/html": [
       "<div><div style = \"float: left;\"><span>31×2 DataFrame</span></div><div style = \"float: right;\"><span style = \"font-style: italic;\">6 rows omitted</span></div><div style = \"clear: both;\"></div></div><div class = \"data-frame\" style = \"overflow-x: scroll;\"><table class = \"data-frame\" style = \"margin-bottom: 6px;\"><thead><tr class = \"header\"><th class = \"rowNumber\" style = \"font-weight: bold; text-align: right;\">Row</th><th style = \"text-align: left;\">parameter_value</th><th style = \"text-align: left;\">description</th></tr><tr class = \"subheader headerLastRow\"><th class = \"rowNumber\" style = \"font-weight: bold; text-align: right;\"></th><th title = \"String\" style = \"text-align: left;\">String</th><th title = \"String\" style = \"text-align: left;\">String</th></tr></thead><tbody><tr><td class = \"rowNumber\" style = \"font-weight: bold; text-align: right;\">1</td><td style = \"text-align: left;\">0</td><td style = \"text-align: left;\">Units</td></tr><tr><td class = \"rowNumber\" style = \"font-weight: bold; text-align: right;\">2</td><td style = \"text-align: left;\">2</td><td style = \"text-align: left;\">Hundreds</td></tr><tr><td class = \"rowNumber\" style = \"font-weight: bold; text-align: right;\">3</td><td style = \"text-align: left;\">3</td><td style = \"text-align: left;\">Thousands</td></tr><tr><td class = \"rowNumber\" style = \"font-weight: bold; text-align: right;\">4</td><td style = \"text-align: left;\">6</td><td style = \"text-align: left;\">Millions</td></tr><tr><td class = \"rowNumber\" style = \"font-weight: bold; text-align: right;\">5</td><td style = \"text-align: left;\">9</td><td style = \"text-align: left;\">Billions</td></tr><tr><td class = \"rowNumber\" style = \"font-weight: bold; text-align: right;\">6</td><td style = \"text-align: left;\">12</td><td style = \"text-align: left;\">Trillions</td></tr><tr><td class = \"rowNumber\" style = \"font-weight: bold; text-align: right;\">7</td><td style = \"text-align: left;\">N15</td><td style = \"text-align: left;\">Quadrillionths</td></tr><tr><td class = \"rowNumber\" style = \"font-weight: bold; text-align: right;\">8</td><td style = \"text-align: left;\">N14</td><td style = \"text-align: left;\">Hundred Trillionths</td></tr><tr><td class = \"rowNumber\" style = \"font-weight: bold; text-align: right;\">9</td><td style = \"text-align: left;\">N13</td><td style = \"text-align: left;\">Ten Trillionths</td></tr><tr><td class = \"rowNumber\" style = \"font-weight: bold; text-align: right;\">10</td><td style = \"text-align: left;\">N12</td><td style = \"text-align: left;\">Trillionths</td></tr><tr><td class = \"rowNumber\" style = \"font-weight: bold; text-align: right;\">11</td><td style = \"text-align: left;\">N11</td><td style = \"text-align: left;\">Hundred Billionths</td></tr><tr><td class = \"rowNumber\" style = \"font-weight: bold; text-align: right;\">12</td><td style = \"text-align: left;\">N10</td><td style = \"text-align: left;\">Ten Billionths</td></tr><tr><td class = \"rowNumber\" style = \"font-weight: bold; text-align: right;\">13</td><td style = \"text-align: left;\">N9</td><td style = \"text-align: left;\">Billionths</td></tr><tr><td style = \"text-align: right;\">&vellip;</td><td style = \"text-align: right;\">&vellip;</td><td style = \"text-align: right;\">&vellip;</td></tr><tr><td class = \"rowNumber\" style = \"font-weight: bold; text-align: right;\">20</td><td style = \"text-align: left;\">N2</td><td style = \"text-align: left;\">Hundredths</td></tr><tr><td class = \"rowNumber\" style = \"font-weight: bold; text-align: right;\">21</td><td style = \"text-align: left;\">N1</td><td style = \"text-align: left;\">Tenths</td></tr><tr><td class = \"rowNumber\" style = \"font-weight: bold; text-align: right;\">22</td><td style = \"text-align: left;\">1</td><td style = \"text-align: left;\">Tens</td></tr><tr><td class = \"rowNumber\" style = \"font-weight: bold; text-align: right;\">23</td><td style = \"text-align: left;\">4</td><td style = \"text-align: left;\">Ten Thousands</td></tr><tr><td class = \"rowNumber\" style = \"font-weight: bold; text-align: right;\">24</td><td style = \"text-align: left;\">5</td><td style = \"text-align: left;\">Hundred Thousands</td></tr><tr><td class = \"rowNumber\" style = \"font-weight: bold; text-align: right;\">25</td><td style = \"text-align: left;\">7</td><td style = \"text-align: left;\">Ten Millions</td></tr><tr><td class = \"rowNumber\" style = \"font-weight: bold; text-align: right;\">26</td><td style = \"text-align: left;\">8</td><td style = \"text-align: left;\">Hundred Millions</td></tr><tr><td class = \"rowNumber\" style = \"font-weight: bold; text-align: right;\">27</td><td style = \"text-align: left;\">10</td><td style = \"text-align: left;\">Ten Billions</td></tr><tr><td class = \"rowNumber\" style = \"font-weight: bold; text-align: right;\">28</td><td style = \"text-align: left;\">11</td><td style = \"text-align: left;\">Hundred Billions</td></tr><tr><td class = \"rowNumber\" style = \"font-weight: bold; text-align: right;\">29</td><td style = \"text-align: left;\">13</td><td style = \"text-align: left;\">Ten Trillions</td></tr><tr><td class = \"rowNumber\" style = \"font-weight: bold; text-align: right;\">30</td><td style = \"text-align: left;\">14</td><td style = \"text-align: left;\">Hundred Trillions</td></tr><tr><td class = \"rowNumber\" style = \"font-weight: bold; text-align: right;\">31</td><td style = \"text-align: left;\">15</td><td style = \"text-align: left;\">Quadrillions</td></tr></tbody></table></div>"
      ],
      "text/latex": [
       "\\begin{tabular}{r|cc}\n",
       "\t& parameter\\_value & description\\\\\n",
       "\t\\hline\n",
       "\t& String & String\\\\\n",
       "\t\\hline\n",
       "\t1 & 0 & Units \\\\\n",
       "\t2 & 2 & Hundreds \\\\\n",
       "\t3 & 3 & Thousands \\\\\n",
       "\t4 & 6 & Millions \\\\\n",
       "\t5 & 9 & Billions \\\\\n",
       "\t6 & 12 & Trillions \\\\\n",
       "\t7 & N15 & Quadrillionths \\\\\n",
       "\t8 & N14 & Hundred Trillionths \\\\\n",
       "\t9 & N13 & Ten Trillionths \\\\\n",
       "\t10 & N12 & Trillionths \\\\\n",
       "\t11 & N11 & Hundred Billionths \\\\\n",
       "\t12 & N10 & Ten Billionths \\\\\n",
       "\t13 & N9 & Billionths \\\\\n",
       "\t14 & N8 & Hundred Millionths \\\\\n",
       "\t15 & N7 & Ten Millionths \\\\\n",
       "\t16 & N6 & Millionths \\\\\n",
       "\t17 & N5 & Hundred Thousandths \\\\\n",
       "\t18 & N4 & Ten Thousandths \\\\\n",
       "\t19 & N3 & Thousandths \\\\\n",
       "\t20 & N2 & Hundredths \\\\\n",
       "\t21 & N1 & Tenths \\\\\n",
       "\t22 & 1 & Tens \\\\\n",
       "\t23 & 4 & Ten Thousands \\\\\n",
       "\t24 & 5 & Hundred Thousands \\\\\n",
       "\t25 & 7 & Ten Millions \\\\\n",
       "\t26 & 8 & Hundred Millions \\\\\n",
       "\t27 & 10 & Ten Billions \\\\\n",
       "\t28 & 11 & Hundred Billions \\\\\n",
       "\t29 & 13 & Ten Trillions \\\\\n",
       "\t30 & 14 & Hundred Trillions \\\\\n",
       "\t$\\dots$ & $\\dots$ & $\\dots$ \\\\\n",
       "\\end{tabular}\n"
      ],
      "text/plain": [
       "\u001b[1m31×2 DataFrame\u001b[0m\n",
       "\u001b[1m Row \u001b[0m│\u001b[1m parameter_value \u001b[0m\u001b[1m description         \u001b[0m\n",
       "     │\u001b[90m String          \u001b[0m\u001b[90m String              \u001b[0m\n",
       "─────┼──────────────────────────────────────\n",
       "   1 │ 0                Units\n",
       "   2 │ 2                Hundreds\n",
       "   3 │ 3                Thousands\n",
       "   4 │ 6                Millions\n",
       "   5 │ 9                Billions\n",
       "   6 │ 12               Trillions\n",
       "   7 │ N15              Quadrillionths\n",
       "   8 │ N14              Hundred Trillionths\n",
       "   9 │ N13              Ten Trillionths\n",
       "  10 │ N12              Trillionths\n",
       "  11 │ N11              Hundred Billionths\n",
       "  ⋮  │        ⋮                  ⋮\n",
       "  22 │ 1                Tens\n",
       "  23 │ 4                Ten Thousands\n",
       "  24 │ 5                Hundred Thousands\n",
       "  25 │ 7                Ten Millions\n",
       "  26 │ 8                Hundred Millions\n",
       "  27 │ 10               Ten Billions\n",
       "  28 │ 11               Hundred Billions\n",
       "  29 │ 13               Ten Trillions\n",
       "  30 │ 14               Hundred Trillions\n",
       "  31 │ 15               Quadrillions\n",
       "\u001b[36m                             10 rows omitted\u001b[0m"
      ]
     },
     "execution_count": 24,
     "metadata": {},
     "output_type": "execute_result"
    }
   ],
   "source": [
    "ifs_units = ifs_structure[\"Parameter Values\"][\"CL_UNIT_MULT\"]"
   ]
  },
  {
   "cell_type": "code",
   "execution_count": 24,
   "id": "f8cd8bee",
   "metadata": {},
   "outputs": [
    {
     "data": {
      "text/plain": [
       "31-element Vector{String}:\n",
       " \"Units\"\n",
       " \"Hundreds\"\n",
       " \"Thousands\"\n",
       " \"Millions\"\n",
       " \"Billions\"\n",
       " \"Trillions\"\n",
       " \"Quadrillionths\"\n",
       " \"Hundred Trillionths\"\n",
       " \"Ten Trillionths\"\n",
       " \"Trillionths\"\n",
       " \"Hundred Billionths\"\n",
       " \"Ten Billionths\"\n",
       " \"Billionths\"\n",
       " ⋮\n",
       " \"Hundredths\"\n",
       " \"Tenths\"\n",
       " \"Tens\"\n",
       " \"Ten Thousands\"\n",
       " \"Hundred Thousands\"\n",
       " \"Ten Millions\"\n",
       " \"Hundred Millions\"\n",
       " \"Ten Billions\"\n",
       " \"Hundred Billions\"\n",
       " \"Ten Trillions\"\n",
       " \"Hundred Trillions\"\n",
       " \"Quadrillions\""
      ]
     },
     "execution_count": 25,
     "metadata": {},
     "output_type": "execute_result"
    }
   ],
   "source": [
    "ifs_units.description"
   ]
  },
  {
   "cell_type": "markdown",
   "id": "72d105c1",
   "metadata": {},
   "source": [
    "### Time Format: \"CL_TIME_FORMAT\"\n"
   ]
  },
  {
   "cell_type": "code",
   "execution_count": 25,
   "id": "d8bcf874",
   "metadata": {},
   "outputs": [
    {
     "data": {
      "text/html": [
       "<div><div style = \"float: left;\"><span>6×2 DataFrame</span></div><div style = \"clear: both;\"></div></div><div class = \"data-frame\" style = \"overflow-x: scroll;\"><table class = \"data-frame\" style = \"margin-bottom: 6px;\"><thead><tr class = \"header\"><th class = \"rowNumber\" style = \"font-weight: bold; text-align: right;\">Row</th><th style = \"text-align: left;\">parameter_value</th><th style = \"text-align: left;\">description</th></tr><tr class = \"subheader headerLastRow\"><th class = \"rowNumber\" style = \"font-weight: bold; text-align: right;\"></th><th title = \"String\" style = \"text-align: left;\">String</th><th title = \"String\" style = \"text-align: left;\">String</th></tr></thead><tbody><tr><td class = \"rowNumber\" style = \"font-weight: bold; text-align: right;\">1</td><td style = \"text-align: left;\">P1Y</td><td style = \"text-align: left;\">Annual</td></tr><tr><td class = \"rowNumber\" style = \"font-weight: bold; text-align: right;\">2</td><td style = \"text-align: left;\">P6M</td><td style = \"text-align: left;\">Bi-annual</td></tr><tr><td class = \"rowNumber\" style = \"font-weight: bold; text-align: right;\">3</td><td style = \"text-align: left;\">P3M</td><td style = \"text-align: left;\">Quarterly</td></tr><tr><td class = \"rowNumber\" style = \"font-weight: bold; text-align: right;\">4</td><td style = \"text-align: left;\">P1M</td><td style = \"text-align: left;\">Monthly</td></tr><tr><td class = \"rowNumber\" style = \"font-weight: bold; text-align: right;\">5</td><td style = \"text-align: left;\">P7D</td><td style = \"text-align: left;\">Weekly</td></tr><tr><td class = \"rowNumber\" style = \"font-weight: bold; text-align: right;\">6</td><td style = \"text-align: left;\">P1D</td><td style = \"text-align: left;\">Daily</td></tr></tbody></table></div>"
      ],
      "text/latex": [
       "\\begin{tabular}{r|cc}\n",
       "\t& parameter\\_value & description\\\\\n",
       "\t\\hline\n",
       "\t& String & String\\\\\n",
       "\t\\hline\n",
       "\t1 & P1Y & Annual \\\\\n",
       "\t2 & P6M & Bi-annual \\\\\n",
       "\t3 & P3M & Quarterly \\\\\n",
       "\t4 & P1M & Monthly \\\\\n",
       "\t5 & P7D & Weekly \\\\\n",
       "\t6 & P1D & Daily \\\\\n",
       "\\end{tabular}\n"
      ],
      "text/plain": [
       "\u001b[1m6×2 DataFrame\u001b[0m\n",
       "\u001b[1m Row \u001b[0m│\u001b[1m parameter_value \u001b[0m\u001b[1m description \u001b[0m\n",
       "     │\u001b[90m String          \u001b[0m\u001b[90m String      \u001b[0m\n",
       "─────┼──────────────────────────────\n",
       "   1 │ P1Y              Annual\n",
       "   2 │ P6M              Bi-annual\n",
       "   3 │ P3M              Quarterly\n",
       "   4 │ P1M              Monthly\n",
       "   5 │ P7D              Weekly\n",
       "   6 │ P1D              Daily"
      ]
     },
     "execution_count": 26,
     "metadata": {},
     "output_type": "execute_result"
    }
   ],
   "source": [
    "ifs_time = ifs_structure[\"Parameter Values\"][\"CL_TIME_FORMAT\"]"
   ]
  },
  {
   "cell_type": "code",
   "execution_count": 26,
   "id": "af7de909",
   "metadata": {},
   "outputs": [
    {
     "data": {
      "text/plain": [
       "6-element Vector{String}:\n",
       " \"Annual\"\n",
       " \"Bi-annual\"\n",
       " \"Quarterly\"\n",
       " \"Monthly\"\n",
       " \"Weekly\"\n",
       " \"Daily\""
      ]
     },
     "execution_count": 27,
     "metadata": {},
     "output_type": "execute_result"
    }
   ],
   "source": [
    "ifs_time.description"
   ]
  },
  {
   "cell_type": "markdown",
   "id": "7c62e61d",
   "metadata": {},
   "source": [
    "### Countries: \"CL_AREA_IFS\"\n"
   ]
  },
  {
   "cell_type": "code",
   "execution_count": 27,
   "id": "8cb292eb",
   "metadata": {},
   "outputs": [
    {
     "data": {
      "text/html": [
       "<div><div style = \"float: left;\"><span>278×2 DataFrame</span></div><div style = \"float: right;\"><span style = \"font-style: italic;\">253 rows omitted</span></div><div style = \"clear: both;\"></div></div><div class = \"data-frame\" style = \"overflow-x: scroll;\"><table class = \"data-frame\" style = \"margin-bottom: 6px;\"><thead><tr class = \"header\"><th class = \"rowNumber\" style = \"font-weight: bold; text-align: right;\">Row</th><th style = \"text-align: left;\">parameter_value</th><th style = \"text-align: left;\">description</th></tr><tr class = \"subheader headerLastRow\"><th class = \"rowNumber\" style = \"font-weight: bold; text-align: right;\"></th><th title = \"String\" style = \"text-align: left;\">String</th><th title = \"String\" style = \"text-align: left;\">String</th></tr></thead><tbody><tr><td class = \"rowNumber\" style = \"font-weight: bold; text-align: right;\">1</td><td style = \"text-align: left;\">AF</td><td style = \"text-align: left;\">Afghanistan</td></tr><tr><td class = \"rowNumber\" style = \"font-weight: bold; text-align: right;\">2</td><td style = \"text-align: left;\">AL</td><td style = \"text-align: left;\">Albania</td></tr><tr><td class = \"rowNumber\" style = \"font-weight: bold; text-align: right;\">3</td><td style = \"text-align: left;\">DZ</td><td style = \"text-align: left;\">Algeria</td></tr><tr><td class = \"rowNumber\" style = \"font-weight: bold; text-align: right;\">4</td><td style = \"text-align: left;\">AD</td><td style = \"text-align: left;\">Andorra</td></tr><tr><td class = \"rowNumber\" style = \"font-weight: bold; text-align: right;\">5</td><td style = \"text-align: left;\">AO</td><td style = \"text-align: left;\">Angola</td></tr><tr><td class = \"rowNumber\" style = \"font-weight: bold; text-align: right;\">6</td><td style = \"text-align: left;\">AI</td><td style = \"text-align: left;\">Anguilla</td></tr><tr><td class = \"rowNumber\" style = \"font-weight: bold; text-align: right;\">7</td><td style = \"text-align: left;\">AG</td><td style = \"text-align: left;\">Antigua and Barbuda</td></tr><tr><td class = \"rowNumber\" style = \"font-weight: bold; text-align: right;\">8</td><td style = \"text-align: left;\">5M</td><td style = \"text-align: left;\">AMF (Arab Monetary Fund)</td></tr><tr><td class = \"rowNumber\" style = \"font-weight: bold; text-align: right;\">9</td><td style = \"text-align: left;\">AR</td><td style = \"text-align: left;\">Argentina</td></tr><tr><td class = \"rowNumber\" style = \"font-weight: bold; text-align: right;\">10</td><td style = \"text-align: left;\">AM</td><td style = \"text-align: left;\">Armenia</td></tr><tr><td class = \"rowNumber\" style = \"font-weight: bold; text-align: right;\">11</td><td style = \"text-align: left;\">AW</td><td style = \"text-align: left;\">Aruba</td></tr><tr><td class = \"rowNumber\" style = \"font-weight: bold; text-align: right;\">12</td><td style = \"text-align: left;\">AU</td><td style = \"text-align: left;\">Australia</td></tr><tr><td class = \"rowNumber\" style = \"font-weight: bold; text-align: right;\">13</td><td style = \"text-align: left;\">AT</td><td style = \"text-align: left;\">Austria</td></tr><tr><td style = \"text-align: right;\">&vellip;</td><td style = \"text-align: right;\">&vellip;</td><td style = \"text-align: right;\">&vellip;</td></tr><tr><td class = \"rowNumber\" style = \"font-weight: bold; text-align: right;\">267</td><td style = \"text-align: left;\">XR44</td><td style = \"text-align: left;\">Non-oil Developing Countries (IMF)</td></tr><tr><td class = \"rowNumber\" style = \"font-weight: bold; text-align: right;\">268</td><td style = \"text-align: left;\">1C_NSC</td><td style = \"text-align: left;\">Non SRF countries</td></tr><tr><td class = \"rowNumber\" style = \"font-weight: bold; text-align: right;\">269</td><td style = \"text-align: left;\">XR21</td><td style = \"text-align: left;\">Oil-exporting Countries (IMF)</td></tr><tr><td class = \"rowNumber\" style = \"font-weight: bold; text-align: right;\">270</td><td style = \"text-align: left;\">XA69</td><td style = \"text-align: left;\">Other Central America not allocated (IMF)</td></tr><tr><td class = \"rowNumber\" style = \"font-weight: bold; text-align: right;\">271</td><td style = \"text-align: left;\">1C_970</td><td style = \"text-align: left;\">Other Holders</td></tr><tr><td class = \"rowNumber\" style = \"font-weight: bold; text-align: right;\">272</td><td style = \"text-align: left;\">1C_SRF_less_EMU</td><td style = \"text-align: left;\">SRF (excluding EA)</td></tr><tr><td class = \"rowNumber\" style = \"font-weight: bold; text-align: right;\">273</td><td style = \"text-align: left;\">1C_SRF_plus_EMU</td><td style = \"text-align: left;\">SRF (including EA)</td></tr><tr><td class = \"rowNumber\" style = \"font-weight: bold; text-align: right;\">274</td><td style = \"text-align: left;\">1C_SRF</td><td style = \"text-align: left;\">SRF Countries</td></tr><tr><td class = \"rowNumber\" style = \"font-weight: bold; text-align: right;\">275</td><td style = \"text-align: left;\">F6</td><td style = \"text-align: left;\">Sub-Saharan Africa</td></tr><tr><td class = \"rowNumber\" style = \"font-weight: bold; text-align: right;\">276</td><td style = \"text-align: left;\">7A</td><td style = \"text-align: left;\">WAEMU (West African Economic and Monetary Union)</td></tr><tr><td class = \"rowNumber\" style = \"font-weight: bold; text-align: right;\">277</td><td style = \"text-align: left;\">A10</td><td style = \"text-align: left;\">Western Hemisphere</td></tr><tr><td class = \"rowNumber\" style = \"font-weight: bold; text-align: right;\">278</td><td style = \"text-align: left;\">W00</td><td style = \"text-align: left;\">All Countries, excluding the IO</td></tr></tbody></table></div>"
      ],
      "text/latex": [
       "\\begin{tabular}{r|cc}\n",
       "\t& parameter\\_value & description\\\\\n",
       "\t\\hline\n",
       "\t& String & String\\\\\n",
       "\t\\hline\n",
       "\t1 & AF & Afghanistan \\\\\n",
       "\t2 & AL & Albania \\\\\n",
       "\t3 & DZ & Algeria \\\\\n",
       "\t4 & AD & Andorra \\\\\n",
       "\t5 & AO & Angola \\\\\n",
       "\t6 & AI & Anguilla \\\\\n",
       "\t7 & AG & Antigua and Barbuda \\\\\n",
       "\t8 & 5M & AMF (Arab Monetary Fund) \\\\\n",
       "\t9 & AR & Argentina \\\\\n",
       "\t10 & AM & Armenia \\\\\n",
       "\t11 & AW & Aruba \\\\\n",
       "\t12 & AU & Australia \\\\\n",
       "\t13 & AT & Austria \\\\\n",
       "\t14 & AZ & Azerbaijan \\\\\n",
       "\t15 & BS & Bahamas \\\\\n",
       "\t16 & BH & Bahrain \\\\\n",
       "\t17 & BD & Bangladesh \\\\\n",
       "\t18 & 5W & BEAC (Banque des Etats de l`Afrique Centrale) \\\\\n",
       "\t19 & 5B & BIS (Bank for International Settlements) \\\\\n",
       "\t20 & BB & Barbados \\\\\n",
       "\t21 & BY & Belarus \\\\\n",
       "\t22 & BE & Belgium \\\\\n",
       "\t23 & R1 & Belgo-Luxembourg Economic Union \\\\\n",
       "\t24 & BZ & Belize \\\\\n",
       "\t25 & BJ & Benin \\\\\n",
       "\t26 & BM & Bermuda \\\\\n",
       "\t27 & BT & Bhutan \\\\\n",
       "\t28 & BO & Bolivia \\\\\n",
       "\t29 & BA & Bosnia and Herzegovina \\\\\n",
       "\t30 & BW & Botswana \\\\\n",
       "\t$\\dots$ & $\\dots$ & $\\dots$ \\\\\n",
       "\\end{tabular}\n"
      ],
      "text/plain": [
       "\u001b[1m278×2 DataFrame\u001b[0m\n",
       "\u001b[1m Row \u001b[0m│\u001b[1m parameter_value \u001b[0m\u001b[1m description                       \u001b[0m\n",
       "     │\u001b[90m String          \u001b[0m\u001b[90m String                            \u001b[0m\n",
       "─────┼────────────────────────────────────────────────────\n",
       "   1 │ AF               Afghanistan\n",
       "   2 │ AL               Albania\n",
       "   3 │ DZ               Algeria\n",
       "   4 │ AD               Andorra\n",
       "   5 │ AO               Angola\n",
       "   6 │ AI               Anguilla\n",
       "   7 │ AG               Antigua and Barbuda\n",
       "   8 │ 5M               AMF (Arab Monetary Fund)\n",
       "   9 │ AR               Argentina\n",
       "  10 │ AM               Armenia\n",
       "  11 │ AW               Aruba\n",
       "  ⋮  │        ⋮                         ⋮\n",
       " 269 │ XR21             Oil-exporting Countries (IMF)\n",
       " 270 │ XA69             Other Central America not alloca…\n",
       " 271 │ 1C_970           Other Holders\n",
       " 272 │ 1C_SRF_less_EMU  SRF (excluding EA)\n",
       " 273 │ 1C_SRF_plus_EMU  SRF (including EA)\n",
       " 274 │ 1C_SRF           SRF Countries\n",
       " 275 │ F6               Sub-Saharan Africa\n",
       " 276 │ 7A               WAEMU (West African Economic and…\n",
       " 277 │ A10              Western Hemisphere\n",
       " 278 │ W00              All Countries, excluding the IO\n",
       "\u001b[36m                                          257 rows omitted\u001b[0m"
      ]
     },
     "execution_count": 28,
     "metadata": {},
     "output_type": "execute_result"
    }
   ],
   "source": [
    "ifs_countries = ifs_structure[\"Parameter Values\"][\"CL_AREA_IFS\"]"
   ]
  },
  {
   "cell_type": "code",
   "execution_count": 28,
   "id": "bda306d9",
   "metadata": {},
   "outputs": [
    {
     "data": {
      "text/plain": [
       "278-element Vector{String}:\n",
       " \"Afghanistan\"\n",
       " \"Albania\"\n",
       " \"Algeria\"\n",
       " \"Andorra\"\n",
       " \"Angola\"\n",
       " \"Anguilla\"\n",
       " \"Antigua and Barbuda\"\n",
       " \"AMF (Arab Monetary Fund)\"\n",
       " \"Argentina\"\n",
       " \"Armenia\"\n",
       " \"Aruba\"\n",
       " \"Australia\"\n",
       " \"Austria\"\n",
       " ⋮\n",
       " \"Non-oil Developing Countries (IMF)\"\n",
       " \"Non SRF countries\"\n",
       " \"Oil-exporting Countries (IMF)\"\n",
       " \"Other Central America not allocated (IMF)\"\n",
       " \"Other Holders\"\n",
       " \"SRF (excluding EA)\"\n",
       " \"SRF (including EA)\"\n",
       " \"SRF Countries\"\n",
       " \"Sub-Saharan Africa\"\n",
       " \"WAEMU (West African Economic and Monetary Union)\"\n",
       " \"Western Hemisphere\"\n",
       " \"All Countries, excluding the IO\""
      ]
     },
     "execution_count": 29,
     "metadata": {},
     "output_type": "execute_result"
    }
   ],
   "source": [
    "ifs_countries.description"
   ]
  },
  {
   "cell_type": "markdown",
   "id": "44c041a3",
   "metadata": {},
   "source": [
    "### frequency: \"CL_FREQ\"\n"
   ]
  },
  {
   "cell_type": "code",
   "execution_count": 29,
   "id": "f3c828ea",
   "metadata": {},
   "outputs": [
    {
     "data": {
      "text/html": [
       "<div><div style = \"float: left;\"><span>6×2 DataFrame</span></div><div style = \"clear: both;\"></div></div><div class = \"data-frame\" style = \"overflow-x: scroll;\"><table class = \"data-frame\" style = \"margin-bottom: 6px;\"><thead><tr class = \"header\"><th class = \"rowNumber\" style = \"font-weight: bold; text-align: right;\">Row</th><th style = \"text-align: left;\">parameter_value</th><th style = \"text-align: left;\">description</th></tr><tr class = \"subheader headerLastRow\"><th class = \"rowNumber\" style = \"font-weight: bold; text-align: right;\"></th><th title = \"String\" style = \"text-align: left;\">String</th><th title = \"String\" style = \"text-align: left;\">String</th></tr></thead><tbody><tr><td class = \"rowNumber\" style = \"font-weight: bold; text-align: right;\">1</td><td style = \"text-align: left;\">A</td><td style = \"text-align: left;\">Annual</td></tr><tr><td class = \"rowNumber\" style = \"font-weight: bold; text-align: right;\">2</td><td style = \"text-align: left;\">B</td><td style = \"text-align: left;\">Bi-annual</td></tr><tr><td class = \"rowNumber\" style = \"font-weight: bold; text-align: right;\">3</td><td style = \"text-align: left;\">Q</td><td style = \"text-align: left;\">Quarterly</td></tr><tr><td class = \"rowNumber\" style = \"font-weight: bold; text-align: right;\">4</td><td style = \"text-align: left;\">M</td><td style = \"text-align: left;\">Monthly</td></tr><tr><td class = \"rowNumber\" style = \"font-weight: bold; text-align: right;\">5</td><td style = \"text-align: left;\">D</td><td style = \"text-align: left;\">Daily</td></tr><tr><td class = \"rowNumber\" style = \"font-weight: bold; text-align: right;\">6</td><td style = \"text-align: left;\">W</td><td style = \"text-align: left;\">Weekly</td></tr></tbody></table></div>"
      ],
      "text/latex": [
       "\\begin{tabular}{r|cc}\n",
       "\t& parameter\\_value & description\\\\\n",
       "\t\\hline\n",
       "\t& String & String\\\\\n",
       "\t\\hline\n",
       "\t1 & A & Annual \\\\\n",
       "\t2 & B & Bi-annual \\\\\n",
       "\t3 & Q & Quarterly \\\\\n",
       "\t4 & M & Monthly \\\\\n",
       "\t5 & D & Daily \\\\\n",
       "\t6 & W & Weekly \\\\\n",
       "\\end{tabular}\n"
      ],
      "text/plain": [
       "\u001b[1m6×2 DataFrame\u001b[0m\n",
       "\u001b[1m Row \u001b[0m│\u001b[1m parameter_value \u001b[0m\u001b[1m description \u001b[0m\n",
       "     │\u001b[90m String          \u001b[0m\u001b[90m String      \u001b[0m\n",
       "─────┼──────────────────────────────\n",
       "   1 │ A                Annual\n",
       "   2 │ B                Bi-annual\n",
       "   3 │ Q                Quarterly\n",
       "   4 │ M                Monthly\n",
       "   5 │ D                Daily\n",
       "   6 │ W                Weekly"
      ]
     },
     "execution_count": 30,
     "metadata": {},
     "output_type": "execute_result"
    }
   ],
   "source": [
    "ifs_frequency = ifs_structure[\"Parameter Values\"][\"CL_FREQ\"]"
   ]
  },
  {
   "cell_type": "code",
   "execution_count": 30,
   "id": "70c122a0",
   "metadata": {},
   "outputs": [
    {
     "data": {
      "text/plain": [
       "6-element Vector{String}:\n",
       " \"Annual\"\n",
       " \"Bi-annual\"\n",
       " \"Quarterly\"\n",
       " \"Monthly\"\n",
       " \"Daily\"\n",
       " \"Weekly\""
      ]
     },
     "execution_count": 31,
     "metadata": {},
     "output_type": "execute_result"
    }
   ],
   "source": [
    "ifs_frequency.description"
   ]
  },
  {
   "cell_type": "markdown",
   "id": "1304ed9f",
   "metadata": {},
   "source": [
    "## One Country, One Indicator\n"
   ]
  },
  {
   "cell_type": "code",
   "execution_count": 31,
   "id": "11160316",
   "metadata": {},
   "outputs": [
    {
     "data": {
      "text/plain": [
       "IMF Data Series\n",
       "Database: IFS\n",
       "Area: US\n",
       "Indicator: NGDP_SA_XDC\n",
       "Description: \n",
       "Frequency: Q\n",
       "Time Period: 1950 to 2023\n",
       "Data: 293 x 2 DataFrame\n"
      ]
     },
     "execution_count": 32,
     "metadata": {},
     "output_type": "execute_result"
    }
   ],
   "source": [
    "indicators = \"NGDP_SA_XDC\"\n",
    "countries  = \"US\"\n",
    "us_gdp = get_ifs_data(countries, indicators, \"Q\", 1900, 2100)"
   ]
  },
  {
   "cell_type": "code",
   "execution_count": 32,
   "id": "07d3b70b",
   "metadata": {},
   "outputs": [
    {
     "data": {
      "text/html": [
       "<div><div style = \"float: left;\"><span>293×2 DataFrame</span></div><div style = \"float: right;\"><span style = \"font-style: italic;\">268 rows omitted</span></div><div style = \"clear: both;\"></div></div><div class = \"data-frame\" style = \"overflow-x: scroll;\"><table class = \"data-frame\" style = \"margin-bottom: 6px;\"><thead><tr class = \"header\"><th class = \"rowNumber\" style = \"font-weight: bold; text-align: right;\">Row</th><th style = \"text-align: left;\">date</th><th style = \"text-align: left;\">value</th></tr><tr class = \"subheader headerLastRow\"><th class = \"rowNumber\" style = \"font-weight: bold; text-align: right;\"></th><th title = \"Dates.Date\" style = \"text-align: left;\">Date</th><th title = \"Float64\" style = \"text-align: left;\">Float64</th></tr></thead><tbody><tr><td class = \"rowNumber\" style = \"font-weight: bold; text-align: right;\">1</td><td style = \"text-align: left;\">1950-03-01</td><td style = \"text-align: right;\">70207.0</td></tr><tr><td class = \"rowNumber\" style = \"font-weight: bold; text-align: right;\">2</td><td style = \"text-align: left;\">1950-06-01</td><td style = \"text-align: right;\">72595.8</td></tr><tr><td class = \"rowNumber\" style = \"font-weight: bold; text-align: right;\">3</td><td style = \"text-align: left;\">1950-09-01</td><td style = \"text-align: right;\">77038.3</td></tr><tr><td class = \"rowNumber\" style = \"font-weight: bold; text-align: right;\">4</td><td style = \"text-align: left;\">1950-12-01</td><td style = \"text-align: right;\">79986.3</td></tr><tr><td class = \"rowNumber\" style = \"font-weight: bold; text-align: right;\">5</td><td style = \"text-align: left;\">1951-03-01</td><td style = \"text-align: right;\">84000.0</td></tr><tr><td class = \"rowNumber\" style = \"font-weight: bold; text-align: right;\">6</td><td style = \"text-align: left;\">1951-06-01</td><td style = \"text-align: right;\">86022.5</td></tr><tr><td class = \"rowNumber\" style = \"font-weight: bold; text-align: right;\">7</td><td style = \"text-align: left;\">1951-09-01</td><td style = \"text-align: right;\">87846.3</td></tr><tr><td class = \"rowNumber\" style = \"font-weight: bold; text-align: right;\">8</td><td style = \"text-align: left;\">1951-12-01</td><td style = \"text-align: right;\">89044.5</td></tr><tr><td class = \"rowNumber\" style = \"font-weight: bold; text-align: right;\">9</td><td style = \"text-align: left;\">1952-03-01</td><td style = \"text-align: right;\">89955.0</td></tr><tr><td class = \"rowNumber\" style = \"font-weight: bold; text-align: right;\">10</td><td style = \"text-align: left;\">1952-06-01</td><td style = \"text-align: right;\">90257.5</td></tr><tr><td class = \"rowNumber\" style = \"font-weight: bold; text-align: right;\">11</td><td style = \"text-align: left;\">1952-09-01</td><td style = \"text-align: right;\">91925.3</td></tr><tr><td class = \"rowNumber\" style = \"font-weight: bold; text-align: right;\">12</td><td style = \"text-align: left;\">1952-12-01</td><td style = \"text-align: right;\">95203.0</td></tr><tr><td class = \"rowNumber\" style = \"font-weight: bold; text-align: right;\">13</td><td style = \"text-align: left;\">1953-03-01</td><td style = \"text-align: right;\">96995.0</td></tr><tr><td style = \"text-align: right;\">&vellip;</td><td style = \"text-align: right;\">&vellip;</td><td style = \"text-align: right;\">&vellip;</td></tr><tr><td class = \"rowNumber\" style = \"font-weight: bold; text-align: right;\">282</td><td style = \"text-align: left;\">2020-06-01</td><td style = \"text-align: right;\">4.90918e6</td></tr><tr><td class = \"rowNumber\" style = \"font-weight: bold; text-align: right;\">283</td><td style = \"text-align: left;\">2020-09-01</td><td style = \"text-align: right;\">5.34061e6</td></tr><tr><td class = \"rowNumber\" style = \"font-weight: bold; text-align: right;\">284</td><td style = \"text-align: left;\">2020-12-01</td><td style = \"text-align: right;\">5.42618e6</td></tr><tr><td class = \"rowNumber\" style = \"font-weight: bold; text-align: right;\">285</td><td style = \"text-align: left;\">2021-03-01</td><td style = \"text-align: right;\">5.57846e6</td></tr><tr><td class = \"rowNumber\" style = \"font-weight: bold; text-align: right;\">286</td><td style = \"text-align: left;\">2021-06-01</td><td style = \"text-align: right;\">5.76173e6</td></tr><tr><td class = \"rowNumber\" style = \"font-weight: bold; text-align: right;\">287</td><td style = \"text-align: left;\">2021-09-01</td><td style = \"text-align: right;\">5.8876e6</td></tr><tr><td class = \"rowNumber\" style = \"font-weight: bold; text-align: right;\">288</td><td style = \"text-align: left;\">2021-12-01</td><td style = \"text-align: right;\">6.08728e6</td></tr><tr><td class = \"rowNumber\" style = \"font-weight: bold; text-align: right;\">289</td><td style = \"text-align: left;\">2022-03-01</td><td style = \"text-align: right;\">6.18512e6</td></tr><tr><td class = \"rowNumber\" style = \"font-weight: bold; text-align: right;\">290</td><td style = \"text-align: left;\">2022-06-01</td><td style = \"text-align: right;\">6.31212e6</td></tr><tr><td class = \"rowNumber\" style = \"font-weight: bold; text-align: right;\">291</td><td style = \"text-align: left;\">2022-09-01</td><td style = \"text-align: right;\">6.43099e6</td></tr><tr><td class = \"rowNumber\" style = \"font-weight: bold; text-align: right;\">292</td><td style = \"text-align: left;\">2022-12-01</td><td style = \"text-align: right;\">6.5345e6</td></tr><tr><td class = \"rowNumber\" style = \"font-weight: bold; text-align: right;\">293</td><td style = \"text-align: left;\">2023-03-01</td><td style = \"text-align: right;\">6.63244e6</td></tr></tbody></table></div>"
      ],
      "text/latex": [
       "\\begin{tabular}{r|cc}\n",
       "\t& date & value\\\\\n",
       "\t\\hline\n",
       "\t& Date & Float64\\\\\n",
       "\t\\hline\n",
       "\t1 & 1950-03-01 & 70207.0 \\\\\n",
       "\t2 & 1950-06-01 & 72595.8 \\\\\n",
       "\t3 & 1950-09-01 & 77038.3 \\\\\n",
       "\t4 & 1950-12-01 & 79986.3 \\\\\n",
       "\t5 & 1951-03-01 & 84000.0 \\\\\n",
       "\t6 & 1951-06-01 & 86022.5 \\\\\n",
       "\t7 & 1951-09-01 & 87846.3 \\\\\n",
       "\t8 & 1951-12-01 & 89044.5 \\\\\n",
       "\t9 & 1952-03-01 & 89955.0 \\\\\n",
       "\t10 & 1952-06-01 & 90257.5 \\\\\n",
       "\t11 & 1952-09-01 & 91925.3 \\\\\n",
       "\t12 & 1952-12-01 & 95203.0 \\\\\n",
       "\t13 & 1953-03-01 & 96995.0 \\\\\n",
       "\t14 & 1953-06-01 & 97937.3 \\\\\n",
       "\t15 & 1953-09-01 & 97792.8 \\\\\n",
       "\t16 & 1953-12-01 & 96492.5 \\\\\n",
       "\t17 & 1954-03-01 & 96336.3 \\\\\n",
       "\t18 & 1954-06-01 & 96530.3 \\\\\n",
       "\t19 & 1954-09-01 & 97749.0 \\\\\n",
       "\t20 & 1954-12-01 & 99933.5 \\\\\n",
       "\t21 & 1955-03-01 & 1.03268e5 \\\\\n",
       "\t22 & 1955-06-01 & 105383.0 \\\\\n",
       "\t23 & 1955-09-01 & 1.07555e5 \\\\\n",
       "\t24 & 1955-12-01 & 109273.0 \\\\\n",
       "\t25 & 1956-03-01 & 1.09936e5 \\\\\n",
       "\t26 & 1956-06-01 & 1.11502e5 \\\\\n",
       "\t27 & 1956-09-01 & 1.12798e5 \\\\\n",
       "\t28 & 1956-12-01 & 1.15116e5 \\\\\n",
       "\t29 & 1957-03-01 & 1.17445e5 \\\\\n",
       "\t30 & 1957-06-01 & 1.18006e5 \\\\\n",
       "\t$\\dots$ & $\\dots$ & $\\dots$ \\\\\n",
       "\\end{tabular}\n"
      ],
      "text/plain": [
       "\u001b[1m293×2 DataFrame\u001b[0m\n",
       "\u001b[1m Row \u001b[0m│\u001b[1m date       \u001b[0m\u001b[1m value         \u001b[0m\n",
       "     │\u001b[90m Date       \u001b[0m\u001b[90m Float64       \u001b[0m\n",
       "─────┼───────────────────────────\n",
       "   1 │ 1950-03-01  70207.0\n",
       "   2 │ 1950-06-01  72595.8\n",
       "   3 │ 1950-09-01  77038.3\n",
       "   4 │ 1950-12-01  79986.3\n",
       "   5 │ 1951-03-01  84000.0\n",
       "   6 │ 1951-06-01  86022.5\n",
       "   7 │ 1951-09-01  87846.3\n",
       "   8 │ 1951-12-01  89044.5\n",
       "   9 │ 1952-03-01  89955.0\n",
       "  10 │ 1952-06-01  90257.5\n",
       "  11 │ 1952-09-01  91925.3\n",
       "  ⋮  │     ⋮             ⋮\n",
       " 284 │ 2020-12-01      5.42618e6\n",
       " 285 │ 2021-03-01      5.57846e6\n",
       " 286 │ 2021-06-01      5.76173e6\n",
       " 287 │ 2021-09-01      5.8876e6\n",
       " 288 │ 2021-12-01      6.08728e6\n",
       " 289 │ 2022-03-01      6.18512e6\n",
       " 290 │ 2022-06-01      6.31212e6\n",
       " 291 │ 2022-09-01      6.43099e6\n",
       " 292 │ 2022-12-01      6.5345e6\n",
       " 293 │ 2023-03-01      6.63244e6\n",
       "\u001b[36m                 272 rows omitted\u001b[0m"
      ]
     },
     "execution_count": 33,
     "metadata": {},
     "output_type": "execute_result"
    }
   ],
   "source": [
    "us_gdp.series"
   ]
  },
  {
   "cell_type": "code",
   "execution_count": 33,
   "id": "976c42c9",
   "metadata": {},
   "outputs": [
    {
     "data": {
      "text/plain": [
       "\"NGDP_SA_XDC\""
      ]
     },
     "execution_count": 34,
     "metadata": {},
     "output_type": "execute_result"
    }
   ],
   "source": [
    "us_gdp.indicator"
   ]
  },
  {
   "cell_type": "code",
   "execution_count": 34,
   "id": "79939d7f",
   "metadata": {},
   "outputs": [
    {
     "data": {
      "text/plain": [
       "\"Q\""
      ]
     },
     "execution_count": 35,
     "metadata": {},
     "output_type": "execute_result"
    }
   ],
   "source": [
    "us_gdp.frequency"
   ]
  },
  {
   "cell_type": "markdown",
   "id": "185acc20",
   "metadata": {},
   "source": [
    "## Availability of Data\n"
   ]
  },
  {
   "cell_type": "code",
   "execution_count": 35,
   "id": "1669070d",
   "metadata": {},
   "outputs": [
    {
     "data": {
      "text/plain": [
       "IMF Data Series\n",
       "Database: IFS\n",
       "Area: US\n",
       "Indicator: NGDP_SA_XDC\n",
       "Description: \n",
       "Frequency: Q\n",
       "Time Period: 1950 to 2023\n",
       "Data: 293 x 2 DataFrame\n"
      ]
     },
     "execution_count": 36,
     "metadata": {},
     "output_type": "execute_result"
    }
   ],
   "source": [
    "indic = \"NGDP_SA_XDC\"\n",
    "area  = \"US\"\n",
    "data_available = get_ifs_data(area, indic, \"Q\", 1900, 2100)"
   ]
  },
  {
   "cell_type": "code",
   "execution_count": 36,
   "id": "fedc66ad",
   "metadata": {},
   "outputs": [
    {
     "data": {
      "text/plain": [
       "IMF Data Series\n",
       "Database: IFS\n",
       "Area: US\n",
       "Indicator: NGDP_SA_XDC\n",
       "Time Period: 1900 to 2100\n",
       "Note: Indicator not defined for the given area or time period\n"
      ]
     },
     "execution_count": 37,
     "metadata": {},
     "output_type": "execute_result"
    }
   ],
   "source": [
    "data_not_available = get_ifs_data(area, indic, \"M\", 1900, 2100)"
   ]
  },
  {
   "cell_type": "code",
   "execution_count": 37,
   "id": "47a9e7b8",
   "metadata": {},
   "outputs": [
    {
     "data": {
      "text/plain": [
       "IMF Data Series\n",
       "Database: IFS\n",
       "Area: US\n",
       "Indicator: NGDP_SA\n",
       "Time Period: 1900 to 2100\n",
       "Note: Indicator not defined for the given area or time period\n"
      ]
     },
     "execution_count": 38,
     "metadata": {},
     "output_type": "execute_result"
    }
   ],
   "source": [
    "data_not_defined = get_ifs_data(area, \"NGDP_SA\", \"Q\", 1900, 2100)"
   ]
  },
  {
   "cell_type": "markdown",
   "id": "7be3417e",
   "metadata": {},
   "source": [
    "## Filter Indicators\n"
   ]
  },
  {
   "cell_type": "code",
   "execution_count": 38,
   "id": "360909e6",
   "metadata": {},
   "outputs": [
    {
     "data": {
      "text/html": [
       "<div><div style = \"float: left;\"><span>6×2 DataFrame</span></div><div style = \"clear: both;\"></div></div><div class = \"data-frame\" style = \"overflow-x: scroll;\"><table class = \"data-frame\" style = \"margin-bottom: 6px;\"><thead><tr class = \"header\"><th class = \"rowNumber\" style = \"font-weight: bold; text-align: right;\">Row</th><th style = \"text-align: left;\">parameter_value</th><th style = \"text-align: left;\">description</th></tr><tr class = \"subheader headerLastRow\"><th class = \"rowNumber\" style = \"font-weight: bold; text-align: right;\"></th><th title = \"String\" style = \"text-align: left;\">String</th><th title = \"String\" style = \"text-align: left;\">String</th></tr></thead><tbody><tr><td class = \"rowNumber\" style = \"font-weight: bold; text-align: right;\">1</td><td style = \"text-align: left;\">NGDP_XDC</td><td style = \"text-align: left;\">Gross Domestic Product, Nominal, Domestic Currency</td></tr><tr><td class = \"rowNumber\" style = \"font-weight: bold; text-align: right;\">2</td><td style = \"text-align: left;\">NGDP_SA_XDC</td><td style = \"text-align: left;\">Gross Domestic Product, Nominal, Seasonally Adjusted, Domestic Currency</td></tr><tr><td class = \"rowNumber\" style = \"font-weight: bold; text-align: right;\">3</td><td style = \"text-align: left;\">NGDP_NSA_XDC</td><td style = \"text-align: left;\">Gross Domestic Product, Nominal, Unadjusted, Domestic Currency</td></tr><tr><td class = \"rowNumber\" style = \"font-weight: bold; text-align: right;\">4</td><td style = \"text-align: left;\">NGDP_R_XDC</td><td style = \"text-align: left;\">Gross Domestic Product, Real, Domestic Currency</td></tr><tr><td class = \"rowNumber\" style = \"font-weight: bold; text-align: right;\">5</td><td style = \"text-align: left;\">NGDP_R_SA_XDC</td><td style = \"text-align: left;\">Gross Domestic Product, Real, Seasonally Adjusted, Domestic Currency</td></tr><tr><td class = \"rowNumber\" style = \"font-weight: bold; text-align: right;\">6</td><td style = \"text-align: left;\">NGDP_R_NSA_XDC</td><td style = \"text-align: left;\">Gross Domestic Product, Real, Unadjusted, Domestic Currency</td></tr></tbody></table></div>"
      ],
      "text/latex": [
       "\\begin{tabular}{r|cc}\n",
       "\t& parameter\\_value & description\\\\\n",
       "\t\\hline\n",
       "\t& String & String\\\\\n",
       "\t\\hline\n",
       "\t1 & NGDP\\_XDC & Gross Domestic Product, Nominal, Domestic Currency \\\\\n",
       "\t2 & NGDP\\_SA\\_XDC & Gross Domestic Product, Nominal, Seasonally Adjusted, Domestic Currency \\\\\n",
       "\t3 & NGDP\\_NSA\\_XDC & Gross Domestic Product, Nominal, Unadjusted, Domestic Currency \\\\\n",
       "\t4 & NGDP\\_R\\_XDC & Gross Domestic Product, Real, Domestic Currency \\\\\n",
       "\t5 & NGDP\\_R\\_SA\\_XDC & Gross Domestic Product, Real, Seasonally Adjusted, Domestic Currency \\\\\n",
       "\t6 & NGDP\\_R\\_NSA\\_XDC & Gross Domestic Product, Real, Unadjusted, Domestic Currency \\\\\n",
       "\\end{tabular}\n"
      ],
      "text/plain": [
       "\u001b[1m6×2 DataFrame\u001b[0m\n",
       "\u001b[1m Row \u001b[0m│\u001b[1m parameter_value \u001b[0m\u001b[1m description                       \u001b[0m\n",
       "     │\u001b[90m String          \u001b[0m\u001b[90m String                            \u001b[0m\n",
       "─────┼────────────────────────────────────────────────────\n",
       "   1 │ NGDP_XDC         Gross Domestic Product, Nominal,…\n",
       "   2 │ NGDP_SA_XDC      Gross Domestic Product, Nominal,…\n",
       "   3 │ NGDP_NSA_XDC     Gross Domestic Product, Nominal,…\n",
       "   4 │ NGDP_R_XDC       Gross Domestic Product, Real, Do…\n",
       "   5 │ NGDP_R_SA_XDC    Gross Domestic Product, Real, Se…\n",
       "   6 │ NGDP_R_NSA_XDC   Gross Domestic Product, Real, Un…"
      ]
     },
     "execution_count": 39,
     "metadata": {},
     "output_type": "execute_result"
    }
   ],
   "source": [
    "ifs_indicators = ifs_structure[\"Parameter Values\"][\"CL_INDICATOR_IFS\"]\n",
    "#gdp_indicators = @where(\n",
    "gdp_indicators = @subset(\n",
    "\tifs_indicators,\n",
    "\toccursin.(\"Gross Domestic Product\", :description),\n",
    "\toccursin.(\"Domestic Currency\", :description))"
   ]
  },
  {
   "cell_type": "code",
   "execution_count": 39,
   "id": "74cc8a4d",
   "metadata": {},
   "outputs": [
    {
     "data": {
      "text/plain": [
       "IMF Data Series\n",
       "Database: IFS\n",
       "Area: US\n",
       "Indicator: NGDP_SA_XDC\n",
       "Description: \n",
       "Frequency: Q\n",
       "Time Period: 1950 to 2023\n",
       "Data: 293 x 2 DataFrame\n"
      ]
     },
     "execution_count": 40,
     "metadata": {},
     "output_type": "execute_result"
    }
   ],
   "source": [
    "indicators = gdp_indicators[2,1]\n",
    "countries  = \"US\"\n",
    "us_gdp = get_ifs_data(countries, indicators, \"Q\", 1900, 2100)"
   ]
  },
  {
   "cell_type": "code",
   "execution_count": 40,
   "id": "a1d2429f",
   "metadata": {},
   "outputs": [
    {
     "data": {
      "text/html": [
       "<div><div style = \"float: left;\"><span>293×2 DataFrame</span></div><div style = \"float: right;\"><span style = \"font-style: italic;\">268 rows omitted</span></div><div style = \"clear: both;\"></div></div><div class = \"data-frame\" style = \"overflow-x: scroll;\"><table class = \"data-frame\" style = \"margin-bottom: 6px;\"><thead><tr class = \"header\"><th class = \"rowNumber\" style = \"font-weight: bold; text-align: right;\">Row</th><th style = \"text-align: left;\">date</th><th style = \"text-align: left;\">value</th></tr><tr class = \"subheader headerLastRow\"><th class = \"rowNumber\" style = \"font-weight: bold; text-align: right;\"></th><th title = \"Dates.Date\" style = \"text-align: left;\">Date</th><th title = \"Float64\" style = \"text-align: left;\">Float64</th></tr></thead><tbody><tr><td class = \"rowNumber\" style = \"font-weight: bold; text-align: right;\">1</td><td style = \"text-align: left;\">1950-03-01</td><td style = \"text-align: right;\">70207.0</td></tr><tr><td class = \"rowNumber\" style = \"font-weight: bold; text-align: right;\">2</td><td style = \"text-align: left;\">1950-06-01</td><td style = \"text-align: right;\">72595.8</td></tr><tr><td class = \"rowNumber\" style = \"font-weight: bold; text-align: right;\">3</td><td style = \"text-align: left;\">1950-09-01</td><td style = \"text-align: right;\">77038.3</td></tr><tr><td class = \"rowNumber\" style = \"font-weight: bold; text-align: right;\">4</td><td style = \"text-align: left;\">1950-12-01</td><td style = \"text-align: right;\">79986.3</td></tr><tr><td class = \"rowNumber\" style = \"font-weight: bold; text-align: right;\">5</td><td style = \"text-align: left;\">1951-03-01</td><td style = \"text-align: right;\">84000.0</td></tr><tr><td class = \"rowNumber\" style = \"font-weight: bold; text-align: right;\">6</td><td style = \"text-align: left;\">1951-06-01</td><td style = \"text-align: right;\">86022.5</td></tr><tr><td class = \"rowNumber\" style = \"font-weight: bold; text-align: right;\">7</td><td style = \"text-align: left;\">1951-09-01</td><td style = \"text-align: right;\">87846.3</td></tr><tr><td class = \"rowNumber\" style = \"font-weight: bold; text-align: right;\">8</td><td style = \"text-align: left;\">1951-12-01</td><td style = \"text-align: right;\">89044.5</td></tr><tr><td class = \"rowNumber\" style = \"font-weight: bold; text-align: right;\">9</td><td style = \"text-align: left;\">1952-03-01</td><td style = \"text-align: right;\">89955.0</td></tr><tr><td class = \"rowNumber\" style = \"font-weight: bold; text-align: right;\">10</td><td style = \"text-align: left;\">1952-06-01</td><td style = \"text-align: right;\">90257.5</td></tr><tr><td class = \"rowNumber\" style = \"font-weight: bold; text-align: right;\">11</td><td style = \"text-align: left;\">1952-09-01</td><td style = \"text-align: right;\">91925.3</td></tr><tr><td class = \"rowNumber\" style = \"font-weight: bold; text-align: right;\">12</td><td style = \"text-align: left;\">1952-12-01</td><td style = \"text-align: right;\">95203.0</td></tr><tr><td class = \"rowNumber\" style = \"font-weight: bold; text-align: right;\">13</td><td style = \"text-align: left;\">1953-03-01</td><td style = \"text-align: right;\">96995.0</td></tr><tr><td style = \"text-align: right;\">&vellip;</td><td style = \"text-align: right;\">&vellip;</td><td style = \"text-align: right;\">&vellip;</td></tr><tr><td class = \"rowNumber\" style = \"font-weight: bold; text-align: right;\">282</td><td style = \"text-align: left;\">2020-06-01</td><td style = \"text-align: right;\">4.90918e6</td></tr><tr><td class = \"rowNumber\" style = \"font-weight: bold; text-align: right;\">283</td><td style = \"text-align: left;\">2020-09-01</td><td style = \"text-align: right;\">5.34061e6</td></tr><tr><td class = \"rowNumber\" style = \"font-weight: bold; text-align: right;\">284</td><td style = \"text-align: left;\">2020-12-01</td><td style = \"text-align: right;\">5.42618e6</td></tr><tr><td class = \"rowNumber\" style = \"font-weight: bold; text-align: right;\">285</td><td style = \"text-align: left;\">2021-03-01</td><td style = \"text-align: right;\">5.57846e6</td></tr><tr><td class = \"rowNumber\" style = \"font-weight: bold; text-align: right;\">286</td><td style = \"text-align: left;\">2021-06-01</td><td style = \"text-align: right;\">5.76173e6</td></tr><tr><td class = \"rowNumber\" style = \"font-weight: bold; text-align: right;\">287</td><td style = \"text-align: left;\">2021-09-01</td><td style = \"text-align: right;\">5.8876e6</td></tr><tr><td class = \"rowNumber\" style = \"font-weight: bold; text-align: right;\">288</td><td style = \"text-align: left;\">2021-12-01</td><td style = \"text-align: right;\">6.08728e6</td></tr><tr><td class = \"rowNumber\" style = \"font-weight: bold; text-align: right;\">289</td><td style = \"text-align: left;\">2022-03-01</td><td style = \"text-align: right;\">6.18512e6</td></tr><tr><td class = \"rowNumber\" style = \"font-weight: bold; text-align: right;\">290</td><td style = \"text-align: left;\">2022-06-01</td><td style = \"text-align: right;\">6.31212e6</td></tr><tr><td class = \"rowNumber\" style = \"font-weight: bold; text-align: right;\">291</td><td style = \"text-align: left;\">2022-09-01</td><td style = \"text-align: right;\">6.43099e6</td></tr><tr><td class = \"rowNumber\" style = \"font-weight: bold; text-align: right;\">292</td><td style = \"text-align: left;\">2022-12-01</td><td style = \"text-align: right;\">6.5345e6</td></tr><tr><td class = \"rowNumber\" style = \"font-weight: bold; text-align: right;\">293</td><td style = \"text-align: left;\">2023-03-01</td><td style = \"text-align: right;\">6.63244e6</td></tr></tbody></table></div>"
      ],
      "text/latex": [
       "\\begin{tabular}{r|cc}\n",
       "\t& date & value\\\\\n",
       "\t\\hline\n",
       "\t& Date & Float64\\\\\n",
       "\t\\hline\n",
       "\t1 & 1950-03-01 & 70207.0 \\\\\n",
       "\t2 & 1950-06-01 & 72595.8 \\\\\n",
       "\t3 & 1950-09-01 & 77038.3 \\\\\n",
       "\t4 & 1950-12-01 & 79986.3 \\\\\n",
       "\t5 & 1951-03-01 & 84000.0 \\\\\n",
       "\t6 & 1951-06-01 & 86022.5 \\\\\n",
       "\t7 & 1951-09-01 & 87846.3 \\\\\n",
       "\t8 & 1951-12-01 & 89044.5 \\\\\n",
       "\t9 & 1952-03-01 & 89955.0 \\\\\n",
       "\t10 & 1952-06-01 & 90257.5 \\\\\n",
       "\t11 & 1952-09-01 & 91925.3 \\\\\n",
       "\t12 & 1952-12-01 & 95203.0 \\\\\n",
       "\t13 & 1953-03-01 & 96995.0 \\\\\n",
       "\t14 & 1953-06-01 & 97937.3 \\\\\n",
       "\t15 & 1953-09-01 & 97792.8 \\\\\n",
       "\t16 & 1953-12-01 & 96492.5 \\\\\n",
       "\t17 & 1954-03-01 & 96336.3 \\\\\n",
       "\t18 & 1954-06-01 & 96530.3 \\\\\n",
       "\t19 & 1954-09-01 & 97749.0 \\\\\n",
       "\t20 & 1954-12-01 & 99933.5 \\\\\n",
       "\t21 & 1955-03-01 & 1.03268e5 \\\\\n",
       "\t22 & 1955-06-01 & 105383.0 \\\\\n",
       "\t23 & 1955-09-01 & 1.07555e5 \\\\\n",
       "\t24 & 1955-12-01 & 109273.0 \\\\\n",
       "\t25 & 1956-03-01 & 1.09936e5 \\\\\n",
       "\t26 & 1956-06-01 & 1.11502e5 \\\\\n",
       "\t27 & 1956-09-01 & 1.12798e5 \\\\\n",
       "\t28 & 1956-12-01 & 1.15116e5 \\\\\n",
       "\t29 & 1957-03-01 & 1.17445e5 \\\\\n",
       "\t30 & 1957-06-01 & 1.18006e5 \\\\\n",
       "\t$\\dots$ & $\\dots$ & $\\dots$ \\\\\n",
       "\\end{tabular}\n"
      ],
      "text/plain": [
       "\u001b[1m293×2 DataFrame\u001b[0m\n",
       "\u001b[1m Row \u001b[0m│\u001b[1m date       \u001b[0m\u001b[1m value         \u001b[0m\n",
       "     │\u001b[90m Date       \u001b[0m\u001b[90m Float64       \u001b[0m\n",
       "─────┼───────────────────────────\n",
       "   1 │ 1950-03-01  70207.0\n",
       "   2 │ 1950-06-01  72595.8\n",
       "   3 │ 1950-09-01  77038.3\n",
       "   4 │ 1950-12-01  79986.3\n",
       "   5 │ 1951-03-01  84000.0\n",
       "   6 │ 1951-06-01  86022.5\n",
       "   7 │ 1951-09-01  87846.3\n",
       "   8 │ 1951-12-01  89044.5\n",
       "   9 │ 1952-03-01  89955.0\n",
       "  10 │ 1952-06-01  90257.5\n",
       "  11 │ 1952-09-01  91925.3\n",
       "  ⋮  │     ⋮             ⋮\n",
       " 284 │ 2020-12-01      5.42618e6\n",
       " 285 │ 2021-03-01      5.57846e6\n",
       " 286 │ 2021-06-01      5.76173e6\n",
       " 287 │ 2021-09-01      5.8876e6\n",
       " 288 │ 2021-12-01      6.08728e6\n",
       " 289 │ 2022-03-01      6.18512e6\n",
       " 290 │ 2022-06-01      6.31212e6\n",
       " 291 │ 2022-09-01      6.43099e6\n",
       " 292 │ 2022-12-01      6.5345e6\n",
       " 293 │ 2023-03-01      6.63244e6\n",
       "\u001b[36m                 272 rows omitted\u001b[0m"
      ]
     },
     "execution_count": 41,
     "metadata": {},
     "output_type": "execute_result"
    }
   ],
   "source": [
    "us_gdp.series"
   ]
  },
  {
   "cell_type": "markdown",
   "id": "6267b42a",
   "metadata": {},
   "source": [
    "## Many Countries, One Indicator\n"
   ]
  },
  {
   "cell_type": "code",
   "execution_count": 41,
   "id": "c88d4ddf",
   "metadata": {},
   "outputs": [
    {
     "data": {
      "text/plain": [
       "get_df (generic function with 1 method)"
      ]
     },
     "execution_count": 42,
     "metadata": {},
     "output_type": "execute_result"
    }
   ],
   "source": [
    "function get_df(x)\n",
    "    try\n",
    "        df = countries_indicators[x].series\n",
    "        df.country .= countries_indicators[x].area\n",
    "        df.indicator .= countries_indicators[x].indicator\n",
    "        df.frequency .= countries_indicators[x].frequency\n",
    "        return df\n",
    "    catch\n",
    "        return DataFrames.DataFrame()\n",
    "    end\n",
    "end"
   ]
  },
  {
   "cell_type": "code",
   "execution_count": 42,
   "id": "bb5b2df9",
   "metadata": {},
   "outputs": [
    {
     "data": {
      "text/plain": [
       "3-element Vector{IMFSeries}:\n",
       " IMF Data Series\n",
       "Database: IFS\n",
       "Area: US\n",
       "Indicator: NGDP_SA_XDC\n",
       "Description: \n",
       "Frequency: Q\n",
       "Time Period: 1950 to 2023\n",
       "Data: 293 x 2 DataFrame\n",
       "\n",
       " IMF Data Series\n",
       "Database: IFS\n",
       "Area: CA\n",
       "Indicator: NGDP_SA_XDC\n",
       "Description: \n",
       "Frequency: Q\n",
       "Time Period: 1961 to 2023\n",
       "Data: 249 x 2 DataFrame\n",
       "\n",
       " IMF Data Series\n",
       "Database: IFS\n",
       "Area: MX\n",
       "Indicator: NGDP_SA_XDC\n",
       "Description: \n",
       "Frequency: Q\n",
       "Time Period: 1993 to 2023\n",
       "Data: 121 x 2 DataFrame\n"
      ]
     },
     "execution_count": 43,
     "metadata": {},
     "output_type": "execute_result"
    }
   ],
   "source": [
    "indicators = \"NGDP_SA_XDC\"\n",
    "countries  = [\"US\",\"CA\",\"MX\"]\n",
    "countries_indicators = get_ifs_data(countries, indicators, \"Q\", 1900, 2100)"
   ]
  },
  {
   "cell_type": "code",
   "execution_count": 43,
   "id": "b88962f1",
   "metadata": {},
   "outputs": [
    {
     "data": {
      "text/plain": [
       "3"
      ]
     },
     "execution_count": 44,
     "metadata": {},
     "output_type": "execute_result"
    }
   ],
   "source": [
    "size(countries_indicators)[1]"
   ]
  },
  {
   "cell_type": "code",
   "execution_count": 44,
   "id": "68994654",
   "metadata": {},
   "outputs": [
    {
     "data": {
      "text/html": [
       "<div><div style = \"float: left;\"><span>121×5 DataFrame</span></div><div style = \"float: right;\"><span style = \"font-style: italic;\">96 rows omitted</span></div><div style = \"clear: both;\"></div></div><div class = \"data-frame\" style = \"overflow-x: scroll;\"><table class = \"data-frame\" style = \"margin-bottom: 6px;\"><thead><tr class = \"header\"><th class = \"rowNumber\" style = \"font-weight: bold; text-align: right;\">Row</th><th style = \"text-align: left;\">date</th><th style = \"text-align: left;\">value</th><th style = \"text-align: left;\">country</th><th style = \"text-align: left;\">indicator</th><th style = \"text-align: left;\">frequency</th></tr><tr class = \"subheader headerLastRow\"><th class = \"rowNumber\" style = \"font-weight: bold; text-align: right;\"></th><th title = \"Dates.Date\" style = \"text-align: left;\">Date</th><th title = \"Float64\" style = \"text-align: left;\">Float64</th><th title = \"String\" style = \"text-align: left;\">String</th><th title = \"String\" style = \"text-align: left;\">String</th><th title = \"String\" style = \"text-align: left;\">String</th></tr></thead><tbody><tr><td class = \"rowNumber\" style = \"font-weight: bold; text-align: right;\">1</td><td style = \"text-align: left;\">1993-03-01</td><td style = \"text-align: right;\">3.76565e5</td><td style = \"text-align: left;\">MX</td><td style = \"text-align: left;\">NGDP_SA_XDC</td><td style = \"text-align: left;\">Q</td></tr><tr><td class = \"rowNumber\" style = \"font-weight: bold; text-align: right;\">2</td><td style = \"text-align: left;\">1993-06-01</td><td style = \"text-align: right;\">3.82836e5</td><td style = \"text-align: left;\">MX</td><td style = \"text-align: left;\">NGDP_SA_XDC</td><td style = \"text-align: left;\">Q</td></tr><tr><td class = \"rowNumber\" style = \"font-weight: bold; text-align: right;\">3</td><td style = \"text-align: left;\">1993-09-01</td><td style = \"text-align: right;\">3.94873e5</td><td style = \"text-align: left;\">MX</td><td style = \"text-align: left;\">NGDP_SA_XDC</td><td style = \"text-align: left;\">Q</td></tr><tr><td class = \"rowNumber\" style = \"font-weight: bold; text-align: right;\">4</td><td style = \"text-align: left;\">1993-12-01</td><td style = \"text-align: right;\">4.06532e5</td><td style = \"text-align: left;\">MX</td><td style = \"text-align: left;\">NGDP_SA_XDC</td><td style = \"text-align: left;\">Q</td></tr><tr><td class = \"rowNumber\" style = \"font-weight: bold; text-align: right;\">5</td><td style = \"text-align: left;\">1994-03-01</td><td style = \"text-align: right;\">4.20049e5</td><td style = \"text-align: left;\">MX</td><td style = \"text-align: left;\">NGDP_SA_XDC</td><td style = \"text-align: left;\">Q</td></tr><tr><td class = \"rowNumber\" style = \"font-weight: bold; text-align: right;\">6</td><td style = \"text-align: left;\">1994-06-01</td><td style = \"text-align: right;\">4.36909e5</td><td style = \"text-align: left;\">MX</td><td style = \"text-align: left;\">NGDP_SA_XDC</td><td style = \"text-align: left;\">Q</td></tr><tr><td class = \"rowNumber\" style = \"font-weight: bold; text-align: right;\">7</td><td style = \"text-align: left;\">1994-09-01</td><td style = \"text-align: right;\">4.52857e5</td><td style = \"text-align: left;\">MX</td><td style = \"text-align: left;\">NGDP_SA_XDC</td><td style = \"text-align: left;\">Q</td></tr><tr><td class = \"rowNumber\" style = \"font-weight: bold; text-align: right;\">8</td><td style = \"text-align: left;\">1994-12-01</td><td style = \"text-align: right;\">4.72066e5</td><td style = \"text-align: left;\">MX</td><td style = \"text-align: left;\">NGDP_SA_XDC</td><td style = \"text-align: left;\">Q</td></tr><tr><td class = \"rowNumber\" style = \"font-weight: bold; text-align: right;\">9</td><td style = \"text-align: left;\">1995-03-01</td><td style = \"text-align: right;\">5.02764e5</td><td style = \"text-align: left;\">MX</td><td style = \"text-align: left;\">NGDP_SA_XDC</td><td style = \"text-align: left;\">Q</td></tr><tr><td class = \"rowNumber\" style = \"font-weight: bold; text-align: right;\">10</td><td style = \"text-align: left;\">1995-06-01</td><td style = \"text-align: right;\">5.54636e5</td><td style = \"text-align: left;\">MX</td><td style = \"text-align: left;\">NGDP_SA_XDC</td><td style = \"text-align: left;\">Q</td></tr><tr><td class = \"rowNumber\" style = \"font-weight: bold; text-align: right;\">11</td><td style = \"text-align: left;\">1995-09-01</td><td style = \"text-align: right;\">600787.0</td><td style = \"text-align: left;\">MX</td><td style = \"text-align: left;\">NGDP_SA_XDC</td><td style = \"text-align: left;\">Q</td></tr><tr><td class = \"rowNumber\" style = \"font-weight: bold; text-align: right;\">12</td><td style = \"text-align: left;\">1995-12-01</td><td style = \"text-align: right;\">6.53868e5</td><td style = \"text-align: left;\">MX</td><td style = \"text-align: left;\">NGDP_SA_XDC</td><td style = \"text-align: left;\">Q</td></tr><tr><td class = \"rowNumber\" style = \"font-weight: bold; text-align: right;\">13</td><td style = \"text-align: left;\">1996-03-01</td><td style = \"text-align: right;\">7.09547e5</td><td style = \"text-align: left;\">MX</td><td style = \"text-align: left;\">NGDP_SA_XDC</td><td style = \"text-align: left;\">Q</td></tr><tr><td style = \"text-align: right;\">&vellip;</td><td style = \"text-align: right;\">&vellip;</td><td style = \"text-align: right;\">&vellip;</td><td style = \"text-align: right;\">&vellip;</td><td style = \"text-align: right;\">&vellip;</td><td style = \"text-align: right;\">&vellip;</td></tr><tr><td class = \"rowNumber\" style = \"font-weight: bold; text-align: right;\">110</td><td style = \"text-align: left;\">2020-06-01</td><td style = \"text-align: right;\">5.03862e6</td><td style = \"text-align: left;\">MX</td><td style = \"text-align: left;\">NGDP_SA_XDC</td><td style = \"text-align: left;\">Q</td></tr><tr><td class = \"rowNumber\" style = \"font-weight: bold; text-align: right;\">111</td><td style = \"text-align: left;\">2020-09-01</td><td style = \"text-align: right;\">5.94712e6</td><td style = \"text-align: left;\">MX</td><td style = \"text-align: left;\">NGDP_SA_XDC</td><td style = \"text-align: left;\">Q</td></tr><tr><td class = \"rowNumber\" style = \"font-weight: bold; text-align: right;\">112</td><td style = \"text-align: left;\">2020-12-01</td><td style = \"text-align: right;\">6.21223e6</td><td style = \"text-align: left;\">MX</td><td style = \"text-align: left;\">NGDP_SA_XDC</td><td style = \"text-align: left;\">Q</td></tr><tr><td class = \"rowNumber\" style = \"font-weight: bold; text-align: right;\">113</td><td style = \"text-align: left;\">2021-03-01</td><td style = \"text-align: right;\">6.31166e6</td><td style = \"text-align: left;\">MX</td><td style = \"text-align: left;\">NGDP_SA_XDC</td><td style = \"text-align: left;\">Q</td></tr><tr><td class = \"rowNumber\" style = \"font-weight: bold; text-align: right;\">114</td><td style = \"text-align: left;\">2021-06-01</td><td style = \"text-align: right;\">6.41393e6</td><td style = \"text-align: left;\">MX</td><td style = \"text-align: left;\">NGDP_SA_XDC</td><td style = \"text-align: left;\">Q</td></tr><tr><td class = \"rowNumber\" style = \"font-weight: bold; text-align: right;\">115</td><td style = \"text-align: left;\">2021-09-01</td><td style = \"text-align: right;\">6.48423e6</td><td style = \"text-align: left;\">MX</td><td style = \"text-align: left;\">NGDP_SA_XDC</td><td style = \"text-align: left;\">Q</td></tr><tr><td class = \"rowNumber\" style = \"font-weight: bold; text-align: right;\">116</td><td style = \"text-align: left;\">2021-12-01</td><td style = \"text-align: right;\">6.63676e6</td><td style = \"text-align: left;\">MX</td><td style = \"text-align: left;\">NGDP_SA_XDC</td><td style = \"text-align: left;\">Q</td></tr><tr><td class = \"rowNumber\" style = \"font-weight: bold; text-align: right;\">117</td><td style = \"text-align: left;\">2022-03-01</td><td style = \"text-align: right;\">6.85656e6</td><td style = \"text-align: left;\">MX</td><td style = \"text-align: left;\">NGDP_SA_XDC</td><td style = \"text-align: left;\">Q</td></tr><tr><td class = \"rowNumber\" style = \"font-weight: bold; text-align: right;\">118</td><td style = \"text-align: left;\">2022-06-01</td><td style = \"text-align: right;\">7.0825e6</td><td style = \"text-align: left;\">MX</td><td style = \"text-align: left;\">NGDP_SA_XDC</td><td style = \"text-align: left;\">Q</td></tr><tr><td class = \"rowNumber\" style = \"font-weight: bold; text-align: right;\">119</td><td style = \"text-align: left;\">2022-09-01</td><td style = \"text-align: right;\">7.23083e6</td><td style = \"text-align: left;\">MX</td><td style = \"text-align: left;\">NGDP_SA_XDC</td><td style = \"text-align: left;\">Q</td></tr><tr><td class = \"rowNumber\" style = \"font-weight: bold; text-align: right;\">120</td><td style = \"text-align: left;\">2022-12-01</td><td style = \"text-align: right;\">7.32208e6</td><td style = \"text-align: left;\">MX</td><td style = \"text-align: left;\">NGDP_SA_XDC</td><td style = \"text-align: left;\">Q</td></tr><tr><td class = \"rowNumber\" style = \"font-weight: bold; text-align: right;\">121</td><td style = \"text-align: left;\">2023-03-01</td><td style = \"text-align: right;\">7.419e6</td><td style = \"text-align: left;\">MX</td><td style = \"text-align: left;\">NGDP_SA_XDC</td><td style = \"text-align: left;\">Q</td></tr></tbody></table></div>"
      ],
      "text/latex": [
       "\\begin{tabular}{r|ccccc}\n",
       "\t& date & value & country & indicator & frequency\\\\\n",
       "\t\\hline\n",
       "\t& Date & Float64 & String & String & String\\\\\n",
       "\t\\hline\n",
       "\t1 & 1993-03-01 & 3.76565e5 & MX & NGDP\\_SA\\_XDC & Q \\\\\n",
       "\t2 & 1993-06-01 & 3.82836e5 & MX & NGDP\\_SA\\_XDC & Q \\\\\n",
       "\t3 & 1993-09-01 & 3.94873e5 & MX & NGDP\\_SA\\_XDC & Q \\\\\n",
       "\t4 & 1993-12-01 & 4.06532e5 & MX & NGDP\\_SA\\_XDC & Q \\\\\n",
       "\t5 & 1994-03-01 & 4.20049e5 & MX & NGDP\\_SA\\_XDC & Q \\\\\n",
       "\t6 & 1994-06-01 & 4.36909e5 & MX & NGDP\\_SA\\_XDC & Q \\\\\n",
       "\t7 & 1994-09-01 & 4.52857e5 & MX & NGDP\\_SA\\_XDC & Q \\\\\n",
       "\t8 & 1994-12-01 & 4.72066e5 & MX & NGDP\\_SA\\_XDC & Q \\\\\n",
       "\t9 & 1995-03-01 & 5.02764e5 & MX & NGDP\\_SA\\_XDC & Q \\\\\n",
       "\t10 & 1995-06-01 & 5.54636e5 & MX & NGDP\\_SA\\_XDC & Q \\\\\n",
       "\t11 & 1995-09-01 & 600787.0 & MX & NGDP\\_SA\\_XDC & Q \\\\\n",
       "\t12 & 1995-12-01 & 6.53868e5 & MX & NGDP\\_SA\\_XDC & Q \\\\\n",
       "\t13 & 1996-03-01 & 7.09547e5 & MX & NGDP\\_SA\\_XDC & Q \\\\\n",
       "\t14 & 1996-06-01 & 749738.0 & MX & NGDP\\_SA\\_XDC & Q \\\\\n",
       "\t15 & 1996-09-01 & 7.99082e5 & MX & NGDP\\_SA\\_XDC & Q \\\\\n",
       "\t16 & 1996-12-01 & 8.61168e5 & MX & NGDP\\_SA\\_XDC & Q \\\\\n",
       "\t17 & 1997-03-01 & 9.08696e5 & MX & NGDP\\_SA\\_XDC & Q \\\\\n",
       "\t18 & 1997-06-01 & 9.58654e5 & MX & NGDP\\_SA\\_XDC & Q \\\\\n",
       "\t19 & 1997-09-01 & 1.01563e6 & MX & NGDP\\_SA\\_XDC & Q \\\\\n",
       "\t20 & 1997-12-01 & 1.07978e6 & MX & NGDP\\_SA\\_XDC & Q \\\\\n",
       "\t21 & 1998-03-01 & 1.12847e6 & MX & NGDP\\_SA\\_XDC & Q \\\\\n",
       "\t22 & 1998-06-01 & 1.1771e6 & MX & NGDP\\_SA\\_XDC & Q \\\\\n",
       "\t23 & 1998-09-01 & 1.22955e6 & MX & NGDP\\_SA\\_XDC & Q \\\\\n",
       "\t24 & 1998-12-01 & 1.27708e6 & MX & NGDP\\_SA\\_XDC & Q \\\\\n",
       "\t25 & 1999-03-01 & 1.34268e6 & MX & NGDP\\_SA\\_XDC & Q \\\\\n",
       "\t26 & 1999-06-01 & 1.40737e6 & MX & NGDP\\_SA\\_XDC & Q \\\\\n",
       "\t27 & 1999-09-01 & 1.46883e6 & MX & NGDP\\_SA\\_XDC & Q \\\\\n",
       "\t28 & 1999-12-01 & 1.5222e6 & MX & NGDP\\_SA\\_XDC & Q \\\\\n",
       "\t29 & 2000-03-01 & 1.59901e6 & MX & NGDP\\_SA\\_XDC & Q \\\\\n",
       "\t30 & 2000-06-01 & 1.6559e6 & MX & NGDP\\_SA\\_XDC & Q \\\\\n",
       "\t$\\dots$ & $\\dots$ & $\\dots$ & $\\dots$ & $\\dots$ & $\\dots$ \\\\\n",
       "\\end{tabular}\n"
      ],
      "text/plain": [
       "\u001b[1m121×5 DataFrame\u001b[0m\n",
       "\u001b[1m Row \u001b[0m│\u001b[1m date       \u001b[0m\u001b[1m value          \u001b[0m\u001b[1m country \u001b[0m\u001b[1m indicator   \u001b[0m\u001b[1m frequency \u001b[0m\n",
       "     │\u001b[90m Date       \u001b[0m\u001b[90m Float64        \u001b[0m\u001b[90m String  \u001b[0m\u001b[90m String      \u001b[0m\u001b[90m String    \u001b[0m\n",
       "─────┼─────────────────────────────────────────────────────────────\n",
       "   1 │ 1993-03-01       3.76565e5  MX       NGDP_SA_XDC  Q\n",
       "   2 │ 1993-06-01       3.82836e5  MX       NGDP_SA_XDC  Q\n",
       "   3 │ 1993-09-01       3.94873e5  MX       NGDP_SA_XDC  Q\n",
       "   4 │ 1993-12-01       4.06532e5  MX       NGDP_SA_XDC  Q\n",
       "   5 │ 1994-03-01       4.20049e5  MX       NGDP_SA_XDC  Q\n",
       "   6 │ 1994-06-01       4.36909e5  MX       NGDP_SA_XDC  Q\n",
       "   7 │ 1994-09-01       4.52857e5  MX       NGDP_SA_XDC  Q\n",
       "   8 │ 1994-12-01       4.72066e5  MX       NGDP_SA_XDC  Q\n",
       "   9 │ 1995-03-01       5.02764e5  MX       NGDP_SA_XDC  Q\n",
       "  10 │ 1995-06-01       5.54636e5  MX       NGDP_SA_XDC  Q\n",
       "  11 │ 1995-09-01  600787.0        MX       NGDP_SA_XDC  Q\n",
       "  ⋮  │     ⋮             ⋮            ⋮          ⋮           ⋮\n",
       " 112 │ 2020-12-01       6.21223e6  MX       NGDP_SA_XDC  Q\n",
       " 113 │ 2021-03-01       6.31166e6  MX       NGDP_SA_XDC  Q\n",
       " 114 │ 2021-06-01       6.41393e6  MX       NGDP_SA_XDC  Q\n",
       " 115 │ 2021-09-01       6.48423e6  MX       NGDP_SA_XDC  Q\n",
       " 116 │ 2021-12-01       6.63676e6  MX       NGDP_SA_XDC  Q\n",
       " 117 │ 2022-03-01       6.85656e6  MX       NGDP_SA_XDC  Q\n",
       " 118 │ 2022-06-01       7.0825e6   MX       NGDP_SA_XDC  Q\n",
       " 119 │ 2022-09-01       7.23083e6  MX       NGDP_SA_XDC  Q\n",
       " 120 │ 2022-12-01       7.32208e6  MX       NGDP_SA_XDC  Q\n",
       " 121 │ 2023-03-01       7.419e6    MX       NGDP_SA_XDC  Q\n",
       "\u001b[36m                                                   100 rows omitted\u001b[0m"
      ]
     },
     "execution_count": 45,
     "metadata": {},
     "output_type": "execute_result"
    }
   ],
   "source": [
    "get_df(3)"
   ]
  },
  {
   "cell_type": "code",
   "execution_count": 45,
   "id": "b6e10c3e",
   "metadata": {},
   "outputs": [
    {
     "data": {
      "text/html": [
       "<div><div style = \"float: left;\"><span>663×5 DataFrame</span></div><div style = \"float: right;\"><span style = \"font-style: italic;\">638 rows omitted</span></div><div style = \"clear: both;\"></div></div><div class = \"data-frame\" style = \"overflow-x: scroll;\"><table class = \"data-frame\" style = \"margin-bottom: 6px;\"><thead><tr class = \"header\"><th class = \"rowNumber\" style = \"font-weight: bold; text-align: right;\">Row</th><th style = \"text-align: left;\">date</th><th style = \"text-align: left;\">value</th><th style = \"text-align: left;\">country</th><th style = \"text-align: left;\">indicator</th><th style = \"text-align: left;\">frequency</th></tr><tr class = \"subheader headerLastRow\"><th class = \"rowNumber\" style = \"font-weight: bold; text-align: right;\"></th><th title = \"Dates.Date\" style = \"text-align: left;\">Date</th><th title = \"Float64\" style = \"text-align: left;\">Float64</th><th title = \"String\" style = \"text-align: left;\">String</th><th title = \"String\" style = \"text-align: left;\">String</th><th title = \"String\" style = \"text-align: left;\">String</th></tr></thead><tbody><tr><td class = \"rowNumber\" style = \"font-weight: bold; text-align: right;\">1</td><td style = \"text-align: left;\">1950-03-01</td><td style = \"text-align: right;\">70207.0</td><td style = \"text-align: left;\">US</td><td style = \"text-align: left;\">NGDP_SA_XDC</td><td style = \"text-align: left;\">Q</td></tr><tr><td class = \"rowNumber\" style = \"font-weight: bold; text-align: right;\">2</td><td style = \"text-align: left;\">1950-06-01</td><td style = \"text-align: right;\">72595.8</td><td style = \"text-align: left;\">US</td><td style = \"text-align: left;\">NGDP_SA_XDC</td><td style = \"text-align: left;\">Q</td></tr><tr><td class = \"rowNumber\" style = \"font-weight: bold; text-align: right;\">3</td><td style = \"text-align: left;\">1950-09-01</td><td style = \"text-align: right;\">77038.3</td><td style = \"text-align: left;\">US</td><td style = \"text-align: left;\">NGDP_SA_XDC</td><td style = \"text-align: left;\">Q</td></tr><tr><td class = \"rowNumber\" style = \"font-weight: bold; text-align: right;\">4</td><td style = \"text-align: left;\">1950-12-01</td><td style = \"text-align: right;\">79986.3</td><td style = \"text-align: left;\">US</td><td style = \"text-align: left;\">NGDP_SA_XDC</td><td style = \"text-align: left;\">Q</td></tr><tr><td class = \"rowNumber\" style = \"font-weight: bold; text-align: right;\">5</td><td style = \"text-align: left;\">1951-03-01</td><td style = \"text-align: right;\">84000.0</td><td style = \"text-align: left;\">US</td><td style = \"text-align: left;\">NGDP_SA_XDC</td><td style = \"text-align: left;\">Q</td></tr><tr><td class = \"rowNumber\" style = \"font-weight: bold; text-align: right;\">6</td><td style = \"text-align: left;\">1951-06-01</td><td style = \"text-align: right;\">86022.5</td><td style = \"text-align: left;\">US</td><td style = \"text-align: left;\">NGDP_SA_XDC</td><td style = \"text-align: left;\">Q</td></tr><tr><td class = \"rowNumber\" style = \"font-weight: bold; text-align: right;\">7</td><td style = \"text-align: left;\">1951-09-01</td><td style = \"text-align: right;\">87846.3</td><td style = \"text-align: left;\">US</td><td style = \"text-align: left;\">NGDP_SA_XDC</td><td style = \"text-align: left;\">Q</td></tr><tr><td class = \"rowNumber\" style = \"font-weight: bold; text-align: right;\">8</td><td style = \"text-align: left;\">1951-12-01</td><td style = \"text-align: right;\">89044.5</td><td style = \"text-align: left;\">US</td><td style = \"text-align: left;\">NGDP_SA_XDC</td><td style = \"text-align: left;\">Q</td></tr><tr><td class = \"rowNumber\" style = \"font-weight: bold; text-align: right;\">9</td><td style = \"text-align: left;\">1952-03-01</td><td style = \"text-align: right;\">89955.0</td><td style = \"text-align: left;\">US</td><td style = \"text-align: left;\">NGDP_SA_XDC</td><td style = \"text-align: left;\">Q</td></tr><tr><td class = \"rowNumber\" style = \"font-weight: bold; text-align: right;\">10</td><td style = \"text-align: left;\">1952-06-01</td><td style = \"text-align: right;\">90257.5</td><td style = \"text-align: left;\">US</td><td style = \"text-align: left;\">NGDP_SA_XDC</td><td style = \"text-align: left;\">Q</td></tr><tr><td class = \"rowNumber\" style = \"font-weight: bold; text-align: right;\">11</td><td style = \"text-align: left;\">1952-09-01</td><td style = \"text-align: right;\">91925.3</td><td style = \"text-align: left;\">US</td><td style = \"text-align: left;\">NGDP_SA_XDC</td><td style = \"text-align: left;\">Q</td></tr><tr><td class = \"rowNumber\" style = \"font-weight: bold; text-align: right;\">12</td><td style = \"text-align: left;\">1952-12-01</td><td style = \"text-align: right;\">95203.0</td><td style = \"text-align: left;\">US</td><td style = \"text-align: left;\">NGDP_SA_XDC</td><td style = \"text-align: left;\">Q</td></tr><tr><td class = \"rowNumber\" style = \"font-weight: bold; text-align: right;\">13</td><td style = \"text-align: left;\">1953-03-01</td><td style = \"text-align: right;\">96995.0</td><td style = \"text-align: left;\">US</td><td style = \"text-align: left;\">NGDP_SA_XDC</td><td style = \"text-align: left;\">Q</td></tr><tr><td style = \"text-align: right;\">&vellip;</td><td style = \"text-align: right;\">&vellip;</td><td style = \"text-align: right;\">&vellip;</td><td style = \"text-align: right;\">&vellip;</td><td style = \"text-align: right;\">&vellip;</td><td style = \"text-align: right;\">&vellip;</td></tr><tr><td class = \"rowNumber\" style = \"font-weight: bold; text-align: right;\">652</td><td style = \"text-align: left;\">2020-06-01</td><td style = \"text-align: right;\">5.03862e6</td><td style = \"text-align: left;\">MX</td><td style = \"text-align: left;\">NGDP_SA_XDC</td><td style = \"text-align: left;\">Q</td></tr><tr><td class = \"rowNumber\" style = \"font-weight: bold; text-align: right;\">653</td><td style = \"text-align: left;\">2020-09-01</td><td style = \"text-align: right;\">5.94712e6</td><td style = \"text-align: left;\">MX</td><td style = \"text-align: left;\">NGDP_SA_XDC</td><td style = \"text-align: left;\">Q</td></tr><tr><td class = \"rowNumber\" style = \"font-weight: bold; text-align: right;\">654</td><td style = \"text-align: left;\">2020-12-01</td><td style = \"text-align: right;\">6.21223e6</td><td style = \"text-align: left;\">MX</td><td style = \"text-align: left;\">NGDP_SA_XDC</td><td style = \"text-align: left;\">Q</td></tr><tr><td class = \"rowNumber\" style = \"font-weight: bold; text-align: right;\">655</td><td style = \"text-align: left;\">2021-03-01</td><td style = \"text-align: right;\">6.31166e6</td><td style = \"text-align: left;\">MX</td><td style = \"text-align: left;\">NGDP_SA_XDC</td><td style = \"text-align: left;\">Q</td></tr><tr><td class = \"rowNumber\" style = \"font-weight: bold; text-align: right;\">656</td><td style = \"text-align: left;\">2021-06-01</td><td style = \"text-align: right;\">6.41393e6</td><td style = \"text-align: left;\">MX</td><td style = \"text-align: left;\">NGDP_SA_XDC</td><td style = \"text-align: left;\">Q</td></tr><tr><td class = \"rowNumber\" style = \"font-weight: bold; text-align: right;\">657</td><td style = \"text-align: left;\">2021-09-01</td><td style = \"text-align: right;\">6.48423e6</td><td style = \"text-align: left;\">MX</td><td style = \"text-align: left;\">NGDP_SA_XDC</td><td style = \"text-align: left;\">Q</td></tr><tr><td class = \"rowNumber\" style = \"font-weight: bold; text-align: right;\">658</td><td style = \"text-align: left;\">2021-12-01</td><td style = \"text-align: right;\">6.63676e6</td><td style = \"text-align: left;\">MX</td><td style = \"text-align: left;\">NGDP_SA_XDC</td><td style = \"text-align: left;\">Q</td></tr><tr><td class = \"rowNumber\" style = \"font-weight: bold; text-align: right;\">659</td><td style = \"text-align: left;\">2022-03-01</td><td style = \"text-align: right;\">6.85656e6</td><td style = \"text-align: left;\">MX</td><td style = \"text-align: left;\">NGDP_SA_XDC</td><td style = \"text-align: left;\">Q</td></tr><tr><td class = \"rowNumber\" style = \"font-weight: bold; text-align: right;\">660</td><td style = \"text-align: left;\">2022-06-01</td><td style = \"text-align: right;\">7.0825e6</td><td style = \"text-align: left;\">MX</td><td style = \"text-align: left;\">NGDP_SA_XDC</td><td style = \"text-align: left;\">Q</td></tr><tr><td class = \"rowNumber\" style = \"font-weight: bold; text-align: right;\">661</td><td style = \"text-align: left;\">2022-09-01</td><td style = \"text-align: right;\">7.23083e6</td><td style = \"text-align: left;\">MX</td><td style = \"text-align: left;\">NGDP_SA_XDC</td><td style = \"text-align: left;\">Q</td></tr><tr><td class = \"rowNumber\" style = \"font-weight: bold; text-align: right;\">662</td><td style = \"text-align: left;\">2022-12-01</td><td style = \"text-align: right;\">7.32208e6</td><td style = \"text-align: left;\">MX</td><td style = \"text-align: left;\">NGDP_SA_XDC</td><td style = \"text-align: left;\">Q</td></tr><tr><td class = \"rowNumber\" style = \"font-weight: bold; text-align: right;\">663</td><td style = \"text-align: left;\">2023-03-01</td><td style = \"text-align: right;\">7.419e6</td><td style = \"text-align: left;\">MX</td><td style = \"text-align: left;\">NGDP_SA_XDC</td><td style = \"text-align: left;\">Q</td></tr></tbody></table></div>"
      ],
      "text/latex": [
       "\\begin{tabular}{r|ccccc}\n",
       "\t& date & value & country & indicator & frequency\\\\\n",
       "\t\\hline\n",
       "\t& Date & Float64 & String & String & String\\\\\n",
       "\t\\hline\n",
       "\t1 & 1950-03-01 & 70207.0 & US & NGDP\\_SA\\_XDC & Q \\\\\n",
       "\t2 & 1950-06-01 & 72595.8 & US & NGDP\\_SA\\_XDC & Q \\\\\n",
       "\t3 & 1950-09-01 & 77038.3 & US & NGDP\\_SA\\_XDC & Q \\\\\n",
       "\t4 & 1950-12-01 & 79986.3 & US & NGDP\\_SA\\_XDC & Q \\\\\n",
       "\t5 & 1951-03-01 & 84000.0 & US & NGDP\\_SA\\_XDC & Q \\\\\n",
       "\t6 & 1951-06-01 & 86022.5 & US & NGDP\\_SA\\_XDC & Q \\\\\n",
       "\t7 & 1951-09-01 & 87846.3 & US & NGDP\\_SA\\_XDC & Q \\\\\n",
       "\t8 & 1951-12-01 & 89044.5 & US & NGDP\\_SA\\_XDC & Q \\\\\n",
       "\t9 & 1952-03-01 & 89955.0 & US & NGDP\\_SA\\_XDC & Q \\\\\n",
       "\t10 & 1952-06-01 & 90257.5 & US & NGDP\\_SA\\_XDC & Q \\\\\n",
       "\t11 & 1952-09-01 & 91925.3 & US & NGDP\\_SA\\_XDC & Q \\\\\n",
       "\t12 & 1952-12-01 & 95203.0 & US & NGDP\\_SA\\_XDC & Q \\\\\n",
       "\t13 & 1953-03-01 & 96995.0 & US & NGDP\\_SA\\_XDC & Q \\\\\n",
       "\t14 & 1953-06-01 & 97937.3 & US & NGDP\\_SA\\_XDC & Q \\\\\n",
       "\t15 & 1953-09-01 & 97792.8 & US & NGDP\\_SA\\_XDC & Q \\\\\n",
       "\t16 & 1953-12-01 & 96492.5 & US & NGDP\\_SA\\_XDC & Q \\\\\n",
       "\t17 & 1954-03-01 & 96336.3 & US & NGDP\\_SA\\_XDC & Q \\\\\n",
       "\t18 & 1954-06-01 & 96530.3 & US & NGDP\\_SA\\_XDC & Q \\\\\n",
       "\t19 & 1954-09-01 & 97749.0 & US & NGDP\\_SA\\_XDC & Q \\\\\n",
       "\t20 & 1954-12-01 & 99933.5 & US & NGDP\\_SA\\_XDC & Q \\\\\n",
       "\t21 & 1955-03-01 & 1.03268e5 & US & NGDP\\_SA\\_XDC & Q \\\\\n",
       "\t22 & 1955-06-01 & 105383.0 & US & NGDP\\_SA\\_XDC & Q \\\\\n",
       "\t23 & 1955-09-01 & 1.07555e5 & US & NGDP\\_SA\\_XDC & Q \\\\\n",
       "\t24 & 1955-12-01 & 109273.0 & US & NGDP\\_SA\\_XDC & Q \\\\\n",
       "\t25 & 1956-03-01 & 1.09936e5 & US & NGDP\\_SA\\_XDC & Q \\\\\n",
       "\t26 & 1956-06-01 & 1.11502e5 & US & NGDP\\_SA\\_XDC & Q \\\\\n",
       "\t27 & 1956-09-01 & 1.12798e5 & US & NGDP\\_SA\\_XDC & Q \\\\\n",
       "\t28 & 1956-12-01 & 1.15116e5 & US & NGDP\\_SA\\_XDC & Q \\\\\n",
       "\t29 & 1957-03-01 & 1.17445e5 & US & NGDP\\_SA\\_XDC & Q \\\\\n",
       "\t30 & 1957-06-01 & 1.18006e5 & US & NGDP\\_SA\\_XDC & Q \\\\\n",
       "\t$\\dots$ & $\\dots$ & $\\dots$ & $\\dots$ & $\\dots$ & $\\dots$ \\\\\n",
       "\\end{tabular}\n"
      ],
      "text/plain": [
       "\u001b[1m663×5 DataFrame\u001b[0m\n",
       "\u001b[1m Row \u001b[0m│\u001b[1m date       \u001b[0m\u001b[1m value         \u001b[0m\u001b[1m country \u001b[0m\u001b[1m indicator   \u001b[0m\u001b[1m frequency \u001b[0m\n",
       "     │\u001b[90m Date       \u001b[0m\u001b[90m Float64       \u001b[0m\u001b[90m String  \u001b[0m\u001b[90m String      \u001b[0m\u001b[90m String    \u001b[0m\n",
       "─────┼────────────────────────────────────────────────────────────\n",
       "   1 │ 1950-03-01  70207.0        US       NGDP_SA_XDC  Q\n",
       "   2 │ 1950-06-01  72595.8        US       NGDP_SA_XDC  Q\n",
       "   3 │ 1950-09-01  77038.3        US       NGDP_SA_XDC  Q\n",
       "   4 │ 1950-12-01  79986.3        US       NGDP_SA_XDC  Q\n",
       "   5 │ 1951-03-01  84000.0        US       NGDP_SA_XDC  Q\n",
       "   6 │ 1951-06-01  86022.5        US       NGDP_SA_XDC  Q\n",
       "   7 │ 1951-09-01  87846.3        US       NGDP_SA_XDC  Q\n",
       "   8 │ 1951-12-01  89044.5        US       NGDP_SA_XDC  Q\n",
       "   9 │ 1952-03-01  89955.0        US       NGDP_SA_XDC  Q\n",
       "  10 │ 1952-06-01  90257.5        US       NGDP_SA_XDC  Q\n",
       "  11 │ 1952-09-01  91925.3        US       NGDP_SA_XDC  Q\n",
       "  ⋮  │     ⋮             ⋮           ⋮          ⋮           ⋮\n",
       " 654 │ 2020-12-01      6.21223e6  MX       NGDP_SA_XDC  Q\n",
       " 655 │ 2021-03-01      6.31166e6  MX       NGDP_SA_XDC  Q\n",
       " 656 │ 2021-06-01      6.41393e6  MX       NGDP_SA_XDC  Q\n",
       " 657 │ 2021-09-01      6.48423e6  MX       NGDP_SA_XDC  Q\n",
       " 658 │ 2021-12-01      6.63676e6  MX       NGDP_SA_XDC  Q\n",
       " 659 │ 2022-03-01      6.85656e6  MX       NGDP_SA_XDC  Q\n",
       " 660 │ 2022-06-01      7.0825e6   MX       NGDP_SA_XDC  Q\n",
       " 661 │ 2022-09-01      7.23083e6  MX       NGDP_SA_XDC  Q\n",
       " 662 │ 2022-12-01      7.32208e6  MX       NGDP_SA_XDC  Q\n",
       " 663 │ 2023-03-01      7.419e6    MX       NGDP_SA_XDC  Q\n",
       "\u001b[36m                                                  642 rows omitted\u001b[0m"
      ]
     },
     "execution_count": 46,
     "metadata": {},
     "output_type": "execute_result"
    }
   ],
   "source": [
    "ndf = size(countries_indicators)[1]\n",
    "df = map(_ -> DataFrames.DataFrame(), 1:ndf)\n",
    "vcat([df[i] = get_df(i) for i in 1:ndf]...)"
   ]
  },
  {
   "cell_type": "markdown",
   "id": "5f13196a",
   "metadata": {},
   "source": [
    "## Many Countries, Many Indicators\n"
   ]
  },
  {
   "cell_type": "code",
   "execution_count": 46,
   "id": "f817a17e",
   "metadata": {},
   "outputs": [
    {
     "data": {
      "text/plain": [
       "36-element Vector{IMFSeries}:\n",
       " IMF Data Series\n",
       "Database: IFS\n",
       "Area: GT\n",
       "Indicator: NGDP_XDC\n",
       "Time Period: 1900 to 2100\n",
       "Note: Indicator not defined for the given area or time period\n",
       "\n",
       " IMF Data Series\n",
       "Database: IFS\n",
       "Area: GT\n",
       "Indicator: NGDP_SA_XDC\n",
       "Time Period: 1900 to 2100\n",
       "Note: Indicator not defined for the given area or time period\n",
       "\n",
       " IMF Data Series\n",
       "Database: IFS\n",
       "Area: GT\n",
       "Indicator: NGDP_NSA_XDC\n",
       "Description: \n",
       "Frequency: Q\n",
       "Time Period: 2013 to 2022\n",
       "Data: 40 x 2 DataFrame\n",
       "\n",
       " IMF Data Series\n",
       "Database: IFS\n",
       "Area: GT\n",
       "Indicator: NGDP_R_XDC\n",
       "Time Period: 1900 to 2100\n",
       "Note: Indicator not defined for the given area or time period\n",
       "\n",
       " IMF Data Series\n",
       "Database: IFS\n",
       "Area: GT\n",
       "Indicator: NGDP_R_SA_XDC\n",
       "Time Period: 1900 to 2100\n",
       "Note: Indicator not defined for the given area or time period\n",
       "\n",
       " IMF Data Series\n",
       "Database: IFS\n",
       "Area: GT\n",
       "Indicator: NGDP_R_NSA_XDC\n",
       "Description: \n",
       "Frequency: Q\n",
       "Time Period: 2013 to 2022\n",
       "Data: 40 x 2 DataFrame\n",
       "\n",
       " IMF Data Series\n",
       "Database: IFS\n",
       "Area: HN\n",
       "Indicator: NGDP_XDC\n",
       "Time Period: 1900 to 2100\n",
       "Note: Indicator not defined for the given area or time period\n",
       "\n",
       " IMF Data Series\n",
       "Database: IFS\n",
       "Area: HN\n",
       "Indicator: NGDP_SA_XDC\n",
       "Description: \n",
       "Frequency: Q\n",
       "Time Period: 2000 to 2023\n",
       "Data: 93 x 2 DataFrame\n",
       "\n",
       " IMF Data Series\n",
       "Database: IFS\n",
       "Area: HN\n",
       "Indicator: NGDP_NSA_XDC\n",
       "Time Period: 1900 to 2100\n",
       "Note: Indicator not defined for the given area or time period\n",
       "\n",
       " IMF Data Series\n",
       "Database: IFS\n",
       "Area: HN\n",
       "Indicator: NGDP_R_XDC\n",
       "Time Period: 1900 to 2100\n",
       "Note: Indicator not defined for the given area or time period\n",
       "\n",
       " IMF Data Series\n",
       "Database: IFS\n",
       "Area: HN\n",
       "Indicator: NGDP_R_SA_XDC\n",
       "Description: \n",
       "Frequency: Q\n",
       "Time Period: 2000 to 2023\n",
       "Data: 93 x 2 DataFrame\n",
       "\n",
       " IMF Data Series\n",
       "Database: IFS\n",
       "Area: HN\n",
       "Indicator: NGDP_R_NSA_XDC\n",
       "Time Period: 1900 to 2100\n",
       "Note: Indicator not defined for the given area or time period\n",
       "\n",
       " IMF Data Series\n",
       "Database: IFS\n",
       "Area: SV\n",
       "Indicator: NGDP_XDC\n",
       "Time Period: 1900 to 2100\n",
       "Note: Indicator not defined for the given area or time period\n",
       "\n",
       " ⋮\n",
       " IMF Data Series\n",
       "Database: IFS\n",
       "Area: CR\n",
       "Indicator: NGDP_XDC\n",
       "Time Period: 1900 to 2100\n",
       "Note: Indicator not defined for the given area or time period\n",
       "\n",
       " IMF Data Series\n",
       "Database: IFS\n",
       "Area: CR\n",
       "Indicator: NGDP_SA_XDC\n",
       "Description: \n",
       "Frequency: Q\n",
       "Time Period: 1991 to 2023\n",
       "Data: 129 x 2 DataFrame\n",
       "\n",
       " IMF Data Series\n",
       "Database: IFS\n",
       "Area: CR\n",
       "Indicator: NGDP_NSA_XDC\n",
       "Description: \n",
       "Frequency: Q\n",
       "Time Period: 1991 to 2023\n",
       "Data: 129 x 2 DataFrame\n",
       "\n",
       " IMF Data Series\n",
       "Database: IFS\n",
       "Area: CR\n",
       "Indicator: NGDP_R_XDC\n",
       "Time Period: 1900 to 2100\n",
       "Note: Indicator not defined for the given area or time period\n",
       "\n",
       " IMF Data Series\n",
       "Database: IFS\n",
       "Area: CR\n",
       "Indicator: NGDP_R_SA_XDC\n",
       "Description: \n",
       "Frequency: Q\n",
       "Time Period: 1991 to 2023\n",
       "Data: 129 x 2 DataFrame\n",
       "\n",
       " IMF Data Series\n",
       "Database: IFS\n",
       "Area: CR\n",
       "Indicator: NGDP_R_NSA_XDC\n",
       "Description: \n",
       "Frequency: Q\n",
       "Time Period: 1991 to 2023\n",
       "Data: 129 x 2 DataFrame\n",
       "\n",
       " IMF Data Series\n",
       "Database: IFS\n",
       "Area: PA\n",
       "Indicator: NGDP_XDC\n",
       "Time Period: 1900 to 2100\n",
       "Note: Indicator not defined for the given area or time period\n",
       "\n",
       " IMF Data Series\n",
       "Database: IFS\n",
       "Area: PA\n",
       "Indicator: NGDP_SA_XDC\n",
       "Time Period: 1900 to 2100\n",
       "Note: Indicator not defined for the given area or time period\n",
       "\n",
       " IMF Data Series\n",
       "Database: IFS\n",
       "Area: PA\n",
       "Indicator: NGDP_NSA_XDC\n",
       "Time Period: 1900 to 2100\n",
       "Note: Indicator not defined for the given area or time period\n",
       "\n",
       " IMF Data Series\n",
       "Database: IFS\n",
       "Area: PA\n",
       "Indicator: NGDP_R_XDC\n",
       "Time Period: 1900 to 2100\n",
       "Note: Indicator not defined for the given area or time period\n",
       "\n",
       " IMF Data Series\n",
       "Database: IFS\n",
       "Area: PA\n",
       "Indicator: NGDP_R_SA_XDC\n",
       "Time Period: 1900 to 2100\n",
       "Note: Indicator not defined for the given area or time period\n",
       "\n",
       " IMF Data Series\n",
       "Database: IFS\n",
       "Area: PA\n",
       "Indicator: NGDP_R_NSA_XDC\n",
       "Time Period: 1900 to 2100\n",
       "Note: Indicator not defined for the given area or time period\n"
      ]
     },
     "execution_count": 47,
     "metadata": {},
     "output_type": "execute_result"
    }
   ],
   "source": [
    "ifs_indicators = ifs_structure[\"Parameter Values\"][\"CL_INDICATOR_IFS\"]\n",
    "#gdp_indicators = @where(\n",
    "gdp_indicators = @subset(\n",
    "\tifs_indicators,\n",
    "\toccursin.(\"Gross Domestic Product\", :description),\n",
    "\toccursin.(\"Domestic Currency\", :description))\n",
    "indicators = gdp_indicators[!,1]\n",
    "countries  = [\"GT\",\"HN\",\"SV\",\"NI\",\"CR\",\"PA\"]\n",
    "countries_indicators = get_ifs_data(countries, indicators, \"Q\", 1900, 2100)"
   ]
  },
  {
   "cell_type": "code",
   "execution_count": 47,
   "id": "075b6e19",
   "metadata": {},
   "outputs": [
    {
     "data": {
      "text/html": [
       "<div><div style = \"float: left;\"><span>40×2 DataFrame</span></div><div style = \"float: right;\"><span style = \"font-style: italic;\">15 rows omitted</span></div><div style = \"clear: both;\"></div></div><div class = \"data-frame\" style = \"overflow-x: scroll;\"><table class = \"data-frame\" style = \"margin-bottom: 6px;\"><thead><tr class = \"header\"><th class = \"rowNumber\" style = \"font-weight: bold; text-align: right;\">Row</th><th style = \"text-align: left;\">date</th><th style = \"text-align: left;\">value</th></tr><tr class = \"subheader headerLastRow\"><th class = \"rowNumber\" style = \"font-weight: bold; text-align: right;\"></th><th title = \"Dates.Date\" style = \"text-align: left;\">Date</th><th title = \"Float64\" style = \"text-align: left;\">Float64</th></tr></thead><tbody><tr><td class = \"rowNumber\" style = \"font-weight: bold; text-align: right;\">1</td><td style = \"text-align: left;\">2013-03-01</td><td style = \"text-align: right;\">1.03834e5</td></tr><tr><td class = \"rowNumber\" style = \"font-weight: bold; text-align: right;\">2</td><td style = \"text-align: left;\">2013-06-01</td><td style = \"text-align: right;\">102177.0</td></tr><tr><td class = \"rowNumber\" style = \"font-weight: bold; text-align: right;\">3</td><td style = \"text-align: left;\">2013-09-01</td><td style = \"text-align: right;\">1.02217e5</td></tr><tr><td class = \"rowNumber\" style = \"font-weight: bold; text-align: right;\">4</td><td style = \"text-align: left;\">2013-12-01</td><td style = \"text-align: right;\">1.08155e5</td></tr><tr><td class = \"rowNumber\" style = \"font-weight: bold; text-align: right;\">5</td><td style = \"text-align: left;\">2014-03-01</td><td style = \"text-align: right;\">1.09525e5</td></tr><tr><td class = \"rowNumber\" style = \"font-weight: bold; text-align: right;\">6</td><td style = \"text-align: left;\">2014-06-01</td><td style = \"text-align: right;\">1.09404e5</td></tr><tr><td class = \"rowNumber\" style = \"font-weight: bold; text-align: right;\">7</td><td style = \"text-align: left;\">2014-09-01</td><td style = \"text-align: right;\">111334.0</td></tr><tr><td class = \"rowNumber\" style = \"font-weight: bold; text-align: right;\">8</td><td style = \"text-align: left;\">2014-12-01</td><td style = \"text-align: right;\">1.17063e5</td></tr><tr><td class = \"rowNumber\" style = \"font-weight: bold; text-align: right;\">9</td><td style = \"text-align: left;\">2015-03-01</td><td style = \"text-align: right;\">1.179e5</td></tr><tr><td class = \"rowNumber\" style = \"font-weight: bold; text-align: right;\">10</td><td style = \"text-align: left;\">2015-06-01</td><td style = \"text-align: right;\">1.16185e5</td></tr><tr><td class = \"rowNumber\" style = \"font-weight: bold; text-align: right;\">11</td><td style = \"text-align: left;\">2015-09-01</td><td style = \"text-align: right;\">118716.0</td></tr><tr><td class = \"rowNumber\" style = \"font-weight: bold; text-align: right;\">12</td><td style = \"text-align: left;\">2015-12-01</td><td style = \"text-align: right;\">1.23222e5</td></tr><tr><td class = \"rowNumber\" style = \"font-weight: bold; text-align: right;\">13</td><td style = \"text-align: left;\">2016-03-01</td><td style = \"text-align: right;\">1.23842e5</td></tr><tr><td style = \"text-align: right;\">&vellip;</td><td style = \"text-align: right;\">&vellip;</td><td style = \"text-align: right;\">&vellip;</td></tr><tr><td class = \"rowNumber\" style = \"font-weight: bold; text-align: right;\">29</td><td style = \"text-align: left;\">2020-03-01</td><td style = \"text-align: right;\">1.5166e5</td></tr><tr><td class = \"rowNumber\" style = \"font-weight: bold; text-align: right;\">30</td><td style = \"text-align: left;\">2020-06-01</td><td style = \"text-align: right;\">1.36646e5</td></tr><tr><td class = \"rowNumber\" style = \"font-weight: bold; text-align: right;\">31</td><td style = \"text-align: left;\">2020-09-01</td><td style = \"text-align: right;\">1.50074e5</td></tr><tr><td class = \"rowNumber\" style = \"font-weight: bold; text-align: right;\">32</td><td style = \"text-align: left;\">2020-12-01</td><td style = \"text-align: right;\">1.61708e5</td></tr><tr><td class = \"rowNumber\" style = \"font-weight: bold; text-align: right;\">33</td><td style = \"text-align: left;\">2021-03-01</td><td style = \"text-align: right;\">1.62333e5</td></tr><tr><td class = \"rowNumber\" style = \"font-weight: bold; text-align: right;\">34</td><td style = \"text-align: left;\">2021-06-01</td><td style = \"text-align: right;\">161194.0</td></tr><tr><td class = \"rowNumber\" style = \"font-weight: bold; text-align: right;\">35</td><td style = \"text-align: left;\">2021-09-01</td><td style = \"text-align: right;\">1.66217e5</td></tr><tr><td class = \"rowNumber\" style = \"font-weight: bold; text-align: right;\">36</td><td style = \"text-align: left;\">2021-12-01</td><td style = \"text-align: right;\">1.75824e5</td></tr><tr><td class = \"rowNumber\" style = \"font-weight: bold; text-align: right;\">37</td><td style = \"text-align: left;\">2022-03-01</td><td style = \"text-align: right;\">1.78476e5</td></tr><tr><td class = \"rowNumber\" style = \"font-weight: bold; text-align: right;\">38</td><td style = \"text-align: left;\">2022-06-01</td><td style = \"text-align: right;\">1.78229e5</td></tr><tr><td class = \"rowNumber\" style = \"font-weight: bold; text-align: right;\">39</td><td style = \"text-align: left;\">2022-09-01</td><td style = \"text-align: right;\">1.84388e5</td></tr><tr><td class = \"rowNumber\" style = \"font-weight: bold; text-align: right;\">40</td><td style = \"text-align: left;\">2022-12-01</td><td style = \"text-align: right;\">1.95016e5</td></tr></tbody></table></div>"
      ],
      "text/latex": [
       "\\begin{tabular}{r|cc}\n",
       "\t& date & value\\\\\n",
       "\t\\hline\n",
       "\t& Date & Float64\\\\\n",
       "\t\\hline\n",
       "\t1 & 2013-03-01 & 1.03834e5 \\\\\n",
       "\t2 & 2013-06-01 & 102177.0 \\\\\n",
       "\t3 & 2013-09-01 & 1.02217e5 \\\\\n",
       "\t4 & 2013-12-01 & 1.08155e5 \\\\\n",
       "\t5 & 2014-03-01 & 1.09525e5 \\\\\n",
       "\t6 & 2014-06-01 & 1.09404e5 \\\\\n",
       "\t7 & 2014-09-01 & 111334.0 \\\\\n",
       "\t8 & 2014-12-01 & 1.17063e5 \\\\\n",
       "\t9 & 2015-03-01 & 1.179e5 \\\\\n",
       "\t10 & 2015-06-01 & 1.16185e5 \\\\\n",
       "\t11 & 2015-09-01 & 118716.0 \\\\\n",
       "\t12 & 2015-12-01 & 1.23222e5 \\\\\n",
       "\t13 & 2016-03-01 & 1.23842e5 \\\\\n",
       "\t14 & 2016-06-01 & 122800.0 \\\\\n",
       "\t15 & 2016-09-01 & 1.24517e5 \\\\\n",
       "\t16 & 2016-12-01 & 1.30842e5 \\\\\n",
       "\t17 & 2017-03-01 & 1.31681e5 \\\\\n",
       "\t18 & 2017-06-01 & 1.27649e5 \\\\\n",
       "\t19 & 2017-09-01 & 1.30292e5 \\\\\n",
       "\t20 & 2017-12-01 & 1.36885e5 \\\\\n",
       "\t21 & 2018-03-01 & 1.37006e5 \\\\\n",
       "\t22 & 2018-06-01 & 1.34676e5 \\\\\n",
       "\t23 & 2018-09-01 & 1.36448e5 \\\\\n",
       "\t24 & 2018-12-01 & 1.43238e5 \\\\\n",
       "\t25 & 2019-03-01 & 1.45002e5 \\\\\n",
       "\t26 & 2019-06-01 & 1.45013e5 \\\\\n",
       "\t27 & 2019-09-01 & 1.47695e5 \\\\\n",
       "\t28 & 2019-12-01 & 1.56262e5 \\\\\n",
       "\t29 & 2020-03-01 & 1.5166e5 \\\\\n",
       "\t30 & 2020-06-01 & 1.36646e5 \\\\\n",
       "\t$\\dots$ & $\\dots$ & $\\dots$ \\\\\n",
       "\\end{tabular}\n"
      ],
      "text/plain": [
       "\u001b[1m40×2 DataFrame\u001b[0m\n",
       "\u001b[1m Row \u001b[0m│\u001b[1m date       \u001b[0m\u001b[1m value          \u001b[0m\n",
       "     │\u001b[90m Date       \u001b[0m\u001b[90m Float64        \u001b[0m\n",
       "─────┼────────────────────────────\n",
       "   1 │ 2013-03-01       1.03834e5\n",
       "   2 │ 2013-06-01  102177.0\n",
       "   3 │ 2013-09-01       1.02217e5\n",
       "   4 │ 2013-12-01       1.08155e5\n",
       "   5 │ 2014-03-01       1.09525e5\n",
       "   6 │ 2014-06-01       1.09404e5\n",
       "   7 │ 2014-09-01  111334.0\n",
       "   8 │ 2014-12-01       1.17063e5\n",
       "   9 │ 2015-03-01       1.179e5\n",
       "  10 │ 2015-06-01       1.16185e5\n",
       "  11 │ 2015-09-01  118716.0\n",
       "  ⋮  │     ⋮             ⋮\n",
       "  31 │ 2020-09-01       1.50074e5\n",
       "  32 │ 2020-12-01       1.61708e5\n",
       "  33 │ 2021-03-01       1.62333e5\n",
       "  34 │ 2021-06-01  161194.0\n",
       "  35 │ 2021-09-01       1.66217e5\n",
       "  36 │ 2021-12-01       1.75824e5\n",
       "  37 │ 2022-03-01       1.78476e5\n",
       "  38 │ 2022-06-01       1.78229e5\n",
       "  39 │ 2022-09-01       1.84388e5\n",
       "  40 │ 2022-12-01       1.95016e5\n",
       "\u001b[36m                   19 rows omitted\u001b[0m"
      ]
     },
     "execution_count": 48,
     "metadata": {},
     "output_type": "execute_result"
    }
   ],
   "source": [
    "countries_indicators[3].series"
   ]
  },
  {
   "cell_type": "code",
   "execution_count": 48,
   "id": "95901ed4",
   "metadata": {},
   "outputs": [
    {
     "data": {
      "text/html": [
       "<div><div style = \"float: left;\"><span>1010×5 DataFrame</span></div><div style = \"float: right;\"><span style = \"font-style: italic;\">985 rows omitted</span></div><div style = \"clear: both;\"></div></div><div class = \"data-frame\" style = \"overflow-x: scroll;\"><table class = \"data-frame\" style = \"margin-bottom: 6px;\"><thead><tr class = \"header\"><th class = \"rowNumber\" style = \"font-weight: bold; text-align: right;\">Row</th><th style = \"text-align: left;\">date</th><th style = \"text-align: left;\">value</th><th style = \"text-align: left;\">country</th><th style = \"text-align: left;\">indicator</th><th style = \"text-align: left;\">frequency</th></tr><tr class = \"subheader headerLastRow\"><th class = \"rowNumber\" style = \"font-weight: bold; text-align: right;\"></th><th title = \"Dates.Date\" style = \"text-align: left;\">Date</th><th title = \"Float64\" style = \"text-align: left;\">Float64</th><th title = \"String\" style = \"text-align: left;\">String</th><th title = \"String\" style = \"text-align: left;\">String</th><th title = \"String\" style = \"text-align: left;\">String</th></tr></thead><tbody><tr><td class = \"rowNumber\" style = \"font-weight: bold; text-align: right;\">1</td><td style = \"text-align: left;\">2013-03-01</td><td style = \"text-align: right;\">1.03834e5</td><td style = \"text-align: left;\">GT</td><td style = \"text-align: left;\">NGDP_NSA_XDC</td><td style = \"text-align: left;\">Q</td></tr><tr><td class = \"rowNumber\" style = \"font-weight: bold; text-align: right;\">2</td><td style = \"text-align: left;\">2013-06-01</td><td style = \"text-align: right;\">102177.0</td><td style = \"text-align: left;\">GT</td><td style = \"text-align: left;\">NGDP_NSA_XDC</td><td style = \"text-align: left;\">Q</td></tr><tr><td class = \"rowNumber\" style = \"font-weight: bold; text-align: right;\">3</td><td style = \"text-align: left;\">2013-09-01</td><td style = \"text-align: right;\">1.02217e5</td><td style = \"text-align: left;\">GT</td><td style = \"text-align: left;\">NGDP_NSA_XDC</td><td style = \"text-align: left;\">Q</td></tr><tr><td class = \"rowNumber\" style = \"font-weight: bold; text-align: right;\">4</td><td style = \"text-align: left;\">2013-12-01</td><td style = \"text-align: right;\">1.08155e5</td><td style = \"text-align: left;\">GT</td><td style = \"text-align: left;\">NGDP_NSA_XDC</td><td style = \"text-align: left;\">Q</td></tr><tr><td class = \"rowNumber\" style = \"font-weight: bold; text-align: right;\">5</td><td style = \"text-align: left;\">2014-03-01</td><td style = \"text-align: right;\">1.09525e5</td><td style = \"text-align: left;\">GT</td><td style = \"text-align: left;\">NGDP_NSA_XDC</td><td style = \"text-align: left;\">Q</td></tr><tr><td class = \"rowNumber\" style = \"font-weight: bold; text-align: right;\">6</td><td style = \"text-align: left;\">2014-06-01</td><td style = \"text-align: right;\">1.09404e5</td><td style = \"text-align: left;\">GT</td><td style = \"text-align: left;\">NGDP_NSA_XDC</td><td style = \"text-align: left;\">Q</td></tr><tr><td class = \"rowNumber\" style = \"font-weight: bold; text-align: right;\">7</td><td style = \"text-align: left;\">2014-09-01</td><td style = \"text-align: right;\">111334.0</td><td style = \"text-align: left;\">GT</td><td style = \"text-align: left;\">NGDP_NSA_XDC</td><td style = \"text-align: left;\">Q</td></tr><tr><td class = \"rowNumber\" style = \"font-weight: bold; text-align: right;\">8</td><td style = \"text-align: left;\">2014-12-01</td><td style = \"text-align: right;\">1.17063e5</td><td style = \"text-align: left;\">GT</td><td style = \"text-align: left;\">NGDP_NSA_XDC</td><td style = \"text-align: left;\">Q</td></tr><tr><td class = \"rowNumber\" style = \"font-weight: bold; text-align: right;\">9</td><td style = \"text-align: left;\">2015-03-01</td><td style = \"text-align: right;\">1.179e5</td><td style = \"text-align: left;\">GT</td><td style = \"text-align: left;\">NGDP_NSA_XDC</td><td style = \"text-align: left;\">Q</td></tr><tr><td class = \"rowNumber\" style = \"font-weight: bold; text-align: right;\">10</td><td style = \"text-align: left;\">2015-06-01</td><td style = \"text-align: right;\">1.16185e5</td><td style = \"text-align: left;\">GT</td><td style = \"text-align: left;\">NGDP_NSA_XDC</td><td style = \"text-align: left;\">Q</td></tr><tr><td class = \"rowNumber\" style = \"font-weight: bold; text-align: right;\">11</td><td style = \"text-align: left;\">2015-09-01</td><td style = \"text-align: right;\">118716.0</td><td style = \"text-align: left;\">GT</td><td style = \"text-align: left;\">NGDP_NSA_XDC</td><td style = \"text-align: left;\">Q</td></tr><tr><td class = \"rowNumber\" style = \"font-weight: bold; text-align: right;\">12</td><td style = \"text-align: left;\">2015-12-01</td><td style = \"text-align: right;\">1.23222e5</td><td style = \"text-align: left;\">GT</td><td style = \"text-align: left;\">NGDP_NSA_XDC</td><td style = \"text-align: left;\">Q</td></tr><tr><td class = \"rowNumber\" style = \"font-weight: bold; text-align: right;\">13</td><td style = \"text-align: left;\">2016-03-01</td><td style = \"text-align: right;\">1.23842e5</td><td style = \"text-align: left;\">GT</td><td style = \"text-align: left;\">NGDP_NSA_XDC</td><td style = \"text-align: left;\">Q</td></tr><tr><td style = \"text-align: right;\">&vellip;</td><td style = \"text-align: right;\">&vellip;</td><td style = \"text-align: right;\">&vellip;</td><td style = \"text-align: right;\">&vellip;</td><td style = \"text-align: right;\">&vellip;</td><td style = \"text-align: right;\">&vellip;</td></tr><tr><td class = \"rowNumber\" style = \"font-weight: bold; text-align: right;\">999</td><td style = \"text-align: left;\">2020-06-01</td><td style = \"text-align: right;\">8.1759e6</td><td style = \"text-align: left;\">CR</td><td style = \"text-align: left;\">NGDP_R_NSA_XDC</td><td style = \"text-align: left;\">Q</td></tr><tr><td class = \"rowNumber\" style = \"font-weight: bold; text-align: right;\">1000</td><td style = \"text-align: left;\">2020-09-01</td><td style = \"text-align: right;\">8.26821e6</td><td style = \"text-align: left;\">CR</td><td style = \"text-align: left;\">NGDP_R_NSA_XDC</td><td style = \"text-align: left;\">Q</td></tr><tr><td class = \"rowNumber\" style = \"font-weight: bold; text-align: right;\">1001</td><td style = \"text-align: left;\">2020-12-01</td><td style = \"text-align: right;\">8.94797e6</td><td style = \"text-align: left;\">CR</td><td style = \"text-align: left;\">NGDP_R_NSA_XDC</td><td style = \"text-align: left;\">Q</td></tr><tr><td class = \"rowNumber\" style = \"font-weight: bold; text-align: right;\">1002</td><td style = \"text-align: left;\">2021-03-01</td><td style = \"text-align: right;\">9.08539e6</td><td style = \"text-align: left;\">CR</td><td style = \"text-align: left;\">NGDP_R_NSA_XDC</td><td style = \"text-align: left;\">Q</td></tr><tr><td class = \"rowNumber\" style = \"font-weight: bold; text-align: right;\">1003</td><td style = \"text-align: left;\">2021-06-01</td><td style = \"text-align: right;\">9.02505e6</td><td style = \"text-align: left;\">CR</td><td style = \"text-align: left;\">NGDP_R_NSA_XDC</td><td style = \"text-align: left;\">Q</td></tr><tr><td class = \"rowNumber\" style = \"font-weight: bold; text-align: right;\">1004</td><td style = \"text-align: left;\">2021-09-01</td><td style = \"text-align: right;\">9.31163e6</td><td style = \"text-align: left;\">CR</td><td style = \"text-align: left;\">NGDP_R_NSA_XDC</td><td style = \"text-align: left;\">Q</td></tr><tr><td class = \"rowNumber\" style = \"font-weight: bold; text-align: right;\">1005</td><td style = \"text-align: left;\">2021-12-01</td><td style = \"text-align: right;\">9.81791e6</td><td style = \"text-align: left;\">CR</td><td style = \"text-align: left;\">NGDP_R_NSA_XDC</td><td style = \"text-align: left;\">Q</td></tr><tr><td class = \"rowNumber\" style = \"font-weight: bold; text-align: right;\">1006</td><td style = \"text-align: left;\">2022-03-01</td><td style = \"text-align: right;\">9.6828e6</td><td style = \"text-align: left;\">CR</td><td style = \"text-align: left;\">NGDP_R_NSA_XDC</td><td style = \"text-align: left;\">Q</td></tr><tr><td class = \"rowNumber\" style = \"font-weight: bold; text-align: right;\">1007</td><td style = \"text-align: left;\">2022-06-01</td><td style = \"text-align: right;\">9.40296e6</td><td style = \"text-align: left;\">CR</td><td style = \"text-align: left;\">NGDP_R_NSA_XDC</td><td style = \"text-align: left;\">Q</td></tr><tr><td class = \"rowNumber\" style = \"font-weight: bold; text-align: right;\">1008</td><td style = \"text-align: left;\">2022-09-01</td><td style = \"text-align: right;\">9.5455e6</td><td style = \"text-align: left;\">CR</td><td style = \"text-align: left;\">NGDP_R_NSA_XDC</td><td style = \"text-align: left;\">Q</td></tr><tr><td class = \"rowNumber\" style = \"font-weight: bold; text-align: right;\">1009</td><td style = \"text-align: left;\">2022-12-01</td><td style = \"text-align: right;\">1.02119e7</td><td style = \"text-align: left;\">CR</td><td style = \"text-align: left;\">NGDP_R_NSA_XDC</td><td style = \"text-align: left;\">Q</td></tr><tr><td class = \"rowNumber\" style = \"font-weight: bold; text-align: right;\">1010</td><td style = \"text-align: left;\">2023-03-01</td><td style = \"text-align: right;\">1.01233e7</td><td style = \"text-align: left;\">CR</td><td style = \"text-align: left;\">NGDP_R_NSA_XDC</td><td style = \"text-align: left;\">Q</td></tr></tbody></table></div>"
      ],
      "text/latex": [
       "\\begin{tabular}{r|ccccc}\n",
       "\t& date & value & country & indicator & frequency\\\\\n",
       "\t\\hline\n",
       "\t& Date & Float64 & String & String & String\\\\\n",
       "\t\\hline\n",
       "\t1 & 2013-03-01 & 1.03834e5 & GT & NGDP\\_NSA\\_XDC & Q \\\\\n",
       "\t2 & 2013-06-01 & 102177.0 & GT & NGDP\\_NSA\\_XDC & Q \\\\\n",
       "\t3 & 2013-09-01 & 1.02217e5 & GT & NGDP\\_NSA\\_XDC & Q \\\\\n",
       "\t4 & 2013-12-01 & 1.08155e5 & GT & NGDP\\_NSA\\_XDC & Q \\\\\n",
       "\t5 & 2014-03-01 & 1.09525e5 & GT & NGDP\\_NSA\\_XDC & Q \\\\\n",
       "\t6 & 2014-06-01 & 1.09404e5 & GT & NGDP\\_NSA\\_XDC & Q \\\\\n",
       "\t7 & 2014-09-01 & 111334.0 & GT & NGDP\\_NSA\\_XDC & Q \\\\\n",
       "\t8 & 2014-12-01 & 1.17063e5 & GT & NGDP\\_NSA\\_XDC & Q \\\\\n",
       "\t9 & 2015-03-01 & 1.179e5 & GT & NGDP\\_NSA\\_XDC & Q \\\\\n",
       "\t10 & 2015-06-01 & 1.16185e5 & GT & NGDP\\_NSA\\_XDC & Q \\\\\n",
       "\t11 & 2015-09-01 & 118716.0 & GT & NGDP\\_NSA\\_XDC & Q \\\\\n",
       "\t12 & 2015-12-01 & 1.23222e5 & GT & NGDP\\_NSA\\_XDC & Q \\\\\n",
       "\t13 & 2016-03-01 & 1.23842e5 & GT & NGDP\\_NSA\\_XDC & Q \\\\\n",
       "\t14 & 2016-06-01 & 122800.0 & GT & NGDP\\_NSA\\_XDC & Q \\\\\n",
       "\t15 & 2016-09-01 & 1.24517e5 & GT & NGDP\\_NSA\\_XDC & Q \\\\\n",
       "\t16 & 2016-12-01 & 1.30842e5 & GT & NGDP\\_NSA\\_XDC & Q \\\\\n",
       "\t17 & 2017-03-01 & 1.31681e5 & GT & NGDP\\_NSA\\_XDC & Q \\\\\n",
       "\t18 & 2017-06-01 & 1.27649e5 & GT & NGDP\\_NSA\\_XDC & Q \\\\\n",
       "\t19 & 2017-09-01 & 1.30292e5 & GT & NGDP\\_NSA\\_XDC & Q \\\\\n",
       "\t20 & 2017-12-01 & 1.36885e5 & GT & NGDP\\_NSA\\_XDC & Q \\\\\n",
       "\t21 & 2018-03-01 & 1.37006e5 & GT & NGDP\\_NSA\\_XDC & Q \\\\\n",
       "\t22 & 2018-06-01 & 1.34676e5 & GT & NGDP\\_NSA\\_XDC & Q \\\\\n",
       "\t23 & 2018-09-01 & 1.36448e5 & GT & NGDP\\_NSA\\_XDC & Q \\\\\n",
       "\t24 & 2018-12-01 & 1.43238e5 & GT & NGDP\\_NSA\\_XDC & Q \\\\\n",
       "\t25 & 2019-03-01 & 1.45002e5 & GT & NGDP\\_NSA\\_XDC & Q \\\\\n",
       "\t26 & 2019-06-01 & 1.45013e5 & GT & NGDP\\_NSA\\_XDC & Q \\\\\n",
       "\t27 & 2019-09-01 & 1.47695e5 & GT & NGDP\\_NSA\\_XDC & Q \\\\\n",
       "\t28 & 2019-12-01 & 1.56262e5 & GT & NGDP\\_NSA\\_XDC & Q \\\\\n",
       "\t29 & 2020-03-01 & 1.5166e5 & GT & NGDP\\_NSA\\_XDC & Q \\\\\n",
       "\t30 & 2020-06-01 & 1.36646e5 & GT & NGDP\\_NSA\\_XDC & Q \\\\\n",
       "\t$\\dots$ & $\\dots$ & $\\dots$ & $\\dots$ & $\\dots$ & $\\dots$ \\\\\n",
       "\\end{tabular}\n"
      ],
      "text/plain": [
       "\u001b[1m1010×5 DataFrame\u001b[0m\n",
       "\u001b[1m  Row \u001b[0m│\u001b[1m date       \u001b[0m\u001b[1m value          \u001b[0m\u001b[1m country \u001b[0m\u001b[1m indicator      \u001b[0m\u001b[1m frequency \u001b[0m\n",
       "      │\u001b[90m Date       \u001b[0m\u001b[90m Float64        \u001b[0m\u001b[90m String  \u001b[0m\u001b[90m String         \u001b[0m\u001b[90m String    \u001b[0m\n",
       "──────┼────────────────────────────────────────────────────────────────\n",
       "    1 │ 2013-03-01       1.03834e5  GT       NGDP_NSA_XDC    Q\n",
       "    2 │ 2013-06-01  102177.0        GT       NGDP_NSA_XDC    Q\n",
       "    3 │ 2013-09-01       1.02217e5  GT       NGDP_NSA_XDC    Q\n",
       "    4 │ 2013-12-01       1.08155e5  GT       NGDP_NSA_XDC    Q\n",
       "    5 │ 2014-03-01       1.09525e5  GT       NGDP_NSA_XDC    Q\n",
       "    6 │ 2014-06-01       1.09404e5  GT       NGDP_NSA_XDC    Q\n",
       "    7 │ 2014-09-01  111334.0        GT       NGDP_NSA_XDC    Q\n",
       "    8 │ 2014-12-01       1.17063e5  GT       NGDP_NSA_XDC    Q\n",
       "    9 │ 2015-03-01       1.179e5    GT       NGDP_NSA_XDC    Q\n",
       "   10 │ 2015-06-01       1.16185e5  GT       NGDP_NSA_XDC    Q\n",
       "   11 │ 2015-09-01  118716.0        GT       NGDP_NSA_XDC    Q\n",
       "  ⋮   │     ⋮             ⋮            ⋮           ⋮             ⋮\n",
       " 1001 │ 2020-12-01       8.94797e6  CR       NGDP_R_NSA_XDC  Q\n",
       " 1002 │ 2021-03-01       9.08539e6  CR       NGDP_R_NSA_XDC  Q\n",
       " 1003 │ 2021-06-01       9.02505e6  CR       NGDP_R_NSA_XDC  Q\n",
       " 1004 │ 2021-09-01       9.31163e6  CR       NGDP_R_NSA_XDC  Q\n",
       " 1005 │ 2021-12-01       9.81791e6  CR       NGDP_R_NSA_XDC  Q\n",
       " 1006 │ 2022-03-01       9.6828e6   CR       NGDP_R_NSA_XDC  Q\n",
       " 1007 │ 2022-06-01       9.40296e6  CR       NGDP_R_NSA_XDC  Q\n",
       " 1008 │ 2022-09-01       9.5455e6   CR       NGDP_R_NSA_XDC  Q\n",
       " 1009 │ 2022-12-01       1.02119e7  CR       NGDP_R_NSA_XDC  Q\n",
       " 1010 │ 2023-03-01       1.01233e7  CR       NGDP_R_NSA_XDC  Q\n",
       "\u001b[36m                                                       989 rows omitted\u001b[0m"
      ]
     },
     "execution_count": 49,
     "metadata": {},
     "output_type": "execute_result"
    }
   ],
   "source": [
    "ndf = size(countries_indicators)[1]\n",
    "df = map(_ -> DataFrames.DataFrame(), 1:ndf)\n",
    "[df[i] = get_df(i) for i in 1:ndf]\n",
    "df = vcat(df...)\n",
    "CSV.write(\n",
    "    wd * \"/IMFData_query.csv\",\n",
    "    delim = \";\",\n",
    "    df)\n",
    "df"
   ]
  },
  {
   "cell_type": "markdown",
   "id": "1fbb073f",
   "metadata": {},
   "source": [
    "# Examples\n"
   ]
  },
  {
   "cell_type": "code",
   "execution_count": 49,
   "id": "6c0b5e82",
   "metadata": {},
   "outputs": [
    {
     "data": {
      "text/html": [
       "<div><div style = \"float: left;\"><span>323×2 DataFrame</span></div><div style = \"float: right;\"><span style = \"font-style: italic;\">298 rows omitted</span></div><div style = \"clear: both;\"></div></div><div class = \"data-frame\" style = \"overflow-x: scroll;\"><table class = \"data-frame\" style = \"margin-bottom: 6px;\"><thead><tr class = \"header\"><th class = \"rowNumber\" style = \"font-weight: bold; text-align: right;\">Row</th><th style = \"text-align: left;\">dataset_id</th><th style = \"text-align: left;\">dataset_name</th></tr><tr class = \"subheader headerLastRow\"><th class = \"rowNumber\" style = \"font-weight: bold; text-align: right;\"></th><th title = \"String\" style = \"text-align: left;\">String</th><th title = \"String\" style = \"text-align: left;\">String</th></tr></thead><tbody><tr><td class = \"rowNumber\" style = \"font-weight: bold; text-align: right;\">1</td><td style = \"text-align: left;\">AFRREO</td><td style = \"text-align: left;\">Sub-Saharan Africa Regional Economic Outlook (AFRREO)</td></tr><tr><td class = \"rowNumber\" style = \"font-weight: bold; text-align: right;\">2</td><td style = \"text-align: left;\">AFRREO201410</td><td style = \"text-align: left;\">Sub-Saharan Africa Regional Economic Outlook (AFRREO) October 2014</td></tr><tr><td class = \"rowNumber\" style = \"font-weight: bold; text-align: right;\">3</td><td style = \"text-align: left;\">AFRREO201504</td><td style = \"text-align: left;\">Sub-Saharan Africa Regional Economic Outlook (AFRREO) April 2015</td></tr><tr><td class = \"rowNumber\" style = \"font-weight: bold; text-align: right;\">4</td><td style = \"text-align: left;\">AFRREO201510</td><td style = \"text-align: left;\">Sub-Saharan Africa Regional Economic Outlook (AFRREO) October 2015</td></tr><tr><td class = \"rowNumber\" style = \"font-weight: bold; text-align: right;\">5</td><td style = \"text-align: left;\">AFRREO201604</td><td style = \"text-align: left;\">Sub-Saharan Africa Regional Economic Outlook (AFRREO) April 2016</td></tr><tr><td class = \"rowNumber\" style = \"font-weight: bold; text-align: right;\">6</td><td style = \"text-align: left;\">AFRREO201610</td><td style = \"text-align: left;\">Sub-Saharan Africa Regional Economic Outlook (AFRREO) October 2016</td></tr><tr><td class = \"rowNumber\" style = \"font-weight: bold; text-align: right;\">7</td><td style = \"text-align: left;\">AFRREO201704</td><td style = \"text-align: left;\">Sub-Saharan Africa Regional Economic Outlook (AFRREO) April 2017</td></tr><tr><td class = \"rowNumber\" style = \"font-weight: bold; text-align: right;\">8</td><td style = \"text-align: left;\">AFRREO201710</td><td style = \"text-align: left;\">Sub-Saharan Africa Regional Economic Outlook (AFRREO) October 2017</td></tr><tr><td class = \"rowNumber\" style = \"font-weight: bold; text-align: right;\">9</td><td style = \"text-align: left;\">AFRREO201804</td><td style = \"text-align: left;\">Sub-Saharan Africa Regional Economic Outlook (AFRREO) April 2018</td></tr><tr><td class = \"rowNumber\" style = \"font-weight: bold; text-align: right;\">10</td><td style = \"text-align: left;\">AFRREO201810</td><td style = \"text-align: left;\">Sub-Saharan Africa Regional Economic Outlook (AFRREO) October 2018</td></tr><tr><td class = \"rowNumber\" style = \"font-weight: bold; text-align: right;\">11</td><td style = \"text-align: left;\">AFRREO201904</td><td style = \"text-align: left;\">Sub-Saharan Africa Regional Economic Outlook (AFRREO) April 2019</td></tr><tr><td class = \"rowNumber\" style = \"font-weight: bold; text-align: right;\">12</td><td style = \"text-align: left;\">AFRREO201910</td><td style = \"text-align: left;\">Sub-Saharan Africa Regional Economic Outlook (AFRREO) October 2019</td></tr><tr><td class = \"rowNumber\" style = \"font-weight: bold; text-align: right;\">13</td><td style = \"text-align: left;\">AFRREO202004</td><td style = \"text-align: left;\">Sub-Saharan Africa Regional Economic Outlook (AFRREO) April 2020</td></tr><tr><td style = \"text-align: right;\">&vellip;</td><td style = \"text-align: right;\">&vellip;</td><td style = \"text-align: right;\">&vellip;</td></tr><tr><td class = \"rowNumber\" style = \"font-weight: bold; text-align: right;\">312</td><td style = \"text-align: left;\">WHDREO201504</td><td style = \"text-align: left;\">Western Hemisphere Regional Economic Outlook (WHDREO) April 2015</td></tr><tr><td class = \"rowNumber\" style = \"font-weight: bold; text-align: right;\">313</td><td style = \"text-align: left;\">WHDREO201510</td><td style = \"text-align: left;\">Western Hemisphere Regional Economic Outlook (WHDREO) October 2015</td></tr><tr><td class = \"rowNumber\" style = \"font-weight: bold; text-align: right;\">314</td><td style = \"text-align: left;\">WHDREO201604</td><td style = \"text-align: left;\">Western Hemisphere Regional Economic Outlook (WHDREO) April 2016</td></tr><tr><td class = \"rowNumber\" style = \"font-weight: bold; text-align: right;\">315</td><td style = \"text-align: left;\">WHDREO201610</td><td style = \"text-align: left;\">Western Hemisphere Regional Economic Outlook (WHDREO) October 2016</td></tr><tr><td class = \"rowNumber\" style = \"font-weight: bold; text-align: right;\">316</td><td style = \"text-align: left;\">WHDREO201704</td><td style = \"text-align: left;\">Western Hemisphere Regional Economic Outlook (WHDREO) April 2017</td></tr><tr><td class = \"rowNumber\" style = \"font-weight: bold; text-align: right;\">317</td><td style = \"text-align: left;\">WHDREO201710</td><td style = \"text-align: left;\">Western Hemisphere Regional Economic Outlook (WHDREO) October 2017</td></tr><tr><td class = \"rowNumber\" style = \"font-weight: bold; text-align: right;\">318</td><td style = \"text-align: left;\">WHDREO201804</td><td style = \"text-align: left;\">Western Hemisphere Regional Economic Outlook (WHDREO) April 2018</td></tr><tr><td class = \"rowNumber\" style = \"font-weight: bold; text-align: right;\">319</td><td style = \"text-align: left;\">WHDREO201810</td><td style = \"text-align: left;\">Western Hemisphere Regional Economic Outlook (WHDREO) October 2018</td></tr><tr><td class = \"rowNumber\" style = \"font-weight: bold; text-align: right;\">320</td><td style = \"text-align: left;\">WHDREO201904</td><td style = \"text-align: left;\">Western Hemisphere Regional Economic Outlook (WHDREO) April 2019</td></tr><tr><td class = \"rowNumber\" style = \"font-weight: bold; text-align: right;\">321</td><td style = \"text-align: left;\">WHDREO201910</td><td style = \"text-align: left;\">Western Hemisphere Regional Economic Outlook (WHDREO) October 2019</td></tr><tr><td class = \"rowNumber\" style = \"font-weight: bold; text-align: right;\">322</td><td style = \"text-align: left;\">WHDREO202010</td><td style = \"text-align: left;\">Western Hemisphere Regional Economic Outlook (WHDREO) October 2020</td></tr><tr><td class = \"rowNumber\" style = \"font-weight: bold; text-align: right;\">323</td><td style = \"text-align: left;\">WoRLD</td><td style = \"text-align: left;\">World Revenue Longitudinal Data (WoRLD)</td></tr></tbody></table></div>"
      ],
      "text/latex": [
       "\\begin{tabular}{r|cc}\n",
       "\t& dataset\\_id & dataset\\_name\\\\\n",
       "\t\\hline\n",
       "\t& String & String\\\\\n",
       "\t\\hline\n",
       "\t1 & AFRREO & Sub-Saharan Africa Regional Economic Outlook (AFRREO) \\\\\n",
       "\t2 & AFRREO201410 & Sub-Saharan Africa Regional Economic Outlook (AFRREO) October 2014 \\\\\n",
       "\t3 & AFRREO201504 & Sub-Saharan Africa Regional Economic Outlook (AFRREO) April 2015 \\\\\n",
       "\t4 & AFRREO201510 & Sub-Saharan Africa Regional Economic Outlook (AFRREO) October 2015 \\\\\n",
       "\t5 & AFRREO201604 & Sub-Saharan Africa Regional Economic Outlook (AFRREO) April 2016 \\\\\n",
       "\t6 & AFRREO201610 & Sub-Saharan Africa Regional Economic Outlook (AFRREO) October 2016 \\\\\n",
       "\t7 & AFRREO201704 & Sub-Saharan Africa Regional Economic Outlook (AFRREO) April 2017 \\\\\n",
       "\t8 & AFRREO201710 & Sub-Saharan Africa Regional Economic Outlook (AFRREO) October 2017 \\\\\n",
       "\t9 & AFRREO201804 & Sub-Saharan Africa Regional Economic Outlook (AFRREO) April 2018 \\\\\n",
       "\t10 & AFRREO201810 & Sub-Saharan Africa Regional Economic Outlook (AFRREO) October 2018 \\\\\n",
       "\t11 & AFRREO201904 & Sub-Saharan Africa Regional Economic Outlook (AFRREO) April 2019 \\\\\n",
       "\t12 & AFRREO201910 & Sub-Saharan Africa Regional Economic Outlook (AFRREO) October 2019 \\\\\n",
       "\t13 & AFRREO202004 & Sub-Saharan Africa Regional Economic Outlook (AFRREO) April 2020 \\\\\n",
       "\t14 & AFRREO202010 & Sub-Saharan Africa Regional Economic Outlook (AFRREO) October 2020 \\\\\n",
       "\t15 & APDREO & Asia and Pacific Regional Economic Outlook (APDREO) \\\\\n",
       "\t16 & APDREO201410 & Asia and Pacific Regional Economic Outlook (APDREO) October 2014 \\\\\n",
       "\t17 & APDREO201504 & Asia and Pacific Regional Economic Outlook (APDREO) April 2015 \\\\\n",
       "\t18 & APDREO201510 & Asia and Pacific Regional Economic Outlook (APDREO) October 2015 \\\\\n",
       "\t19 & APDREO201604 & Asia and Pacific Regional Economic Outlook (APDREO) April 2016 \\\\\n",
       "\t20 & APDREO201610 & Asia and Pacific Regional Economic Outlook (APDREO) October 2016 \\\\\n",
       "\t21 & APDREO201710 & Asia and Pacific Regional Economic Outlook (APDREO) October 2017 \\\\\n",
       "\t22 & APDREO2017M04 & Asia and Pacific Regional Economic Outlook (APDREO) April 2017 \\\\\n",
       "\t23 & APDREO201804 & Asia and Pacific Regional Economic Outlook (APDREO) April 2018 \\\\\n",
       "\t24 & APDREO201810 & Asia and Pacific Regional Economic Outlook (APDREO) October 2018 \\\\\n",
       "\t25 & APDREO201904 & Asia and Pacific Regional Economic Outlook (APDREO) April 2019 \\\\\n",
       "\t26 & APDREO201910 & Asia and Pacific Regional Economic Outlook (APDREO) October 2019 \\\\\n",
       "\t27 & APDREO202010 & Asia and Pacific Regional Economic Outlook (APDREO) October 2020 \\\\\n",
       "\t28 & BOP & Balance of Payments (BOP) \\\\\n",
       "\t29 & BOPAGG & Balance of Payments (BOP), World and Regional Aggregates \\\\\n",
       "\t30 & BOPAGG\\_2016 & Balance of Payments (BOP), World and Regional Aggregates, 2016 \\\\\n",
       "\t$\\dots$ & $\\dots$ & $\\dots$ \\\\\n",
       "\\end{tabular}\n"
      ],
      "text/plain": [
       "\u001b[1m323×2 DataFrame\u001b[0m\n",
       "\u001b[1m Row \u001b[0m│\u001b[1m dataset_id       \u001b[0m\u001b[1m dataset_name                      \u001b[0m\n",
       "     │\u001b[90m String           \u001b[0m\u001b[90m String                            \u001b[0m\n",
       "─────┼─────────────────────────────────────────────────────\n",
       "   1 │ AFRREO            Sub-Saharan Africa Regional Econ…\n",
       "   2 │ AFRREO201410      Sub-Saharan Africa Regional Econ…\n",
       "   3 │ AFRREO201504      Sub-Saharan Africa Regional Econ…\n",
       "   4 │ AFRREO201510      Sub-Saharan Africa Regional Econ…\n",
       "   5 │ AFRREO201604      Sub-Saharan Africa Regional Econ…\n",
       "   6 │ AFRREO201610      Sub-Saharan Africa Regional Econ…\n",
       "   7 │ AFRREO201704      Sub-Saharan Africa Regional Econ…\n",
       "   8 │ AFRREO201710      Sub-Saharan Africa Regional Econ…\n",
       "   9 │ AFRREO201804      Sub-Saharan Africa Regional Econ…\n",
       "  10 │ AFRREO201810      Sub-Saharan Africa Regional Econ…\n",
       "  11 │ AFRREO201904      Sub-Saharan Africa Regional Econ…\n",
       "  ⋮  │        ⋮                          ⋮\n",
       " 314 │ WHDREO201604      Western Hemisphere Regional Econ…\n",
       " 315 │ WHDREO201610      Western Hemisphere Regional Econ…\n",
       " 316 │ WHDREO201704      Western Hemisphere Regional Econ…\n",
       " 317 │ WHDREO201710      Western Hemisphere Regional Econ…\n",
       " 318 │ WHDREO201804      Western Hemisphere Regional Econ…\n",
       " 319 │ WHDREO201810      Western Hemisphere Regional Econ…\n",
       " 320 │ WHDREO201904      Western Hemisphere Regional Econ…\n",
       " 321 │ WHDREO201910      Western Hemisphere Regional Econ…\n",
       " 322 │ WHDREO202010      Western Hemisphere Regional Econ…\n",
       " 323 │ WoRLD             World Revenue Longitudinal Data …\n",
       "\u001b[36m                                           302 rows omitted\u001b[0m"
      ]
     },
     "execution_count": 50,
     "metadata": {},
     "output_type": "execute_result"
    }
   ],
   "source": [
    "datasets = IMFData.get_imf_datasets()"
   ]
  },
  {
   "cell_type": "code",
   "execution_count": 50,
   "id": "8d391cdb",
   "metadata": {},
   "outputs": [
    {
     "data": {
      "text/html": [
       "<div><div style = \"float: left;\"><span>71×2 DataFrame</span></div><div style = \"float: right;\"><span style = \"font-style: italic;\">46 rows omitted</span></div><div style = \"clear: both;\"></div></div><div class = \"data-frame\" style = \"overflow-x: scroll;\"><table class = \"data-frame\" style = \"margin-bottom: 6px;\"><thead><tr class = \"header\"><th class = \"rowNumber\" style = \"font-weight: bold; text-align: right;\">Row</th><th style = \"text-align: left;\">dataset_id</th><th style = \"text-align: left;\">dataset_name</th></tr><tr class = \"subheader headerLastRow\"><th class = \"rowNumber\" style = \"font-weight: bold; text-align: right;\"></th><th title = \"String\" style = \"text-align: left;\">String</th><th title = \"String\" style = \"text-align: left;\">String</th></tr></thead><tbody><tr><td class = \"rowNumber\" style = \"font-weight: bold; text-align: right;\">1</td><td style = \"text-align: left;\">IFS</td><td style = \"text-align: left;\">International Financial Statistics (IFS)</td></tr><tr><td class = \"rowNumber\" style = \"font-weight: bold; text-align: right;\">2</td><td style = \"text-align: left;\">IFS_2017M08</td><td style = \"text-align: left;\">International Financial Statistics (IFS), 2017 M08</td></tr><tr><td class = \"rowNumber\" style = \"font-weight: bold; text-align: right;\">3</td><td style = \"text-align: left;\">IFS_2017M09</td><td style = \"text-align: left;\">International Financial Statistics (IFS), 2017 M09</td></tr><tr><td class = \"rowNumber\" style = \"font-weight: bold; text-align: right;\">4</td><td style = \"text-align: left;\">IFS_2017M10</td><td style = \"text-align: left;\">International Financial Statistics (IFS), 2017 M10</td></tr><tr><td class = \"rowNumber\" style = \"font-weight: bold; text-align: right;\">5</td><td style = \"text-align: left;\">IFS_2017M11</td><td style = \"text-align: left;\">International Financial Statistics (IFS), 2017 M11</td></tr><tr><td class = \"rowNumber\" style = \"font-weight: bold; text-align: right;\">6</td><td style = \"text-align: left;\">IFS_2017M12</td><td style = \"text-align: left;\">International Financial Statistics (IFS), 2017 M12</td></tr><tr><td class = \"rowNumber\" style = \"font-weight: bold; text-align: right;\">7</td><td style = \"text-align: left;\">IFS_2018M01</td><td style = \"text-align: left;\">International Financial Statistics (IFS), 2018 M01</td></tr><tr><td class = \"rowNumber\" style = \"font-weight: bold; text-align: right;\">8</td><td style = \"text-align: left;\">IFS_2018M02</td><td style = \"text-align: left;\">International Financial Statistics (IFS), 2018 M02</td></tr><tr><td class = \"rowNumber\" style = \"font-weight: bold; text-align: right;\">9</td><td style = \"text-align: left;\">IFS_2018M03</td><td style = \"text-align: left;\">International Financial Statistics (IFS), 2018 M03</td></tr><tr><td class = \"rowNumber\" style = \"font-weight: bold; text-align: right;\">10</td><td style = \"text-align: left;\">IFS_2018M04</td><td style = \"text-align: left;\">International Financial Statistics (IFS), 2018 M04</td></tr><tr><td class = \"rowNumber\" style = \"font-weight: bold; text-align: right;\">11</td><td style = \"text-align: left;\">IFS_2018M05</td><td style = \"text-align: left;\">International Financial Statistics (IFS), 2018 M05 </td></tr><tr><td class = \"rowNumber\" style = \"font-weight: bold; text-align: right;\">12</td><td style = \"text-align: left;\">IFS_2018M06</td><td style = \"text-align: left;\">International Financial Statistics (IFS), 2018 M06</td></tr><tr><td class = \"rowNumber\" style = \"font-weight: bold; text-align: right;\">13</td><td style = \"text-align: left;\">IFS_2018M07</td><td style = \"text-align: left;\">International Financial Statistics (IFS), 2018 M07</td></tr><tr><td style = \"text-align: right;\">&vellip;</td><td style = \"text-align: right;\">&vellip;</td><td style = \"text-align: right;\">&vellip;</td></tr><tr><td class = \"rowNumber\" style = \"font-weight: bold; text-align: right;\">60</td><td style = \"text-align: left;\">IFS_2022M06</td><td style = \"text-align: left;\">International Financial Statistics (IFS), 2022 M06</td></tr><tr><td class = \"rowNumber\" style = \"font-weight: bold; text-align: right;\">61</td><td style = \"text-align: left;\">IFS_2022M07</td><td style = \"text-align: left;\">International Financial Statistics (IFS), 2022 M07</td></tr><tr><td class = \"rowNumber\" style = \"font-weight: bold; text-align: right;\">62</td><td style = \"text-align: left;\">IFS_2022M08</td><td style = \"text-align: left;\">International Financial Statistics (IFS), 2022 M08</td></tr><tr><td class = \"rowNumber\" style = \"font-weight: bold; text-align: right;\">63</td><td style = \"text-align: left;\">IFS_2022M09</td><td style = \"text-align: left;\">International Financial Statistics (IFS), 2022 M09</td></tr><tr><td class = \"rowNumber\" style = \"font-weight: bold; text-align: right;\">64</td><td style = \"text-align: left;\">IFS_2022M10</td><td style = \"text-align: left;\">International Financial Statistics (IFS), 2022 M10</td></tr><tr><td class = \"rowNumber\" style = \"font-weight: bold; text-align: right;\">65</td><td style = \"text-align: left;\">IFS_2022M11</td><td style = \"text-align: left;\">International Financial Statistics (IFS), 2022 M11</td></tr><tr><td class = \"rowNumber\" style = \"font-weight: bold; text-align: right;\">66</td><td style = \"text-align: left;\">IFS_2023M01</td><td style = \"text-align: left;\">International Financial Statistics (IFS), 2023 M01</td></tr><tr><td class = \"rowNumber\" style = \"font-weight: bold; text-align: right;\">67</td><td style = \"text-align: left;\">IFS_2023M02</td><td style = \"text-align: left;\">International Financial Statistics (IFS), 2023 M02</td></tr><tr><td class = \"rowNumber\" style = \"font-weight: bold; text-align: right;\">68</td><td style = \"text-align: left;\">IFS_2023M03</td><td style = \"text-align: left;\">International Financial Statistics (IFS), 2023 M03</td></tr><tr><td class = \"rowNumber\" style = \"font-weight: bold; text-align: right;\">69</td><td style = \"text-align: left;\">IFS_2023M04</td><td style = \"text-align: left;\">International Financial Statistics (IFS), 2023 M04</td></tr><tr><td class = \"rowNumber\" style = \"font-weight: bold; text-align: right;\">70</td><td style = \"text-align: left;\">IFS_2023M05</td><td style = \"text-align: left;\">International Financial Statistics (IFS), 2023 M05</td></tr><tr><td class = \"rowNumber\" style = \"font-weight: bold; text-align: right;\">71</td><td style = \"text-align: left;\">IFS_DISCONTINUED</td><td style = \"text-align: left;\">International Financial Statistics (IFS), Discontinued Series</td></tr></tbody></table></div>"
      ],
      "text/latex": [
       "\\begin{tabular}{r|cc}\n",
       "\t& dataset\\_id & dataset\\_name\\\\\n",
       "\t\\hline\n",
       "\t& String & String\\\\\n",
       "\t\\hline\n",
       "\t1 & IFS & International Financial Statistics (IFS) \\\\\n",
       "\t2 & IFS\\_2017M08 & International Financial Statistics (IFS), 2017 M08 \\\\\n",
       "\t3 & IFS\\_2017M09 & International Financial Statistics (IFS), 2017 M09 \\\\\n",
       "\t4 & IFS\\_2017M10 & International Financial Statistics (IFS), 2017 M10 \\\\\n",
       "\t5 & IFS\\_2017M11 & International Financial Statistics (IFS), 2017 M11 \\\\\n",
       "\t6 & IFS\\_2017M12 & International Financial Statistics (IFS), 2017 M12 \\\\\n",
       "\t7 & IFS\\_2018M01 & International Financial Statistics (IFS), 2018 M01 \\\\\n",
       "\t8 & IFS\\_2018M02 & International Financial Statistics (IFS), 2018 M02 \\\\\n",
       "\t9 & IFS\\_2018M03 & International Financial Statistics (IFS), 2018 M03 \\\\\n",
       "\t10 & IFS\\_2018M04 & International Financial Statistics (IFS), 2018 M04 \\\\\n",
       "\t11 & IFS\\_2018M05 & International Financial Statistics (IFS), 2018 M05  \\\\\n",
       "\t12 & IFS\\_2018M06 & International Financial Statistics (IFS), 2018 M06 \\\\\n",
       "\t13 & IFS\\_2018M07 & International Financial Statistics (IFS), 2018 M07 \\\\\n",
       "\t14 & IFS\\_2018M08 & International Financial Statistics (IFS), 2018 M08 \\\\\n",
       "\t15 & IFS\\_2018M09 & International Financial Statistics (IFS), 2018 M09 \\\\\n",
       "\t16 & IFS\\_2018M10 & International Financial Statistics (IFS), 2018 M10 \\\\\n",
       "\t17 & IFS\\_2018M11 & International Financial Statistics (IFS), 2018 M11 \\\\\n",
       "\t18 & IFS\\_2018M12 & International Financial Statistics (IFS), 2018 M12 \\\\\n",
       "\t19 & IFS\\_2019M01 & International Financial Statistics (IFS), 2019 M01 \\\\\n",
       "\t20 & IFS\\_2019M02 & International Financial Statistics (IFS), 2019 M02 \\\\\n",
       "\t21 & IFS\\_2019M03 & International Financial Statistics (IFS), 2019 M03 \\\\\n",
       "\t22 & IFS\\_2019M04 & International Financial Statistics (IFS), 2019 M04 \\\\\n",
       "\t23 & IFS\\_2019M05 & International Financial Statistics (IFS), 2019 M05 \\\\\n",
       "\t24 & IFS\\_2019M06 & International Financial Statistics (IFS), 2019 M06 \\\\\n",
       "\t25 & IFS\\_2019M07 & International Financial Statistics (IFS), 2019 M07 \\\\\n",
       "\t26 & IFS\\_2019M08 & International Financial Statistics (IFS), 2019 M08 \\\\\n",
       "\t27 & IFS\\_2019M09 & International Financial Statistics (IFS), 2019 M09 \\\\\n",
       "\t28 & IFS\\_2019M10 & International Financial Statistics (IFS), 2019 M10 \\\\\n",
       "\t29 & IFS\\_2019M11 & International Financial Statistics (IFS), 2019 M11 \\\\\n",
       "\t30 & IFS\\_2019M12 & International Financial Statistics (IFS), 2019 M12 \\\\\n",
       "\t$\\dots$ & $\\dots$ & $\\dots$ \\\\\n",
       "\\end{tabular}\n"
      ],
      "text/plain": [
       "\u001b[1m71×2 DataFrame\u001b[0m\n",
       "\u001b[1m Row \u001b[0m│\u001b[1m dataset_id       \u001b[0m\u001b[1m dataset_name                      \u001b[0m\n",
       "     │\u001b[90m String           \u001b[0m\u001b[90m String                            \u001b[0m\n",
       "─────┼─────────────────────────────────────────────────────\n",
       "   1 │ IFS               International Financial Statisti…\n",
       "   2 │ IFS_2017M08       International Financial Statisti…\n",
       "   3 │ IFS_2017M09       International Financial Statisti…\n",
       "   4 │ IFS_2017M10       International Financial Statisti…\n",
       "   5 │ IFS_2017M11       International Financial Statisti…\n",
       "   6 │ IFS_2017M12       International Financial Statisti…\n",
       "   7 │ IFS_2018M01       International Financial Statisti…\n",
       "   8 │ IFS_2018M02       International Financial Statisti…\n",
       "   9 │ IFS_2018M03       International Financial Statisti…\n",
       "  10 │ IFS_2018M04       International Financial Statisti…\n",
       "  11 │ IFS_2018M05       International Financial Statisti…\n",
       "  ⋮  │        ⋮                          ⋮\n",
       "  62 │ IFS_2022M08       International Financial Statisti…\n",
       "  63 │ IFS_2022M09       International Financial Statisti…\n",
       "  64 │ IFS_2022M10       International Financial Statisti…\n",
       "  65 │ IFS_2022M11       International Financial Statisti…\n",
       "  66 │ IFS_2023M01       International Financial Statisti…\n",
       "  67 │ IFS_2023M02       International Financial Statisti…\n",
       "  68 │ IFS_2023M03       International Financial Statisti…\n",
       "  69 │ IFS_2023M04       International Financial Statisti…\n",
       "  70 │ IFS_2023M05       International Financial Statisti…\n",
       "  71 │ IFS_DISCONTINUED  International Financial Statisti…\n",
       "\u001b[36m                                            50 rows omitted\u001b[0m"
      ]
     },
     "execution_count": 51,
     "metadata": {},
     "output_type": "execute_result"
    }
   ],
   "source": [
    "# Use @where macro from DataFramesMeta to filter based on dataset name\n",
    "ds_ifs = DataFramesMeta.@subset(datasets, DataFrames.occursin.(\"IFS\", :dataset_id))"
   ]
  },
  {
   "cell_type": "code",
   "execution_count": 51,
   "id": "fe787af2",
   "metadata": {},
   "outputs": [
    {
     "data": {
      "text/html": [
       "<div><div style = \"float: left;\"><span>26×2 DataFrame</span></div><div style = \"clear: both;\"></div></div><div class = \"data-frame\" style = \"overflow-x: scroll;\"><table class = \"data-frame\" style = \"margin-bottom: 6px;\"><thead><tr class = \"header\"><th class = \"rowNumber\" style = \"font-weight: bold; text-align: right;\">Row</th><th style = \"text-align: left;\">dataset_id</th><th style = \"text-align: left;\">dataset_name</th></tr><tr class = \"subheader headerLastRow\"><th class = \"rowNumber\" style = \"font-weight: bold; text-align: right;\"></th><th title = \"String\" style = \"text-align: left;\">String</th><th title = \"String\" style = \"text-align: left;\">String</th></tr></thead><tbody><tr><td class = \"rowNumber\" style = \"font-weight: bold; text-align: right;\">1</td><td style = \"text-align: left;\">DOT</td><td style = \"text-align: left;\">Direction of Trade Statistics (DOTS)</td></tr><tr><td class = \"rowNumber\" style = \"font-weight: bold; text-align: right;\">2</td><td style = \"text-align: left;\">DOT_2017Q1</td><td style = \"text-align: left;\">Direction of Trade Statistics (DOTS), 2017 Q1</td></tr><tr><td class = \"rowNumber\" style = \"font-weight: bold; text-align: right;\">3</td><td style = \"text-align: left;\">DOT_2017Q2</td><td style = \"text-align: left;\">Direction of Trade Statistics (DOTS), 2017 Q2</td></tr><tr><td class = \"rowNumber\" style = \"font-weight: bold; text-align: right;\">4</td><td style = \"text-align: left;\">DOT_2017Q3</td><td style = \"text-align: left;\">Direction of Trade Statistics (DOTS), 2017 Q3</td></tr><tr><td class = \"rowNumber\" style = \"font-weight: bold; text-align: right;\">5</td><td style = \"text-align: left;\">DOT_2017Q4</td><td style = \"text-align: left;\">Direction of Trade Statistics (DOTS), 2017 Q4</td></tr><tr><td class = \"rowNumber\" style = \"font-weight: bold; text-align: right;\">6</td><td style = \"text-align: left;\">DOT_2018Q1</td><td style = \"text-align: left;\">Direction of Trade Statistics (DOTS), 2018 Q1</td></tr><tr><td class = \"rowNumber\" style = \"font-weight: bold; text-align: right;\">7</td><td style = \"text-align: left;\">DOT_2018Q2</td><td style = \"text-align: left;\">Direction of Trade Statistics (DOTS), 2018 Q2</td></tr><tr><td class = \"rowNumber\" style = \"font-weight: bold; text-align: right;\">8</td><td style = \"text-align: left;\">DOT_2018Q3</td><td style = \"text-align: left;\">Direction of Trade Statistics (DOTS), 2018 Q3</td></tr><tr><td class = \"rowNumber\" style = \"font-weight: bold; text-align: right;\">9</td><td style = \"text-align: left;\">DOT_2018Q4</td><td style = \"text-align: left;\">Direction of Trade Statistics (DOTS), 2018 Q4</td></tr><tr><td class = \"rowNumber\" style = \"font-weight: bold; text-align: right;\">10</td><td style = \"text-align: left;\">DOT_2019Q1</td><td style = \"text-align: left;\">Direction of Trade Statistics (DOTS), 2019 Q1</td></tr><tr><td class = \"rowNumber\" style = \"font-weight: bold; text-align: right;\">11</td><td style = \"text-align: left;\">DOT_2019Q2</td><td style = \"text-align: left;\">Direction of Trade Statistics (DOTS), 2019 Q2</td></tr><tr><td class = \"rowNumber\" style = \"font-weight: bold; text-align: right;\">12</td><td style = \"text-align: left;\">DOT_2019Q3</td><td style = \"text-align: left;\">Direction of Trade Statistics (DOTS), 2019 Q3</td></tr><tr><td class = \"rowNumber\" style = \"font-weight: bold; text-align: right;\">13</td><td style = \"text-align: left;\">DOT_2019Q4</td><td style = \"text-align: left;\">Direction of Trade Statistics (DOTS), 2019 Q4</td></tr><tr><td class = \"rowNumber\" style = \"font-weight: bold; text-align: right;\">14</td><td style = \"text-align: left;\">DOT_2020Q1</td><td style = \"text-align: left;\">Direction of Trade Statistics (DOTS), 2020 Q1</td></tr><tr><td class = \"rowNumber\" style = \"font-weight: bold; text-align: right;\">15</td><td style = \"text-align: left;\">DOT_2020Q2</td><td style = \"text-align: left;\">Direction of Trade Statistics (DOTS), 2020 Q2</td></tr><tr><td class = \"rowNumber\" style = \"font-weight: bold; text-align: right;\">16</td><td style = \"text-align: left;\">DOT_2020Q3</td><td style = \"text-align: left;\">Direction of Trade Statistics (DOTS), 2020 Q3</td></tr><tr><td class = \"rowNumber\" style = \"font-weight: bold; text-align: right;\">17</td><td style = \"text-align: left;\">DOT_2020Q4</td><td style = \"text-align: left;\">Direction of Trade Statistics (DOTS), 2020 Q4</td></tr><tr><td class = \"rowNumber\" style = \"font-weight: bold; text-align: right;\">18</td><td style = \"text-align: left;\">DOT_2021Q1</td><td style = \"text-align: left;\">Direction of Trade Statistics (DOTS), 2021 Q1</td></tr><tr><td class = \"rowNumber\" style = \"font-weight: bold; text-align: right;\">19</td><td style = \"text-align: left;\">DOT_2021Q2</td><td style = \"text-align: left;\">Direction of Trade Statistics (DOTS), 2021 Q2</td></tr><tr><td class = \"rowNumber\" style = \"font-weight: bold; text-align: right;\">20</td><td style = \"text-align: left;\">DOT_2021Q3</td><td style = \"text-align: left;\">Direction of Trade Statistics (DOTS), 2021 Q3</td></tr><tr><td class = \"rowNumber\" style = \"font-weight: bold; text-align: right;\">21</td><td style = \"text-align: left;\">DOT_2021Q4</td><td style = \"text-align: left;\">Direction of Trade Statistics (DOTS), 2021 Q4</td></tr><tr><td class = \"rowNumber\" style = \"font-weight: bold; text-align: right;\">22</td><td style = \"text-align: left;\">DOT_2022Q1</td><td style = \"text-align: left;\">Direction of Trade Statistics (DOTS), 2022 Q1</td></tr><tr><td class = \"rowNumber\" style = \"font-weight: bold; text-align: right;\">23</td><td style = \"text-align: left;\">DOT_2022Q2</td><td style = \"text-align: left;\">Direction of Trade Statistics (DOTS), 2022 Q2</td></tr><tr><td class = \"rowNumber\" style = \"font-weight: bold; text-align: right;\">24</td><td style = \"text-align: left;\">DOT_2022Q3</td><td style = \"text-align: left;\">Direction of Trade Statistics (DOTS), 2022 Q3</td></tr><tr><td class = \"rowNumber\" style = \"font-weight: bold; text-align: right;\">25</td><td style = \"text-align: left;\">DOT_2022Q4</td><td style = \"text-align: left;\">Direction of Trade Statistics (DOTS), 2022 Q4</td></tr><tr><td class = \"rowNumber\" style = \"font-weight: bold; text-align: right;\">26</td><td style = \"text-align: left;\">DOT_2023Q1</td><td style = \"text-align: left;\">Direction of Trade Statistics (DOTS), 2023 Q1</td></tr></tbody></table></div>"
      ],
      "text/latex": [
       "\\begin{tabular}{r|cc}\n",
       "\t& dataset\\_id & dataset\\_name\\\\\n",
       "\t\\hline\n",
       "\t& String & String\\\\\n",
       "\t\\hline\n",
       "\t1 & DOT & Direction of Trade Statistics (DOTS) \\\\\n",
       "\t2 & DOT\\_2017Q1 & Direction of Trade Statistics (DOTS), 2017 Q1 \\\\\n",
       "\t3 & DOT\\_2017Q2 & Direction of Trade Statistics (DOTS), 2017 Q2 \\\\\n",
       "\t4 & DOT\\_2017Q3 & Direction of Trade Statistics (DOTS), 2017 Q3 \\\\\n",
       "\t5 & DOT\\_2017Q4 & Direction of Trade Statistics (DOTS), 2017 Q4 \\\\\n",
       "\t6 & DOT\\_2018Q1 & Direction of Trade Statistics (DOTS), 2018 Q1 \\\\\n",
       "\t7 & DOT\\_2018Q2 & Direction of Trade Statistics (DOTS), 2018 Q2 \\\\\n",
       "\t8 & DOT\\_2018Q3 & Direction of Trade Statistics (DOTS), 2018 Q3 \\\\\n",
       "\t9 & DOT\\_2018Q4 & Direction of Trade Statistics (DOTS), 2018 Q4 \\\\\n",
       "\t10 & DOT\\_2019Q1 & Direction of Trade Statistics (DOTS), 2019 Q1 \\\\\n",
       "\t11 & DOT\\_2019Q2 & Direction of Trade Statistics (DOTS), 2019 Q2 \\\\\n",
       "\t12 & DOT\\_2019Q3 & Direction of Trade Statistics (DOTS), 2019 Q3 \\\\\n",
       "\t13 & DOT\\_2019Q4 & Direction of Trade Statistics (DOTS), 2019 Q4 \\\\\n",
       "\t14 & DOT\\_2020Q1 & Direction of Trade Statistics (DOTS), 2020 Q1 \\\\\n",
       "\t15 & DOT\\_2020Q2 & Direction of Trade Statistics (DOTS), 2020 Q2 \\\\\n",
       "\t16 & DOT\\_2020Q3 & Direction of Trade Statistics (DOTS), 2020 Q3 \\\\\n",
       "\t17 & DOT\\_2020Q4 & Direction of Trade Statistics (DOTS), 2020 Q4 \\\\\n",
       "\t18 & DOT\\_2021Q1 & Direction of Trade Statistics (DOTS), 2021 Q1 \\\\\n",
       "\t19 & DOT\\_2021Q2 & Direction of Trade Statistics (DOTS), 2021 Q2 \\\\\n",
       "\t20 & DOT\\_2021Q3 & Direction of Trade Statistics (DOTS), 2021 Q3 \\\\\n",
       "\t21 & DOT\\_2021Q4 & Direction of Trade Statistics (DOTS), 2021 Q4 \\\\\n",
       "\t22 & DOT\\_2022Q1 & Direction of Trade Statistics (DOTS), 2022 Q1 \\\\\n",
       "\t23 & DOT\\_2022Q2 & Direction of Trade Statistics (DOTS), 2022 Q2 \\\\\n",
       "\t24 & DOT\\_2022Q3 & Direction of Trade Statistics (DOTS), 2022 Q3 \\\\\n",
       "\t25 & DOT\\_2022Q4 & Direction of Trade Statistics (DOTS), 2022 Q4 \\\\\n",
       "\t26 & DOT\\_2023Q1 & Direction of Trade Statistics (DOTS), 2023 Q1 \\\\\n",
       "\\end{tabular}\n"
      ],
      "text/plain": [
       "\u001b[1m26×2 DataFrame\u001b[0m\n",
       "\u001b[1m Row \u001b[0m│\u001b[1m dataset_id \u001b[0m\u001b[1m dataset_name                      \u001b[0m\n",
       "     │\u001b[90m String     \u001b[0m\u001b[90m String                            \u001b[0m\n",
       "─────┼───────────────────────────────────────────────\n",
       "   1 │ DOT         Direction of Trade Statistics (D…\n",
       "   2 │ DOT_2017Q1  Direction of Trade Statistics (D…\n",
       "   3 │ DOT_2017Q2  Direction of Trade Statistics (D…\n",
       "   4 │ DOT_2017Q3  Direction of Trade Statistics (D…\n",
       "   5 │ DOT_2017Q4  Direction of Trade Statistics (D…\n",
       "   6 │ DOT_2018Q1  Direction of Trade Statistics (D…\n",
       "   7 │ DOT_2018Q2  Direction of Trade Statistics (D…\n",
       "   8 │ DOT_2018Q3  Direction of Trade Statistics (D…\n",
       "   9 │ DOT_2018Q4  Direction of Trade Statistics (D…\n",
       "  10 │ DOT_2019Q1  Direction of Trade Statistics (D…\n",
       "  11 │ DOT_2019Q2  Direction of Trade Statistics (D…\n",
       "  ⋮  │     ⋮                       ⋮\n",
       "  17 │ DOT_2020Q4  Direction of Trade Statistics (D…\n",
       "  18 │ DOT_2021Q1  Direction of Trade Statistics (D…\n",
       "  19 │ DOT_2021Q2  Direction of Trade Statistics (D…\n",
       "  20 │ DOT_2021Q3  Direction of Trade Statistics (D…\n",
       "  21 │ DOT_2021Q4  Direction of Trade Statistics (D…\n",
       "  22 │ DOT_2022Q1  Direction of Trade Statistics (D…\n",
       "  23 │ DOT_2022Q2  Direction of Trade Statistics (D…\n",
       "  24 │ DOT_2022Q3  Direction of Trade Statistics (D…\n",
       "  25 │ DOT_2022Q4  Direction of Trade Statistics (D…\n",
       "  26 │ DOT_2023Q1  Direction of Trade Statistics (D…\n",
       "\u001b[36m                                       5 rows omitted\u001b[0m"
      ]
     },
     "execution_count": 52,
     "metadata": {},
     "output_type": "execute_result"
    }
   ],
   "source": [
    "ds_dot = DataFramesMeta.@subset(datasets, DataFrames.occursin.(\"DOT\", :dataset_id))"
   ]
  },
  {
   "cell_type": "code",
   "execution_count": 52,
   "id": "a4210498",
   "metadata": {},
   "outputs": [
    {
     "data": {
      "text/plain": [
       "Dict{String, Any} with 2 entries:\n",
       "  \"Parameter Names\"  => \u001b[1m5×2 DataFrame\u001b[0m\u001b[0m…\n",
       "  \"Parameter Values\" => Dict{Any, Any}(\"CL_INDICATOR_IFS\"=>\u001b[1m1679×2 DataFrame\u001b[0m\u001b[0m…"
      ]
     },
     "execution_count": 53,
     "metadata": {},
     "output_type": "execute_result"
    }
   ],
   "source": [
    "ifs_structure  = IMFData.get_imf_datastructure(\"IFS\")"
   ]
  },
  {
   "cell_type": "markdown",
   "id": "80c6bd20",
   "metadata": {},
   "source": [
    "## Search for GDP indicators\n"
   ]
  },
  {
   "cell_type": "code",
   "execution_count": 53,
   "id": "3cbb3620",
   "metadata": {},
   "outputs": [
    {
     "data": {
      "text/plain": [
       "\"C:\\\\Directorio_Trabajo\\\\Julia\\\\IMFData/ifs_gdp_indicators.csv\""
      ]
     },
     "execution_count": 54,
     "metadata": {},
     "output_type": "execute_result"
    }
   ],
   "source": [
    "ifs_indicators = ifs_structure[\"Parameter Values\"][\"CL_INDICATOR_IFS\"]\n",
    "gdp_indicators = DataFramesMeta.@subset(\n",
    "    ifs_indicators,\n",
    "    DataFrames.occursin.(\"Gross Domestic Product\", :description),\n",
    "    DataFrames.occursin.(\"Domestic Currency\", :description))\n",
    "CSV.write(wd * \"/ifs_gdp_indicators.csv\", gdp_indicators; delim='\\t')"
   ]
  },
  {
   "cell_type": "markdown",
   "id": "69e66e29",
   "metadata": {},
   "source": [
    "## Availability of Data\n"
   ]
  },
  {
   "cell_type": "code",
   "execution_count": 54,
   "id": "6fe38570",
   "metadata": {},
   "outputs": [
    {
     "data": {
      "text/plain": [
       "IMF Data Series\n",
       "Database: IFS\n",
       "Area: US\n",
       "Indicator: NGDP_SA_XDC\n",
       "Description: \n",
       "Frequency: Q\n",
       "Time Period: 1950 to 2023\n",
       "Data: 293 x 2 DataFrame\n"
      ]
     },
     "execution_count": 55,
     "metadata": {},
     "output_type": "execute_result"
    }
   ],
   "source": [
    "indic = \"NGDP_SA_XDC\"\n",
    "area  = \"US\"\n",
    "data_available = IMFData.get_ifs_data(area, indic, \"Q\", 1900, 2100)"
   ]
  },
  {
   "cell_type": "code",
   "execution_count": 55,
   "id": "c9354b2d",
   "metadata": {},
   "outputs": [
    {
     "data": {
      "text/plain": [
       "IMF Data Series\n",
       "Database: IFS\n",
       "Area: US\n",
       "Indicator: NGDP_SA_XDC\n",
       "Time Period: 1900 to 2100\n",
       "Note: Indicator not defined for the given area or time period\n"
      ]
     },
     "execution_count": 56,
     "metadata": {},
     "output_type": "execute_result"
    }
   ],
   "source": [
    "data_not_available = get_ifs_data(area, indic, \"M\", 1900, 2100)"
   ]
  },
  {
   "cell_type": "code",
   "execution_count": 56,
   "id": "e086dd06",
   "metadata": {},
   "outputs": [
    {
     "data": {
      "text/plain": [
       "IMF Data Series\n",
       "Database: IFS\n",
       "Area: US\n",
       "Indicator: NGDP_SA\n",
       "Time Period: 1900 to 2100\n",
       "Note: Indicator not defined for the given area or time period\n"
      ]
     },
     "execution_count": 57,
     "metadata": {},
     "output_type": "execute_result"
    }
   ],
   "source": [
    "data_not_defined = get_ifs_data(area, \"NGDP_SA\", \"Q\", 1900, 2100)"
   ]
  }
 ],
 "metadata": {
  "kernelspec": {
   "display_name": "Julia 1.9.1",
   "language": "julia",
   "name": "julia-1.9"
  },
  "language_info": {
   "file_extension": ".jl",
   "mimetype": "application/julia",
   "name": "julia",
   "version": "1.9.1"
  }
 },
 "nbformat": 4,
 "nbformat_minor": 5
}
